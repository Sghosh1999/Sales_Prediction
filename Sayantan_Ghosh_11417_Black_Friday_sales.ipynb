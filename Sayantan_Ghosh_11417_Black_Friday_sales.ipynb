{
 "cells": [
  {
   "cell_type": "markdown",
   "metadata": {},
   "source": [
    "# Black Friday Sales Prediction\n",
    "\n",
    "### Sayantan Ghosh\n",
    "### EmpId: 11417\n",
    "\n",
    "## Problem Statement: \n",
    "\n",
    "* A retail company “ABC Private Limited” wants to understand the customer purchase behaviour (specifically, purchase amount) against various products of different categories. They have shared purchase summary of various customers for selected high volume products from last month.\n",
    "\n",
    "* The data set also contains customer demographics (age, gender, marital status, city_type, stay_in_current_city), product details (product_id and product category) and Total purchase_amount from last month.\n",
    "\n",
    "* Now, they want to build a model to predict the purchase amount of customer against various products which will help them to create personalized offer for customers against different products.\n",
    "\n",
    "### Data Dictionary:"
   ]
  },
  {
   "cell_type": "markdown",
   "metadata": {},
   "source": [
    "| Variable | Description |\n",
    "| --- | --- |\n",
    "| User_ID | User_ID |\n",
    "| Product_ID | Product ID |\n",
    "| Gender | Sex of User |\n",
    "| Age | Age in bins |\n",
    "| Occupation | Occupation (Masked) |\n",
    "| City_Category | Category of the City (A,B,C) |\n",
    "| Stay_In_Current_City_Years | Number of years stay in current city |\n",
    "| Marital_Status | Marital Status |\n",
    "| Product_Category_1 | Product Category (Masked) |\n",
    "| Product_Category_2 | Product may belongs to other category also (Masked) |\n",
    "| Product_Category_3 | Product may belongs to other category also (Masked) |\n",
    "| Purchase | Purchase Amount (Target Variable) |"
   ]
  },
  {
   "cell_type": "markdown",
   "metadata": {},
   "source": [
    "---------------------------------------------------------------------------------------------------------------------------"
   ]
  },
  {
   "cell_type": "markdown",
   "metadata": {},
   "source": [
    "## <u>Contents of the Notebook </u>\n",
    "\n",
    "### 1 Data Preprocessing\n",
    "    1.1 Missing Values Handling\n",
    "    1.2 Analyzing Duplicate Columns as well as Quasi Constant Values\n",
    "    1.3 Outlier Detection\n",
    "    \n",
    "    \n",
    "    \n",
    "### 2 Training and validation Split\n",
    "    - I have splitted the data into traning and validation before Feature engineering to avoid Output Leakage. I have mapped the transformations to the validation and test data later.\n",
    "\n",
    "\n",
    "### 3 Exploatory data Analysis\n",
    "    - In this section I have showed all the inferences I got from the datasets and also some patterns which I have noticed. In this section I have tried to figure out some questions which will be helpful for future analysis.\n",
    "    3.1 Purchase Amount dependency with product categories. \n",
    "    3.2 How Purchase amount is varrying with Age Group.\n",
    "    3.3 How Purchase amount is varrying with City category and gender.\n",
    "    3.4 How stay duration is related with Purchase frequency.\n",
    "    3.5 Most popular products among dfferent Age groups\n",
    "    3.6 Most Costly Products\n",
    "    3.7 Trend between Age group and Martial Status\n",
    "    3.8 How Purchase is varrying with Occupation status\n",
    "    3.9 Univariate Analysis\n",
    "    \n",
    "    \n",
    "### 4 Feature engineering\n",
    "    4.1 Derving New features based on EDA - I have derived 8 new features based on EDA inferences.\n",
    "        4.1.1 Total category\n",
    "        4.1.2 Product_popularity_Score\n",
    "        4.1.3 User_popularity_Score\n",
    "        4.1.4 Occupation_Score\n",
    "        4.1.5 Age_Gender_Ratio\n",
    "        4.1.6 Population_Duration\n",
    "        4.1.7 Cat1_Popularity_per_User\n",
    "        4.1.8 Category1_Group\n",
    "    4.2 Encoding of the categorical Columns\n",
    "        4.2.1 Encoding Methodology of the Gender Column\n",
    "        4.2.2 Encoding Methodology of the Age Column\n",
    "        4.2.3 Encoding Methodology of City Category Column\n",
    "        4.2.4 Encoding Methodology of Stay_In_Current_City_Years Column\n",
    "        4.2.5 Dropping the ID columns\n",
    "    \n",
    "    \n",
    "\n",
    "### 5 Mapping the Feature Engineering Functions to the Validation Set\n",
    "\n",
    "### 6 Feature Selection Methodologies\n",
    "    6.1 Recursive Feature Elemination\n",
    "    6.2 Feature Importance Curve\n",
    "    6.3 RMSE Score Dependency among different Feature Subset.\n",
    "    \n",
    "### 7 Model Selection and hyper Parameter tuning\n",
    "\n",
    "    "
   ]
  },
  {
   "cell_type": "markdown",
   "metadata": {},
   "source": [
    "----------------------------------------------------------------------------------------------------------------------------"
   ]
  },
  {
   "cell_type": "code",
   "execution_count": 281,
   "metadata": {},
   "outputs": [],
   "source": [
    "#Importing necessary libraries\n",
    "import pandas as pd\n",
    "import numpy as np\n",
    "import seaborn as sns\n",
    "import matplotlib.pyplot as plt\n",
    "sns.set()\n",
    "\n",
    "\n",
    "#Encoding Libraries\n",
    "from sklearn.preprocessing import LabelEncoder,OneHotEncoder\n",
    "\n",
    "#Feature Selection\n",
    "from sklearn.feature_selection import VarianceThreshold\n",
    "\n",
    "\n",
    "from scipy import stats\n",
    "from scipy.stats import norm, skew\n",
    "\n",
    "#Library for Model Selection\n",
    "from sklearn.feature_selection import RFE\n",
    "from sklearn.model_selection import KFold\n",
    "from sklearn.model_selection import GridSearchCV\n",
    "from sklearn.datasets import make_regression\n",
    "from sklearn.ensemble import RandomForestRegressor\n",
    "from sklearn.tree import DecisionTreeRegressor\n",
    "from xgboost.sklearn import XGBRegressor\n",
    "from sklearn.linear_model import Lasso\n",
    "from sklearn.metrics import mean_squared_error\n",
    "\n",
    "\n",
    "import warnings\n",
    "warnings.filterwarnings('ignore')"
   ]
  },
  {
   "cell_type": "markdown",
   "metadata": {},
   "source": [
    "## Data loading"
   ]
  },
  {
   "cell_type": "code",
   "execution_count": 118,
   "metadata": {},
   "outputs": [],
   "source": [
    "#Loading the train and test dataset\n",
    "sales_data_train = pd.read_csv('./train_data/train.csv')\n",
    "\n",
    "\n",
    "sales_data_test = pd.read_csv('./test_data/test.csv')\n",
    "\n",
    "\n",
    "\n",
    "submission = pd.read_csv('sample_submission_sayantan.csv')\n",
    "\n",
    "submission['Purchase'] = 0\n",
    "submission['User_ID'] = sales_data_test['User_ID']\n",
    "submission['Product_ID'] = sales_data_test['Product_ID']"
   ]
  },
  {
   "cell_type": "code",
   "execution_count": 119,
   "metadata": {},
   "outputs": [
    {
     "data": {
      "text/html": [
       "<div>\n",
       "<style scoped>\n",
       "    .dataframe tbody tr th:only-of-type {\n",
       "        vertical-align: middle;\n",
       "    }\n",
       "\n",
       "    .dataframe tbody tr th {\n",
       "        vertical-align: top;\n",
       "    }\n",
       "\n",
       "    .dataframe thead th {\n",
       "        text-align: right;\n",
       "    }\n",
       "</style>\n",
       "<table border=\"1\" class=\"dataframe\">\n",
       "  <thead>\n",
       "    <tr style=\"text-align: right;\">\n",
       "      <th></th>\n",
       "      <th>Purchase</th>\n",
       "      <th>User_ID</th>\n",
       "      <th>Product_ID</th>\n",
       "    </tr>\n",
       "  </thead>\n",
       "  <tbody>\n",
       "    <tr>\n",
       "      <th>0</th>\n",
       "      <td>0</td>\n",
       "      <td>1000004</td>\n",
       "      <td>P00128942</td>\n",
       "    </tr>\n",
       "    <tr>\n",
       "      <th>1</th>\n",
       "      <td>0</td>\n",
       "      <td>1000009</td>\n",
       "      <td>P00113442</td>\n",
       "    </tr>\n",
       "    <tr>\n",
       "      <th>2</th>\n",
       "      <td>0</td>\n",
       "      <td>1000010</td>\n",
       "      <td>P00288442</td>\n",
       "    </tr>\n",
       "    <tr>\n",
       "      <th>3</th>\n",
       "      <td>0</td>\n",
       "      <td>1000010</td>\n",
       "      <td>P00145342</td>\n",
       "    </tr>\n",
       "    <tr>\n",
       "      <th>4</th>\n",
       "      <td>0</td>\n",
       "      <td>1000011</td>\n",
       "      <td>P00053842</td>\n",
       "    </tr>\n",
       "  </tbody>\n",
       "</table>\n",
       "</div>"
      ],
      "text/plain": [
       "   Purchase  User_ID Product_ID\n",
       "0         0  1000004  P00128942\n",
       "1         0  1000009  P00113442\n",
       "2         0  1000010  P00288442\n",
       "3         0  1000010  P00145342\n",
       "4         0  1000011  P00053842"
      ]
     },
     "execution_count": 119,
     "metadata": {},
     "output_type": "execute_result"
    }
   ],
   "source": [
    "submission.head()"
   ]
  },
  {
   "cell_type": "code",
   "execution_count": 120,
   "metadata": {},
   "outputs": [
    {
     "data": {
      "text/plain": [
       "(233599, 3)"
      ]
     },
     "execution_count": 120,
     "metadata": {},
     "output_type": "execute_result"
    }
   ],
   "source": [
    "submission.shape"
   ]
  },
  {
   "cell_type": "code",
   "execution_count": 121,
   "metadata": {},
   "outputs": [
    {
     "data": {
      "text/html": [
       "<div>\n",
       "<style scoped>\n",
       "    .dataframe tbody tr th:only-of-type {\n",
       "        vertical-align: middle;\n",
       "    }\n",
       "\n",
       "    .dataframe tbody tr th {\n",
       "        vertical-align: top;\n",
       "    }\n",
       "\n",
       "    .dataframe thead th {\n",
       "        text-align: right;\n",
       "    }\n",
       "</style>\n",
       "<table border=\"1\" class=\"dataframe\">\n",
       "  <thead>\n",
       "    <tr style=\"text-align: right;\">\n",
       "      <th></th>\n",
       "      <th>User_ID</th>\n",
       "      <th>Product_ID</th>\n",
       "      <th>Gender</th>\n",
       "      <th>Age</th>\n",
       "      <th>Occupation</th>\n",
       "      <th>City_Category</th>\n",
       "      <th>Stay_In_Current_City_Years</th>\n",
       "      <th>Marital_Status</th>\n",
       "      <th>Product_Category_1</th>\n",
       "      <th>Product_Category_2</th>\n",
       "      <th>Product_Category_3</th>\n",
       "    </tr>\n",
       "  </thead>\n",
       "  <tbody>\n",
       "    <tr>\n",
       "      <th>0</th>\n",
       "      <td>1000004</td>\n",
       "      <td>P00128942</td>\n",
       "      <td>M</td>\n",
       "      <td>46-50</td>\n",
       "      <td>7</td>\n",
       "      <td>B</td>\n",
       "      <td>2</td>\n",
       "      <td>1</td>\n",
       "      <td>1</td>\n",
       "      <td>11.0</td>\n",
       "      <td>NaN</td>\n",
       "    </tr>\n",
       "    <tr>\n",
       "      <th>1</th>\n",
       "      <td>1000009</td>\n",
       "      <td>P00113442</td>\n",
       "      <td>M</td>\n",
       "      <td>26-35</td>\n",
       "      <td>17</td>\n",
       "      <td>C</td>\n",
       "      <td>0</td>\n",
       "      <td>0</td>\n",
       "      <td>3</td>\n",
       "      <td>5.0</td>\n",
       "      <td>NaN</td>\n",
       "    </tr>\n",
       "    <tr>\n",
       "      <th>2</th>\n",
       "      <td>1000010</td>\n",
       "      <td>P00288442</td>\n",
       "      <td>F</td>\n",
       "      <td>36-45</td>\n",
       "      <td>1</td>\n",
       "      <td>B</td>\n",
       "      <td>4+</td>\n",
       "      <td>1</td>\n",
       "      <td>5</td>\n",
       "      <td>14.0</td>\n",
       "      <td>NaN</td>\n",
       "    </tr>\n",
       "    <tr>\n",
       "      <th>3</th>\n",
       "      <td>1000010</td>\n",
       "      <td>P00145342</td>\n",
       "      <td>F</td>\n",
       "      <td>36-45</td>\n",
       "      <td>1</td>\n",
       "      <td>B</td>\n",
       "      <td>4+</td>\n",
       "      <td>1</td>\n",
       "      <td>4</td>\n",
       "      <td>9.0</td>\n",
       "      <td>NaN</td>\n",
       "    </tr>\n",
       "    <tr>\n",
       "      <th>4</th>\n",
       "      <td>1000011</td>\n",
       "      <td>P00053842</td>\n",
       "      <td>F</td>\n",
       "      <td>26-35</td>\n",
       "      <td>1</td>\n",
       "      <td>C</td>\n",
       "      <td>1</td>\n",
       "      <td>0</td>\n",
       "      <td>4</td>\n",
       "      <td>5.0</td>\n",
       "      <td>12.0</td>\n",
       "    </tr>\n",
       "  </tbody>\n",
       "</table>\n",
       "</div>"
      ],
      "text/plain": [
       "   User_ID Product_ID Gender    Age  Occupation City_Category  \\\n",
       "0  1000004  P00128942      M  46-50           7             B   \n",
       "1  1000009  P00113442      M  26-35          17             C   \n",
       "2  1000010  P00288442      F  36-45           1             B   \n",
       "3  1000010  P00145342      F  36-45           1             B   \n",
       "4  1000011  P00053842      F  26-35           1             C   \n",
       "\n",
       "  Stay_In_Current_City_Years  Marital_Status  Product_Category_1  \\\n",
       "0                          2               1                   1   \n",
       "1                          0               0                   3   \n",
       "2                         4+               1                   5   \n",
       "3                         4+               1                   4   \n",
       "4                          1               0                   4   \n",
       "\n",
       "   Product_Category_2  Product_Category_3  \n",
       "0                11.0                 NaN  \n",
       "1                 5.0                 NaN  \n",
       "2                14.0                 NaN  \n",
       "3                 9.0                 NaN  \n",
       "4                 5.0                12.0  "
      ]
     },
     "execution_count": 121,
     "metadata": {},
     "output_type": "execute_result"
    }
   ],
   "source": [
    "sales_data_test.head()"
   ]
  },
  {
   "cell_type": "code",
   "execution_count": 122,
   "metadata": {},
   "outputs": [
    {
     "data": {
      "text/plain": [
       "(233599, 11)"
      ]
     },
     "execution_count": 122,
     "metadata": {},
     "output_type": "execute_result"
    }
   ],
   "source": [
    "sales_data_test.shape"
   ]
  },
  {
   "cell_type": "code",
   "execution_count": 123,
   "metadata": {},
   "outputs": [
    {
     "data": {
      "text/html": [
       "<div>\n",
       "<style scoped>\n",
       "    .dataframe tbody tr th:only-of-type {\n",
       "        vertical-align: middle;\n",
       "    }\n",
       "\n",
       "    .dataframe tbody tr th {\n",
       "        vertical-align: top;\n",
       "    }\n",
       "\n",
       "    .dataframe thead th {\n",
       "        text-align: right;\n",
       "    }\n",
       "</style>\n",
       "<table border=\"1\" class=\"dataframe\">\n",
       "  <thead>\n",
       "    <tr style=\"text-align: right;\">\n",
       "      <th></th>\n",
       "      <th>User_ID</th>\n",
       "      <th>Product_ID</th>\n",
       "      <th>Gender</th>\n",
       "      <th>Age</th>\n",
       "      <th>Occupation</th>\n",
       "      <th>City_Category</th>\n",
       "      <th>Stay_In_Current_City_Years</th>\n",
       "      <th>Marital_Status</th>\n",
       "      <th>Product_Category_1</th>\n",
       "      <th>Product_Category_2</th>\n",
       "      <th>Product_Category_3</th>\n",
       "      <th>Purchase</th>\n",
       "    </tr>\n",
       "  </thead>\n",
       "  <tbody>\n",
       "    <tr>\n",
       "      <th>0</th>\n",
       "      <td>1000001</td>\n",
       "      <td>P00069042</td>\n",
       "      <td>F</td>\n",
       "      <td>0-17</td>\n",
       "      <td>10</td>\n",
       "      <td>A</td>\n",
       "      <td>2</td>\n",
       "      <td>0</td>\n",
       "      <td>3</td>\n",
       "      <td>NaN</td>\n",
       "      <td>NaN</td>\n",
       "      <td>8370</td>\n",
       "    </tr>\n",
       "    <tr>\n",
       "      <th>1</th>\n",
       "      <td>1000001</td>\n",
       "      <td>P00248942</td>\n",
       "      <td>F</td>\n",
       "      <td>0-17</td>\n",
       "      <td>10</td>\n",
       "      <td>A</td>\n",
       "      <td>2</td>\n",
       "      <td>0</td>\n",
       "      <td>1</td>\n",
       "      <td>6.0</td>\n",
       "      <td>14.0</td>\n",
       "      <td>15200</td>\n",
       "    </tr>\n",
       "    <tr>\n",
       "      <th>2</th>\n",
       "      <td>1000001</td>\n",
       "      <td>P00087842</td>\n",
       "      <td>F</td>\n",
       "      <td>0-17</td>\n",
       "      <td>10</td>\n",
       "      <td>A</td>\n",
       "      <td>2</td>\n",
       "      <td>0</td>\n",
       "      <td>12</td>\n",
       "      <td>NaN</td>\n",
       "      <td>NaN</td>\n",
       "      <td>1422</td>\n",
       "    </tr>\n",
       "    <tr>\n",
       "      <th>3</th>\n",
       "      <td>1000001</td>\n",
       "      <td>P00085442</td>\n",
       "      <td>F</td>\n",
       "      <td>0-17</td>\n",
       "      <td>10</td>\n",
       "      <td>A</td>\n",
       "      <td>2</td>\n",
       "      <td>0</td>\n",
       "      <td>12</td>\n",
       "      <td>14.0</td>\n",
       "      <td>NaN</td>\n",
       "      <td>1057</td>\n",
       "    </tr>\n",
       "    <tr>\n",
       "      <th>4</th>\n",
       "      <td>1000002</td>\n",
       "      <td>P00285442</td>\n",
       "      <td>M</td>\n",
       "      <td>55+</td>\n",
       "      <td>16</td>\n",
       "      <td>C</td>\n",
       "      <td>4+</td>\n",
       "      <td>0</td>\n",
       "      <td>8</td>\n",
       "      <td>NaN</td>\n",
       "      <td>NaN</td>\n",
       "      <td>7969</td>\n",
       "    </tr>\n",
       "  </tbody>\n",
       "</table>\n",
       "</div>"
      ],
      "text/plain": [
       "   User_ID Product_ID Gender   Age  Occupation City_Category  \\\n",
       "0  1000001  P00069042      F  0-17          10             A   \n",
       "1  1000001  P00248942      F  0-17          10             A   \n",
       "2  1000001  P00087842      F  0-17          10             A   \n",
       "3  1000001  P00085442      F  0-17          10             A   \n",
       "4  1000002  P00285442      M   55+          16             C   \n",
       "\n",
       "  Stay_In_Current_City_Years  Marital_Status  Product_Category_1  \\\n",
       "0                          2               0                   3   \n",
       "1                          2               0                   1   \n",
       "2                          2               0                  12   \n",
       "3                          2               0                  12   \n",
       "4                         4+               0                   8   \n",
       "\n",
       "   Product_Category_2  Product_Category_3  Purchase  \n",
       "0                 NaN                 NaN      8370  \n",
       "1                 6.0                14.0     15200  \n",
       "2                 NaN                 NaN      1422  \n",
       "3                14.0                 NaN      1057  \n",
       "4                 NaN                 NaN      7969  "
      ]
     },
     "execution_count": 123,
     "metadata": {},
     "output_type": "execute_result"
    }
   ],
   "source": [
    "#Looking the first 5 rows of the train dataset\n",
    "sales_data_train.head()"
   ]
  },
  {
   "cell_type": "code",
   "execution_count": 124,
   "metadata": {},
   "outputs": [
    {
     "name": "stdout",
     "output_type": "stream",
     "text": [
      "Train Datset shape : (550068, 12)\n",
      "Test Datset shape : (233599, 11)\n"
     ]
    }
   ],
   "source": [
    "#Shape of the Train Data\n",
    "print(f\"Train Datset shape : {sales_data_train.shape}\")\n",
    "\n",
    "#Shape of the Test Data\n",
    "print(f\"Test Datset shape : {sales_data_test.shape}\")"
   ]
  },
  {
   "cell_type": "code",
   "execution_count": 125,
   "metadata": {},
   "outputs": [
    {
     "name": "stdout",
     "output_type": "stream",
     "text": [
      "Index(['User_ID', 'Product_ID', 'Gender', 'Age', 'Occupation', 'City_Category',\n",
      "       'Stay_In_Current_City_Years', 'Marital_Status', 'Product_Category_1',\n",
      "       'Product_Category_2', 'Product_Category_3', 'Purchase'],\n",
      "      dtype='object')\n"
     ]
    }
   ],
   "source": [
    "# Dataset Columns\n",
    "print(sales_data_train.columns)"
   ]
  },
  {
   "cell_type": "code",
   "execution_count": 126,
   "metadata": {},
   "outputs": [
    {
     "name": "stdout",
     "output_type": "stream",
     "text": [
      "<class 'pandas.core.frame.DataFrame'>\n",
      "RangeIndex: 550068 entries, 0 to 550067\n",
      "Data columns (total 12 columns):\n",
      " #   Column                      Non-Null Count   Dtype  \n",
      "---  ------                      --------------   -----  \n",
      " 0   User_ID                     550068 non-null  int64  \n",
      " 1   Product_ID                  550068 non-null  object \n",
      " 2   Gender                      550068 non-null  object \n",
      " 3   Age                         550068 non-null  object \n",
      " 4   Occupation                  550068 non-null  int64  \n",
      " 5   City_Category               550068 non-null  object \n",
      " 6   Stay_In_Current_City_Years  550068 non-null  object \n",
      " 7   Marital_Status              550068 non-null  int64  \n",
      " 8   Product_Category_1          550068 non-null  int64  \n",
      " 9   Product_Category_2          376430 non-null  float64\n",
      " 10  Product_Category_3          166821 non-null  float64\n",
      " 11  Purchase                    550068 non-null  int64  \n",
      "dtypes: float64(2), int64(5), object(5)\n",
      "memory usage: 50.4+ MB\n"
     ]
    }
   ],
   "source": [
    "#Lets checkout the dataypes of the data\n",
    "sales_data_train.info()"
   ]
  },
  {
   "cell_type": "code",
   "execution_count": 127,
   "metadata": {},
   "outputs": [
    {
     "data": {
      "text/html": [
       "<div>\n",
       "<style scoped>\n",
       "    .dataframe tbody tr th:only-of-type {\n",
       "        vertical-align: middle;\n",
       "    }\n",
       "\n",
       "    .dataframe tbody tr th {\n",
       "        vertical-align: top;\n",
       "    }\n",
       "\n",
       "    .dataframe thead th {\n",
       "        text-align: right;\n",
       "    }\n",
       "</style>\n",
       "<table border=\"1\" class=\"dataframe\">\n",
       "  <thead>\n",
       "    <tr style=\"text-align: right;\">\n",
       "      <th></th>\n",
       "      <th>User_ID</th>\n",
       "      <th>Occupation</th>\n",
       "      <th>Marital_Status</th>\n",
       "      <th>Product_Category_1</th>\n",
       "      <th>Product_Category_2</th>\n",
       "      <th>Product_Category_3</th>\n",
       "      <th>Purchase</th>\n",
       "    </tr>\n",
       "  </thead>\n",
       "  <tbody>\n",
       "    <tr>\n",
       "      <th>count</th>\n",
       "      <td>5.500680e+05</td>\n",
       "      <td>550068.000000</td>\n",
       "      <td>550068.000000</td>\n",
       "      <td>550068.000000</td>\n",
       "      <td>376430.000000</td>\n",
       "      <td>166821.000000</td>\n",
       "      <td>550068.000000</td>\n",
       "    </tr>\n",
       "    <tr>\n",
       "      <th>mean</th>\n",
       "      <td>1.003029e+06</td>\n",
       "      <td>8.076707</td>\n",
       "      <td>0.409653</td>\n",
       "      <td>5.404270</td>\n",
       "      <td>9.842329</td>\n",
       "      <td>12.668243</td>\n",
       "      <td>9263.968713</td>\n",
       "    </tr>\n",
       "    <tr>\n",
       "      <th>std</th>\n",
       "      <td>1.727592e+03</td>\n",
       "      <td>6.522660</td>\n",
       "      <td>0.491770</td>\n",
       "      <td>3.936211</td>\n",
       "      <td>5.086590</td>\n",
       "      <td>4.125338</td>\n",
       "      <td>5023.065394</td>\n",
       "    </tr>\n",
       "    <tr>\n",
       "      <th>min</th>\n",
       "      <td>1.000001e+06</td>\n",
       "      <td>0.000000</td>\n",
       "      <td>0.000000</td>\n",
       "      <td>1.000000</td>\n",
       "      <td>2.000000</td>\n",
       "      <td>3.000000</td>\n",
       "      <td>12.000000</td>\n",
       "    </tr>\n",
       "    <tr>\n",
       "      <th>25%</th>\n",
       "      <td>1.001516e+06</td>\n",
       "      <td>2.000000</td>\n",
       "      <td>0.000000</td>\n",
       "      <td>1.000000</td>\n",
       "      <td>5.000000</td>\n",
       "      <td>9.000000</td>\n",
       "      <td>5823.000000</td>\n",
       "    </tr>\n",
       "    <tr>\n",
       "      <th>50%</th>\n",
       "      <td>1.003077e+06</td>\n",
       "      <td>7.000000</td>\n",
       "      <td>0.000000</td>\n",
       "      <td>5.000000</td>\n",
       "      <td>9.000000</td>\n",
       "      <td>14.000000</td>\n",
       "      <td>8047.000000</td>\n",
       "    </tr>\n",
       "    <tr>\n",
       "      <th>75%</th>\n",
       "      <td>1.004478e+06</td>\n",
       "      <td>14.000000</td>\n",
       "      <td>1.000000</td>\n",
       "      <td>8.000000</td>\n",
       "      <td>15.000000</td>\n",
       "      <td>16.000000</td>\n",
       "      <td>12054.000000</td>\n",
       "    </tr>\n",
       "    <tr>\n",
       "      <th>max</th>\n",
       "      <td>1.006040e+06</td>\n",
       "      <td>20.000000</td>\n",
       "      <td>1.000000</td>\n",
       "      <td>20.000000</td>\n",
       "      <td>18.000000</td>\n",
       "      <td>18.000000</td>\n",
       "      <td>23961.000000</td>\n",
       "    </tr>\n",
       "  </tbody>\n",
       "</table>\n",
       "</div>"
      ],
      "text/plain": [
       "            User_ID     Occupation  Marital_Status  Product_Category_1  \\\n",
       "count  5.500680e+05  550068.000000   550068.000000       550068.000000   \n",
       "mean   1.003029e+06       8.076707        0.409653            5.404270   \n",
       "std    1.727592e+03       6.522660        0.491770            3.936211   \n",
       "min    1.000001e+06       0.000000        0.000000            1.000000   \n",
       "25%    1.001516e+06       2.000000        0.000000            1.000000   \n",
       "50%    1.003077e+06       7.000000        0.000000            5.000000   \n",
       "75%    1.004478e+06      14.000000        1.000000            8.000000   \n",
       "max    1.006040e+06      20.000000        1.000000           20.000000   \n",
       "\n",
       "       Product_Category_2  Product_Category_3       Purchase  \n",
       "count       376430.000000       166821.000000  550068.000000  \n",
       "mean             9.842329           12.668243    9263.968713  \n",
       "std              5.086590            4.125338    5023.065394  \n",
       "min              2.000000            3.000000      12.000000  \n",
       "25%              5.000000            9.000000    5823.000000  \n",
       "50%              9.000000           14.000000    8047.000000  \n",
       "75%             15.000000           16.000000   12054.000000  \n",
       "max             18.000000           18.000000   23961.000000  "
      ]
     },
     "execution_count": 127,
     "metadata": {},
     "output_type": "execute_result"
    }
   ],
   "source": [
    "#Let's analyze the overall statistics of the dataset\n",
    "sales_data_train.describe()"
   ]
  },
  {
   "cell_type": "markdown",
   "metadata": {},
   "source": [
    "-------------------------------------------------------------------------------------------------------------------------"
   ]
  },
  {
   "cell_type": "markdown",
   "metadata": {},
   "source": [
    "# 2 Data Preprocessing"
   ]
  },
  {
   "cell_type": "markdown",
   "metadata": {},
   "source": [
    "### 2.1  Missing Values Handling\n",
    "\n",
    "* As from the below plot it is visible that there are some missing values in the dataset. showMissingValues function will show all the missing values in the dataset."
   ]
  },
  {
   "cell_type": "code",
   "execution_count": 128,
   "metadata": {},
   "outputs": [
    {
     "name": "stdout",
     "output_type": "stream",
     "text": [
      "Train data-------------------------------------\n",
      " User_ID column missing values: 0\n",
      " Product_ID column missing values: 0\n",
      " Gender column missing values: 0\n",
      " Age column missing values: 0\n",
      " Occupation column missing values: 0\n",
      " City_Category column missing values: 0\n",
      " Stay_In_Current_City_Years column missing values: 0\n",
      " Marital_Status column missing values: 0\n",
      " Product_Category_1 column missing values: 0\n",
      " Product_Category_2 column missing values: 173638\n",
      " Product_Category_3 column missing values: 383247\n",
      " Purchase column missing values: 0\n",
      "\n",
      "\n",
      "Validation dataset--------------------------------------\n",
      " User_ID column missing values: 0\n",
      " Product_ID column missing values: 0\n",
      " Gender column missing values: 0\n",
      " Age column missing values: 0\n",
      " Occupation column missing values: 0\n",
      " City_Category column missing values: 0\n",
      " Stay_In_Current_City_Years column missing values: 0\n",
      " Marital_Status column missing values: 0\n",
      " Product_Category_1 column missing values: 0\n",
      " Product_Category_2 column missing values: 72344\n",
      " Product_Category_3 column missing values: 162562\n",
      "\n",
      "\n"
     ]
    }
   ],
   "source": [
    "#Function to show all the missing values of the dataset\n",
    "def showMissingValues(dataset):\n",
    "    for col in dataset.columns.tolist():          \n",
    "        print(f\" {col} column missing values: {dataset[col].isnull().sum()}\")\n",
    "    print('\\n')\n",
    "    \n",
    "\n",
    "print(\"Train data-------------------------------------\")\n",
    "showMissingValues(sales_data_train)\n",
    "\n",
    "print(\"Validation dataset--------------------------------------\")\n",
    "showMissingValues(sales_data_test)"
   ]
  },
  {
   "cell_type": "code",
   "execution_count": 129,
   "metadata": {},
   "outputs": [
    {
     "data": {
      "text/plain": [
       "<matplotlib.axes._subplots.AxesSubplot at 0x1f7132c1088>"
      ]
     },
     "execution_count": 129,
     "metadata": {},
     "output_type": "execute_result"
    },
    {
     "data": {
      "image/png": "[encoded data removed]",
      "text/plain": [
       "<Figure size 720x720 with 1 Axes>"
      ]
     },
     "metadata": {},
     "output_type": "display_data"
    }
   ],
   "source": [
    "#Analyzing the missing values distribution over the train dataset\n",
    "fig = plt.figure(figsize=(10,10))\n",
    "sns.heatmap(sales_data_train.isnull(),yticklabels=False,cbar=False,cmap='viridis')"
   ]
  },
  {
   "cell_type": "markdown",
   "metadata": {},
   "source": [
    "* There are two columns having missing values - Product_Category2 & Product_Category_3"
   ]
  },
  {
   "cell_type": "code",
   "execution_count": 130,
   "metadata": {},
   "outputs": [
    {
     "name": "stdout",
     "output_type": "stream",
     "text": [
      "Total perchentage of missing values in Product_Category2 is 0.3156664266963357\n",
      "Total perchentage of missing values in Product_category3 is 0.6967265865311197\n"
     ]
    }
   ],
   "source": [
    "#Finding the perchentage of Missing values\n",
    "print(f\"Total perchentage of missing values in Product_Category2 is {sales_data_train['Product_Category_2'].isnull().sum() / sales_data_train.shape[0]}\")\n",
    "print(f\"Total perchentage of missing values in Product_category3 is {sales_data_train['Product_Category_3'].isnull().sum() / sales_data_train.shape[0]}\")"
   ]
  },
  {
   "cell_type": "markdown",
   "metadata": {},
   "source": [
    "#### Function to replace missing values in Category 2 and Category 3..\n",
    "\n",
    "* Objective:\n",
    "* Product Category 2 and 3 has missing values because the customer didn't buy these type of categories. very few customers     bought all 3 types of products.\n",
    "* It will not be a right choice if we fill the missing values with mean or 0 as the values were masked and 0 can also be a category.\n",
    "\n",
    "* So it will be a good choice to fill the missing values with -1 which suggests there is no category of that type."
   ]
  },
  {
   "cell_type": "code",
   "execution_count": 131,
   "metadata": {},
   "outputs": [],
   "source": [
    "#Filling missing values of Product category2 by grouping of Product Category1\n",
    "def fillMissingProduct(dataset):\n",
    "    dataset['Product_Category_2'] = dataset['Product_Category_2'].fillna(-1) \n",
    "    dataset['Product_Category_3'] = dataset['Product_Category_3'].fillna(-1) \n",
    "    return dataset\n",
    "\n",
    "sales_data_train = fillMissingProduct(sales_data_train)"
   ]
  },
  {
   "cell_type": "code",
   "execution_count": 132,
   "metadata": {},
   "outputs": [
    {
     "data": {
      "text/plain": [
       "User_ID                       0\n",
       "Product_ID                    0\n",
       "Gender                        0\n",
       "Age                           0\n",
       "Occupation                    0\n",
       "City_Category                 0\n",
       "Stay_In_Current_City_Years    0\n",
       "Marital_Status                0\n",
       "Product_Category_1            0\n",
       "Product_Category_2            0\n",
       "Product_Category_3            0\n",
       "Purchase                      0\n",
       "dtype: int64"
      ]
     },
     "execution_count": 132,
     "metadata": {},
     "output_type": "execute_result"
    }
   ],
   "source": [
    "sales_data_train.isnull().sum()"
   ]
  },
  {
   "cell_type": "code",
   "execution_count": 133,
   "metadata": {},
   "outputs": [
    {
     "data": {
      "text/plain": [
       "<matplotlib.axes._subplots.AxesSubplot at 0x1f7137ec8c8>"
      ]
     },
     "execution_count": 133,
     "metadata": {},
     "output_type": "execute_result"
    },
    {
     "data": {
      "image/png": "[encoded data removed]",
      "text/plain": [
       "<Figure size 576x576 with 1 Axes>"
      ]
     },
     "metadata": {},
     "output_type": "display_data"
    }
   ],
   "source": [
    "fig = plt.figure(figsize=(8,8))\n",
    "sns.heatmap(sales_data_train.isnull(),yticklabels=False,cbar=False,cmap='viridis')"
   ]
  },
  {
   "cell_type": "markdown",
   "metadata": {},
   "source": [
    "### Converting the Product category2 and Category3 type to int as to main consistency across the dataset."
   ]
  },
  {
   "cell_type": "code",
   "execution_count": 134,
   "metadata": {},
   "outputs": [],
   "source": [
    "def ProperType(dataset):\n",
    "    dataset['Product_Category_2'] = dataset['Product_Category_2'].astype(int)\n",
    "    dataset['Product_Category_3'] = dataset['Product_Category_3'].astype(int)\n",
    "    return  dataset\n",
    "\n",
    "sales_data_train = ProperType(sales_data_train)"
   ]
  },
  {
   "cell_type": "markdown",
   "metadata": {},
   "source": [
    "## 2.2 <u>Analyzing Duplicate Columns as well as Quasi Constant Values</u>"
   ]
  },
  {
   "cell_type": "markdown",
   "metadata": {},
   "source": [
    "### Duplicate Columns"
   ]
  },
  {
   "cell_type": "code",
   "execution_count": 135,
   "metadata": {},
   "outputs": [],
   "source": [
    "def findDuplicateColumns(dataset):\n",
    "    duplicateColumnNames = set()\n",
    "    for x in range(dataset.shape[1]):\n",
    "        col1 = dataset.iloc[:,x]\n",
    "        for y in range(x+1, dataset.shape[1]):\n",
    "            col2 = dataset.iloc[:, y]\n",
    "            if col1.equals(col2):\n",
    "                duplicateColumnNames.add(dataset.columns.values[y])\n",
    "    return list(duplicateColumnNames)\n",
    "\n",
    "dup_cols = findDuplicateColumns(sales_data_train)"
   ]
  },
  {
   "cell_type": "code",
   "execution_count": 136,
   "metadata": {},
   "outputs": [
    {
     "data": {
      "text/plain": [
       "[]"
      ]
     },
     "execution_count": 136,
     "metadata": {},
     "output_type": "execute_result"
    }
   ],
   "source": [
    "dup_cols"
   ]
  },
  {
   "cell_type": "markdown",
   "metadata": {},
   "source": [
    "* There are no duplicate columns in the dataset."
   ]
  },
  {
   "cell_type": "code",
   "execution_count": 137,
   "metadata": {},
   "outputs": [
    {
     "data": {
      "text/html": [
       "<div>\n",
       "<style scoped>\n",
       "    .dataframe tbody tr th:only-of-type {\n",
       "        vertical-align: middle;\n",
       "    }\n",
       "\n",
       "    .dataframe tbody tr th {\n",
       "        vertical-align: top;\n",
       "    }\n",
       "\n",
       "    .dataframe thead th {\n",
       "        text-align: right;\n",
       "    }\n",
       "</style>\n",
       "<table border=\"1\" class=\"dataframe\">\n",
       "  <thead>\n",
       "    <tr style=\"text-align: right;\">\n",
       "      <th></th>\n",
       "      <th>User_ID</th>\n",
       "      <th>Product_ID</th>\n",
       "      <th>Gender</th>\n",
       "      <th>Age</th>\n",
       "      <th>Occupation</th>\n",
       "      <th>City_Category</th>\n",
       "      <th>Stay_In_Current_City_Years</th>\n",
       "      <th>Marital_Status</th>\n",
       "      <th>Product_Category_1</th>\n",
       "      <th>Product_Category_2</th>\n",
       "      <th>Product_Category_3</th>\n",
       "      <th>Purchase</th>\n",
       "    </tr>\n",
       "  </thead>\n",
       "  <tbody>\n",
       "  </tbody>\n",
       "</table>\n",
       "</div>"
      ],
      "text/plain": [
       "Empty DataFrame\n",
       "Columns: [User_ID, Product_ID, Gender, Age, Occupation, City_Category, Stay_In_Current_City_Years, Marital_Status, Product_Category_1, Product_Category_2, Product_Category_3, Purchase]\n",
       "Index: []"
      ]
     },
     "execution_count": 137,
     "metadata": {},
     "output_type": "execute_result"
    }
   ],
   "source": [
    "#Delete duplicate Records\n",
    "sales_data_train.loc[sales_data_train.duplicated(),:]"
   ]
  },
  {
   "cell_type": "markdown",
   "metadata": {},
   "source": [
    "## 2.3  <u> Outlier Detection to detect if any Purchase Amount is very high or low</u>"
   ]
  },
  {
   "cell_type": "markdown",
   "metadata": {},
   "source": [
    "* It is important to detect and analyze the upper boundary and lower boundary to analyze significant deviation in the data.\n",
    "* Box Plot and 1.5 IQR rule is used here to detect outliers as there is not such outliers as seen from the observation."
   ]
  },
  {
   "cell_type": "code",
   "execution_count": 138,
   "metadata": {},
   "outputs": [
    {
     "data": {
      "image/png": "[encoded data removed]",
      "text/plain": [
       "<Figure size 432x288 with 1 Axes>"
      ]
     },
     "metadata": {},
     "output_type": "display_data"
    }
   ],
   "source": [
    "boxplot = sales_data_train.boxplot(column = ['Purchase'])"
   ]
  },
  {
   "cell_type": "code",
   "execution_count": 139,
   "metadata": {},
   "outputs": [],
   "source": [
    "def find_skewed_boundaries(df, variable, distance):\n",
    "\n",
    "    # Let's calculate the boundaries outside which sit the outliers\n",
    "    # for skewed distributions\n",
    "\n",
    "    # distance passed as an argument, gives us the option to\n",
    "    # estimate 1.5 times or 3 times the IQR to calculate\n",
    "    # the boundaries.\n",
    "\n",
    "    IQR = df[variable].quantile(0.75) - df[variable].quantile(0.25)\n",
    "\n",
    "    lower_boundary = df[variable].quantile(0.25) - (IQR * distance)\n",
    "    upper_boundary = df[variable].quantile(0.75) + (IQR * distance)\n",
    "\n",
    "    return upper_boundary, lower_boundary"
   ]
  },
  {
   "cell_type": "code",
   "execution_count": 140,
   "metadata": {},
   "outputs": [
    {
     "data": {
      "text/plain": [
       "(21400.5, -3523.5)"
      ]
     },
     "execution_count": 140,
     "metadata": {},
     "output_type": "execute_result"
    }
   ],
   "source": [
    "# looking for outliers,\n",
    "# using the interquantile proximity rule\n",
    "# IQR * 1.5, the standard metric\n",
    "\n",
    "upper_boundary, lower_boundary = find_skewed_boundaries(sales_data_train, 'Purchase', 1.5)\n",
    "upper_boundary, lower_boundary"
   ]
  },
  {
   "cell_type": "code",
   "execution_count": 141,
   "metadata": {},
   "outputs": [
    {
     "data": {
      "text/html": [
       "<div>\n",
       "<style scoped>\n",
       "    .dataframe tbody tr th:only-of-type {\n",
       "        vertical-align: middle;\n",
       "    }\n",
       "\n",
       "    .dataframe tbody tr th {\n",
       "        vertical-align: top;\n",
       "    }\n",
       "\n",
       "    .dataframe thead th {\n",
       "        text-align: right;\n",
       "    }\n",
       "</style>\n",
       "<table border=\"1\" class=\"dataframe\">\n",
       "  <thead>\n",
       "    <tr style=\"text-align: right;\">\n",
       "      <th></th>\n",
       "      <th>User_ID</th>\n",
       "      <th>Product_ID</th>\n",
       "      <th>Gender</th>\n",
       "      <th>Age</th>\n",
       "      <th>Occupation</th>\n",
       "      <th>City_Category</th>\n",
       "      <th>Stay_In_Current_City_Years</th>\n",
       "      <th>Marital_Status</th>\n",
       "      <th>Product_Category_1</th>\n",
       "      <th>Product_Category_2</th>\n",
       "      <th>Product_Category_3</th>\n",
       "      <th>Purchase</th>\n",
       "    </tr>\n",
       "  </thead>\n",
       "  <tbody>\n",
       "  </tbody>\n",
       "</table>\n",
       "</div>"
      ],
      "text/plain": [
       "Empty DataFrame\n",
       "Columns: [User_ID, Product_ID, Gender, Age, Occupation, City_Category, Stay_In_Current_City_Years, Marital_Status, Product_Category_1, Product_Category_2, Product_Category_3, Purchase]\n",
       "Index: []"
      ]
     },
     "execution_count": 141,
     "metadata": {},
     "output_type": "execute_result"
    }
   ],
   "source": [
    "sales_data_train[sales_data_train['Purchase']>25017.75]"
   ]
  },
  {
   "cell_type": "code",
   "execution_count": 142,
   "metadata": {},
   "outputs": [
    {
     "data": {
      "text/html": [
       "<div>\n",
       "<style scoped>\n",
       "    .dataframe tbody tr th:only-of-type {\n",
       "        vertical-align: middle;\n",
       "    }\n",
       "\n",
       "    .dataframe tbody tr th {\n",
       "        vertical-align: top;\n",
       "    }\n",
       "\n",
       "    .dataframe thead th {\n",
       "        text-align: right;\n",
       "    }\n",
       "</style>\n",
       "<table border=\"1\" class=\"dataframe\">\n",
       "  <thead>\n",
       "    <tr style=\"text-align: right;\">\n",
       "      <th></th>\n",
       "      <th>User_ID</th>\n",
       "      <th>Product_ID</th>\n",
       "      <th>Gender</th>\n",
       "      <th>Age</th>\n",
       "      <th>Occupation</th>\n",
       "      <th>City_Category</th>\n",
       "      <th>Stay_In_Current_City_Years</th>\n",
       "      <th>Marital_Status</th>\n",
       "      <th>Product_Category_1</th>\n",
       "      <th>Product_Category_2</th>\n",
       "      <th>Product_Category_3</th>\n",
       "      <th>Purchase</th>\n",
       "    </tr>\n",
       "  </thead>\n",
       "  <tbody>\n",
       "  </tbody>\n",
       "</table>\n",
       "</div>"
      ],
      "text/plain": [
       "Empty DataFrame\n",
       "Columns: [User_ID, Product_ID, Gender, Age, Occupation, City_Category, Stay_In_Current_City_Years, Marital_Status, Product_Category_1, Product_Category_2, Product_Category_3, Purchase]\n",
       "Index: []"
      ]
     },
     "execution_count": 142,
     "metadata": {},
     "output_type": "execute_result"
    }
   ],
   "source": [
    "sales_data_train[sales_data_train['Purchase']< -3523.5]"
   ]
  },
  {
   "cell_type": "markdown",
   "metadata": {},
   "source": [
    "----------------"
   ]
  },
  {
   "cell_type": "markdown",
   "metadata": {},
   "source": [
    "# 3 Traning and Validation split.\n",
    "\n",
    "* I have used test size = 0.25 which means 75% of teh data is for training and 25% for validation."
   ]
  },
  {
   "cell_type": "code",
   "execution_count": 143,
   "metadata": {},
   "outputs": [],
   "source": [
    "X_train = sales_data_train.drop('Purchase',axis=1)\n",
    "y_train = sales_data_train['Purchase']"
   ]
  },
  {
   "cell_type": "code",
   "execution_count": 144,
   "metadata": {},
   "outputs": [],
   "source": [
    "from sklearn.model_selection import train_test_split \n",
    "X_train_,X_validation_,y_train_,y_validation_ = train_test_split(X_train,y_train,test_size=0.3,random_state=0)"
   ]
  },
  {
   "cell_type": "code",
   "execution_count": 145,
   "metadata": {},
   "outputs": [
    {
     "data": {
      "text/html": [
       "<div>\n",
       "<style scoped>\n",
       "    .dataframe tbody tr th:only-of-type {\n",
       "        vertical-align: middle;\n",
       "    }\n",
       "\n",
       "    .dataframe tbody tr th {\n",
       "        vertical-align: top;\n",
       "    }\n",
       "\n",
       "    .dataframe thead th {\n",
       "        text-align: right;\n",
       "    }\n",
       "</style>\n",
       "<table border=\"1\" class=\"dataframe\">\n",
       "  <thead>\n",
       "    <tr style=\"text-align: right;\">\n",
       "      <th></th>\n",
       "      <th>User_ID</th>\n",
       "      <th>Product_ID</th>\n",
       "      <th>Gender</th>\n",
       "      <th>Age</th>\n",
       "      <th>Occupation</th>\n",
       "      <th>City_Category</th>\n",
       "      <th>Stay_In_Current_City_Years</th>\n",
       "      <th>Marital_Status</th>\n",
       "      <th>Product_Category_1</th>\n",
       "      <th>Product_Category_2</th>\n",
       "      <th>Product_Category_3</th>\n",
       "    </tr>\n",
       "  </thead>\n",
       "  <tbody>\n",
       "    <tr>\n",
       "      <th>532017</th>\n",
       "      <td>1003916</td>\n",
       "      <td>P00057642</td>\n",
       "      <td>M</td>\n",
       "      <td>26-35</td>\n",
       "      <td>4</td>\n",
       "      <td>A</td>\n",
       "      <td>2</td>\n",
       "      <td>1</td>\n",
       "      <td>1</td>\n",
       "      <td>15</td>\n",
       "      <td>16</td>\n",
       "    </tr>\n",
       "    <tr>\n",
       "      <th>153907</th>\n",
       "      <td>1005788</td>\n",
       "      <td>P00223542</td>\n",
       "      <td>M</td>\n",
       "      <td>26-35</td>\n",
       "      <td>0</td>\n",
       "      <td>A</td>\n",
       "      <td>4+</td>\n",
       "      <td>0</td>\n",
       "      <td>1</td>\n",
       "      <td>8</td>\n",
       "      <td>17</td>\n",
       "    </tr>\n",
       "    <tr>\n",
       "      <th>162868</th>\n",
       "      <td>1001179</td>\n",
       "      <td>P00100642</td>\n",
       "      <td>M</td>\n",
       "      <td>51-55</td>\n",
       "      <td>1</td>\n",
       "      <td>B</td>\n",
       "      <td>2</td>\n",
       "      <td>1</td>\n",
       "      <td>5</td>\n",
       "      <td>15</td>\n",
       "      <td>-1</td>\n",
       "    </tr>\n",
       "    <tr>\n",
       "      <th>75278</th>\n",
       "      <td>1005604</td>\n",
       "      <td>P00059942</td>\n",
       "      <td>M</td>\n",
       "      <td>36-45</td>\n",
       "      <td>15</td>\n",
       "      <td>C</td>\n",
       "      <td>3</td>\n",
       "      <td>0</td>\n",
       "      <td>8</td>\n",
       "      <td>14</td>\n",
       "      <td>-1</td>\n",
       "    </tr>\n",
       "    <tr>\n",
       "      <th>525591</th>\n",
       "      <td>1003011</td>\n",
       "      <td>P00058442</td>\n",
       "      <td>M</td>\n",
       "      <td>26-35</td>\n",
       "      <td>1</td>\n",
       "      <td>B</td>\n",
       "      <td>1</td>\n",
       "      <td>0</td>\n",
       "      <td>5</td>\n",
       "      <td>14</td>\n",
       "      <td>-1</td>\n",
       "    </tr>\n",
       "  </tbody>\n",
       "</table>\n",
       "</div>"
      ],
      "text/plain": [
       "        User_ID Product_ID Gender    Age  Occupation City_Category  \\\n",
       "532017  1003916  P00057642      M  26-35           4             A   \n",
       "153907  1005788  P00223542      M  26-35           0             A   \n",
       "162868  1001179  P00100642      M  51-55           1             B   \n",
       "75278   1005604  P00059942      M  36-45          15             C   \n",
       "525591  1003011  P00058442      M  26-35           1             B   \n",
       "\n",
       "       Stay_In_Current_City_Years  Marital_Status  Product_Category_1  \\\n",
       "532017                          2               1                   1   \n",
       "153907                         4+               0                   1   \n",
       "162868                          2               1                   5   \n",
       "75278                           3               0                   8   \n",
       "525591                          1               0                   5   \n",
       "\n",
       "        Product_Category_2  Product_Category_3  \n",
       "532017                  15                  16  \n",
       "153907                   8                  17  \n",
       "162868                  15                  -1  \n",
       "75278                   14                  -1  \n",
       "525591                  14                  -1  "
      ]
     },
     "execution_count": 145,
     "metadata": {},
     "output_type": "execute_result"
    }
   ],
   "source": [
    "X_train_.head()"
   ]
  },
  {
   "cell_type": "code",
   "execution_count": 146,
   "metadata": {},
   "outputs": [
    {
     "data": {
      "text/plain": [
       "(385047, 11)"
      ]
     },
     "execution_count": 146,
     "metadata": {},
     "output_type": "execute_result"
    }
   ],
   "source": [
    "#Shape of Training Dataset\n",
    "X_train_.shape"
   ]
  },
  {
   "cell_type": "code",
   "execution_count": 147,
   "metadata": {},
   "outputs": [
    {
     "data": {
      "text/plain": [
       "(165021, 11)"
      ]
     },
     "execution_count": 147,
     "metadata": {},
     "output_type": "execute_result"
    }
   ],
   "source": [
    "#Shape of Validation Dataset\n",
    "X_validation_.shape"
   ]
  },
  {
   "cell_type": "code",
   "execution_count": 148,
   "metadata": {},
   "outputs": [
    {
     "data": {
      "text/html": [
       "<div>\n",
       "<style scoped>\n",
       "    .dataframe tbody tr th:only-of-type {\n",
       "        vertical-align: middle;\n",
       "    }\n",
       "\n",
       "    .dataframe tbody tr th {\n",
       "        vertical-align: top;\n",
       "    }\n",
       "\n",
       "    .dataframe thead th {\n",
       "        text-align: right;\n",
       "    }\n",
       "</style>\n",
       "<table border=\"1\" class=\"dataframe\">\n",
       "  <thead>\n",
       "    <tr style=\"text-align: right;\">\n",
       "      <th></th>\n",
       "      <th>User_ID</th>\n",
       "      <th>Product_ID</th>\n",
       "      <th>Gender</th>\n",
       "      <th>Age</th>\n",
       "      <th>Occupation</th>\n",
       "      <th>City_Category</th>\n",
       "      <th>Stay_In_Current_City_Years</th>\n",
       "      <th>Marital_Status</th>\n",
       "      <th>Product_Category_1</th>\n",
       "      <th>Product_Category_2</th>\n",
       "      <th>Product_Category_3</th>\n",
       "    </tr>\n",
       "  </thead>\n",
       "  <tbody>\n",
       "    <tr>\n",
       "      <th>41001</th>\n",
       "      <td>1000306</td>\n",
       "      <td>P00093542</td>\n",
       "      <td>M</td>\n",
       "      <td>18-25</td>\n",
       "      <td>0</td>\n",
       "      <td>C</td>\n",
       "      <td>3</td>\n",
       "      <td>0</td>\n",
       "      <td>1</td>\n",
       "      <td>6</td>\n",
       "      <td>-1</td>\n",
       "    </tr>\n",
       "    <tr>\n",
       "      <th>16151</th>\n",
       "      <td>1002478</td>\n",
       "      <td>P0097142</td>\n",
       "      <td>M</td>\n",
       "      <td>51-55</td>\n",
       "      <td>1</td>\n",
       "      <td>A</td>\n",
       "      <td>0</td>\n",
       "      <td>0</td>\n",
       "      <td>12</td>\n",
       "      <td>-1</td>\n",
       "      <td>-1</td>\n",
       "    </tr>\n",
       "    <tr>\n",
       "      <th>507262</th>\n",
       "      <td>1000129</td>\n",
       "      <td>P00129842</td>\n",
       "      <td>M</td>\n",
       "      <td>26-35</td>\n",
       "      <td>11</td>\n",
       "      <td>C</td>\n",
       "      <td>2</td>\n",
       "      <td>0</td>\n",
       "      <td>6</td>\n",
       "      <td>8</td>\n",
       "      <td>15</td>\n",
       "    </tr>\n",
       "    <tr>\n",
       "      <th>368698</th>\n",
       "      <td>1002816</td>\n",
       "      <td>P00025442</td>\n",
       "      <td>M</td>\n",
       "      <td>26-35</td>\n",
       "      <td>7</td>\n",
       "      <td>C</td>\n",
       "      <td>4+</td>\n",
       "      <td>1</td>\n",
       "      <td>1</td>\n",
       "      <td>2</td>\n",
       "      <td>9</td>\n",
       "    </tr>\n",
       "    <tr>\n",
       "      <th>353782</th>\n",
       "      <td>1000514</td>\n",
       "      <td>P00220442</td>\n",
       "      <td>M</td>\n",
       "      <td>26-35</td>\n",
       "      <td>2</td>\n",
       "      <td>A</td>\n",
       "      <td>1</td>\n",
       "      <td>1</td>\n",
       "      <td>5</td>\n",
       "      <td>14</td>\n",
       "      <td>-1</td>\n",
       "    </tr>\n",
       "  </tbody>\n",
       "</table>\n",
       "</div>"
      ],
      "text/plain": [
       "        User_ID Product_ID Gender    Age  Occupation City_Category  \\\n",
       "41001   1000306  P00093542      M  18-25           0             C   \n",
       "16151   1002478   P0097142      M  51-55           1             A   \n",
       "507262  1000129  P00129842      M  26-35          11             C   \n",
       "368698  1002816  P00025442      M  26-35           7             C   \n",
       "353782  1000514  P00220442      M  26-35           2             A   \n",
       "\n",
       "       Stay_In_Current_City_Years  Marital_Status  Product_Category_1  \\\n",
       "41001                           3               0                   1   \n",
       "16151                           0               0                  12   \n",
       "507262                          2               0                   6   \n",
       "368698                         4+               1                   1   \n",
       "353782                          1               1                   5   \n",
       "\n",
       "        Product_Category_2  Product_Category_3  \n",
       "41001                    6                  -1  \n",
       "16151                   -1                  -1  \n",
       "507262                   8                  15  \n",
       "368698                   2                   9  \n",
       "353782                  14                  -1  "
      ]
     },
     "execution_count": 148,
     "metadata": {},
     "output_type": "execute_result"
    }
   ],
   "source": [
    "X_validation_.head()"
   ]
  },
  {
   "cell_type": "markdown",
   "metadata": {},
   "source": [
    "-------------------------------------"
   ]
  },
  {
   "cell_type": "markdown",
   "metadata": {},
   "source": [
    "# 1 Exploatory data Analysis ................................."
   ]
  },
  {
   "cell_type": "markdown",
   "metadata": {},
   "source": [
    "* Exploatory Data Analysis will be done on Train dataset."
   ]
  },
  {
   "cell_type": "markdown",
   "metadata": {},
   "source": [
    "## Purchase Column(target variable) analysis based on Product Categories"
   ]
  },
  {
   "cell_type": "code",
   "execution_count": 149,
   "metadata": {},
   "outputs": [],
   "source": [
    "#Function to analye how Purchase amount is dependent upon Product categories.\n",
    "def categoryVsPurchase(dataset):\n",
    "    f,ax = plt.subplots(1,3,figsize=(20,6))\n",
    "    most_freq_category1 = dataset.groupby('Product_Category_1')['Purchase'].sum().reset_index()\n",
    "    most_freq_category2 = dataset.groupby('Product_Category_2')['Purchase'].sum().reset_index()\n",
    "    most_freq_category3 = dataset.groupby('Product_Category_3')['Purchase'].sum().reset_index()\n",
    "    sns.barplot(x='Product_Category_1',y='Purchase',data = dataset,palette=\"muted\",ax = ax[0])\n",
    "    sns.barplot(x='Product_Category_2',y='Purchase',data = dataset,palette=\"muted\",ax = ax[1])\n",
    "    sns.barplot(x='Product_Category_3',y='Purchase',data = dataset,palette=\"muted\",ax = ax[2])"
   ]
  },
  {
   "cell_type": "markdown",
   "metadata": {},
   "source": [
    "## 1.1 Purchase Amount is maximum for the Categories belonging to 3 Product categories."
   ]
  },
  {
   "cell_type": "markdown",
   "metadata": {},
   "source": [
    "#### \"three_category\" is the filtered dataset where only all the Three Product categories are present.\n",
    "#### It can be clearly noticed as the from Product Category1 to Product category3 the purchase amount is increasing and there is a relationship stated below."
   ]
  },
  {
   "cell_type": "code",
   "execution_count": 150,
   "metadata": {},
   "outputs": [],
   "source": [
    "three_category = sales_data_train[(~sales_data_train['Product_Category_1'].isnull()&~sales_data_train['Product_Category_2'].isnull()&~sales_data_train['Product_Category_3'].isnull())]"
   ]
  },
  {
   "cell_type": "code",
   "execution_count": 151,
   "metadata": {},
   "outputs": [
    {
     "data": {
      "image/png": "[encoded data removed]",
      "text/plain": [
       "<Figure size 1440x432 with 3 Axes>"
      ]
     },
     "metadata": {},
     "output_type": "display_data"
    }
   ],
   "source": [
    "categoryVsPurchase(three_category)"
   ]
  },
  {
   "cell_type": "markdown",
   "metadata": {},
   "source": [
    "### Inference 1: \n",
    "* As from the graph is shown below it can bee seen that Products belonging only category1 , the purchase amount is low.\n",
    "* In category 1 [1,6,10,15] are the groups which are more purchased.These product  are the most sold products.\n",
    "\n",
    "### Inference 2: \n",
    "* As from the graph is shown below it can bee seen that Products belonging only category1 as well as Category2 , the purchase amount is heigher than Inference1.\n",
    "\n",
    "### Inference 3: \n",
    "* As from the graph is shown below it can bee seen that Products belonging only category1 , category2, and Category3 , the purchase amount is heigst.\n",
    "\n",
    "### Inference 4:\n",
    "* Products which are belonging to Category 3 also belonging to Category1 and category2."
   ]
  },
  {
   "cell_type": "markdown",
   "metadata": {},
   "source": [
    "### Inference 1:\n",
    "* The charts are for the records where all the Three categories are not included. As it can be seen that where the category3 is not present the average distribution of purchase of category2 is low than the Inference2."
   ]
  },
  {
   "cell_type": "markdown",
   "metadata": {},
   "source": [
    "## 1.2 Net Purchase Analysis based on Age Group\n",
    "\n",
    "#### Inference\n",
    "\n",
    "* As Age group is always a important factor of purchase because evry age group range has different choice. From the below plot it is visible that Feamle group has heigher purchae than Male. And also a huge fractuation is in the 26-35 age group.\n",
    "\n",
    "* It suggests that females aged between 26-35 are the most frequent customers."
   ]
  },
  {
   "cell_type": "code",
   "execution_count": 152,
   "metadata": {},
   "outputs": [
    {
     "data": {
      "text/plain": [
       "<matplotlib.axes._subplots.AxesSubplot at 0x1f717928708>"
      ]
     },
     "execution_count": 152,
     "metadata": {},
     "output_type": "execute_result"
    },
    {
     "data": {
      "image/png": "[encoded data removed]",
      "text/plain": [
       "<Figure size 432x288 with 1 Axes>"
      ]
     },
     "metadata": {},
     "output_type": "display_data"
    }
   ],
   "source": [
    "sns.countplot('Age',hue=\"Gender\",data=sales_data_train)"
   ]
  },
  {
   "cell_type": "code",
   "execution_count": 153,
   "metadata": {},
   "outputs": [
    {
     "data": {
      "text/plain": [
       "Age\n",
       "0-17      134913183\n",
       "18-25     913848675\n",
       "26-35    2031770578\n",
       "36-45    1026569884\n",
       "46-50     420843403\n",
       "51-55     367099644\n",
       "55+       200767375\n",
       "Name: Purchase, dtype: int64"
      ]
     },
     "execution_count": 153,
     "metadata": {},
     "output_type": "execute_result"
    }
   ],
   "source": [
    "sales_data_train.groupby('Age')['Purchase'].sum()"
   ]
  },
  {
   "cell_type": "code",
   "execution_count": 154,
   "metadata": {},
   "outputs": [
    {
     "data": {
      "text/plain": [
       "Text(0, 0.5, 'Total Purchase Amount')"
      ]
     },
     "execution_count": 154,
     "metadata": {},
     "output_type": "execute_result"
    },
    {
     "data": {
      "image/png": "[encoded data removed]",
      "text/plain": [
       "<Figure size 1008x576 with 1 Axes>"
      ]
     },
     "metadata": {},
     "output_type": "display_data"
    }
   ],
   "source": [
    "fig = sales_data_train.groupby('Age')['Purchase'].sum().plot(kind =\"bar\",figsize=(14, 8), linewidth=2)\n",
    "\n",
    "fig.set_title('Purchse Amount Vs Age group')\n",
    "fig.set_ylabel('Total Purchase Amount')"
   ]
  },
  {
   "cell_type": "markdown",
   "metadata": {},
   "source": [
    "As you can see, The net purchase is heigst in 26-35 age group. It could help us to encode the Age column logically so that this information holds."
   ]
  },
  {
   "cell_type": "markdown",
   "metadata": {},
   "source": [
    "## 1.3 Net Purchase Analysis based on City Category.\n",
    "\n",
    "#### Inference\n",
    "\n",
    "* City position is aslo a major factor in the sales. Like ex- In town sales will be maximum compare to villages."
   ]
  },
  {
   "cell_type": "code",
   "execution_count": 155,
   "metadata": {},
   "outputs": [
    {
     "data": {
      "image/png": "[encoded data removed]",
      "text/plain": [
       "<Figure size 432x288 with 1 Axes>"
      ]
     },
     "metadata": {},
     "output_type": "display_data"
    }
   ],
   "source": [
    "sales_data_train.groupby(['City_Category','Gender'])['Purchase'].sum().unstack().plot(kind='bar',stacked=True)\n",
    "plt.show()\n"
   ]
  },
  {
   "cell_type": "markdown",
   "metadata": {},
   "source": [
    "* From the above graph it is visible that there are total 3 City Categories - A, B, C. And it is visible that The heigst Net purchase is belonging to Category B and in each category the gender distribution is balanced.\n",
    "\n"
   ]
  },
  {
   "cell_type": "code",
   "execution_count": 156,
   "metadata": {},
   "outputs": [
    {
     "data": {
      "image/png": "[encoded data removed]",
      "text/plain": [
       "<Figure size 648x216 with 3 Axes>"
      ]
     },
     "metadata": {},
     "output_type": "display_data"
    }
   ],
   "source": [
    "g = sns.FacetGrid(sales_data_train,col=\"City_Category\")\n",
    "g.map(sns.barplot, \"Gender\", \"Purchase\");"
   ]
  },
  {
   "cell_type": "markdown",
   "metadata": {},
   "source": [
    "* One of the Insights that can be noticed that in City category A, Females are dominating over Male but in City Category B and C Males are dominating over Females."
   ]
  },
  {
   "cell_type": "markdown",
   "metadata": {},
   "source": [
    "## 1.4 Net Purchase Analysis based on Stay Duration.\n",
    "\n",
    "#### Inference\n",
    "\n",
    "* Purchase can be dependent on Stay Duration because the more years a person stay in a city he has experience and the idea of products as wll as the prices. \n",
    "\n",
    "* But in this case there is a interesing pattern is noticed. As you can see from the Purchase vs duration plot it is clear that   the person who had a 1 year of duration stay has purchased more with respect to 4.\n",
    "\n",
    "* So the trend is quite interesting. This analysis will help us to prioritise the stay duration in this trend while encoding."
   ]
  },
  {
   "cell_type": "code",
   "execution_count": 157,
   "metadata": {},
   "outputs": [
    {
     "data": {
      "text/plain": [
       "<matplotlib.axes._subplots.AxesSubplot at 0x1f71353d908>"
      ]
     },
     "execution_count": 157,
     "metadata": {},
     "output_type": "execute_result"
    },
    {
     "data": {
      "image/png": "[encoded data removed]",
      "text/plain": [
       "<Figure size 432x288 with 1 Axes>"
      ]
     },
     "metadata": {},
     "output_type": "display_data"
    }
   ],
   "source": [
    "sales_stay_duration = sales_data_train.groupby(['Stay_In_Current_City_Years'])['Purchase'].sum().reset_index()\n",
    "\n",
    "sns.barplot(x='Stay_In_Current_City_Years',y=\"Purchase\",palette=\"rocket\",data = sales_stay_duration )"
   ]
  },
  {
   "cell_type": "code",
   "execution_count": 158,
   "metadata": {},
   "outputs": [
    {
     "data": {
      "text/html": [
       "<div>\n",
       "<style scoped>\n",
       "    .dataframe tbody tr th:only-of-type {\n",
       "        vertical-align: middle;\n",
       "    }\n",
       "\n",
       "    .dataframe tbody tr th {\n",
       "        vertical-align: top;\n",
       "    }\n",
       "\n",
       "    .dataframe thead th {\n",
       "        text-align: right;\n",
       "    }\n",
       "</style>\n",
       "<table border=\"1\" class=\"dataframe\">\n",
       "  <thead>\n",
       "    <tr style=\"text-align: right;\">\n",
       "      <th></th>\n",
       "      <th>Stay_In_Current_City_Years</th>\n",
       "      <th>Purchase</th>\n",
       "    </tr>\n",
       "  </thead>\n",
       "  <tbody>\n",
       "    <tr>\n",
       "      <th>1</th>\n",
       "      <td>1</td>\n",
       "      <td>1792872533</td>\n",
       "    </tr>\n",
       "    <tr>\n",
       "      <th>2</th>\n",
       "      <td>2</td>\n",
       "      <td>949173931</td>\n",
       "    </tr>\n",
       "    <tr>\n",
       "      <th>3</th>\n",
       "      <td>3</td>\n",
       "      <td>884902659</td>\n",
       "    </tr>\n",
       "    <tr>\n",
       "      <th>4</th>\n",
       "      <td>4+</td>\n",
       "      <td>785884390</td>\n",
       "    </tr>\n",
       "    <tr>\n",
       "      <th>0</th>\n",
       "      <td>0</td>\n",
       "      <td>682979229</td>\n",
       "    </tr>\n",
       "  </tbody>\n",
       "</table>\n",
       "</div>"
      ],
      "text/plain": [
       "  Stay_In_Current_City_Years    Purchase\n",
       "1                          1  1792872533\n",
       "2                          2   949173931\n",
       "3                          3   884902659\n",
       "4                         4+   785884390\n",
       "0                          0   682979229"
      ]
     },
     "execution_count": 158,
     "metadata": {},
     "output_type": "execute_result"
    }
   ],
   "source": [
    "sales_stay_duration.sort_values(by = 'Purchase', ascending = False)"
   ]
  },
  {
   "cell_type": "markdown",
   "metadata": {},
   "source": [
    "This ranking will be useful to encode the Duration because it will hold the trend."
   ]
  },
  {
   "cell_type": "markdown",
   "metadata": {},
   "source": [
    "## 1.5 Let's Analyze the most Popular product's ID among Age groups\n",
    "\n",
    "* It will help us to understand which product category is more famous in different Age groups. It will help us in future recommendation.\n",
    "\n",
    "* It will also help us to derive features based on Product popularity."
   ]
  },
  {
   "cell_type": "code",
   "execution_count": 159,
   "metadata": {},
   "outputs": [
    {
     "data": {
      "text/html": [
       "<div>\n",
       "<style scoped>\n",
       "    .dataframe tbody tr th:only-of-type {\n",
       "        vertical-align: middle;\n",
       "    }\n",
       "\n",
       "    .dataframe tbody tr th {\n",
       "        vertical-align: top;\n",
       "    }\n",
       "\n",
       "    .dataframe thead th {\n",
       "        text-align: right;\n",
       "    }\n",
       "</style>\n",
       "<table border=\"1\" class=\"dataframe\">\n",
       "  <thead>\n",
       "    <tr style=\"text-align: right;\">\n",
       "      <th></th>\n",
       "      <th>Age</th>\n",
       "      <th>Product_ID</th>\n",
       "    </tr>\n",
       "  </thead>\n",
       "  <tbody>\n",
       "    <tr>\n",
       "      <th>0</th>\n",
       "      <td>0-17</td>\n",
       "      <td>P00255842</td>\n",
       "    </tr>\n",
       "    <tr>\n",
       "      <th>1</th>\n",
       "      <td>18-25</td>\n",
       "      <td>P00265242</td>\n",
       "    </tr>\n",
       "    <tr>\n",
       "      <th>2</th>\n",
       "      <td>26-35</td>\n",
       "      <td>P00265242</td>\n",
       "    </tr>\n",
       "    <tr>\n",
       "      <th>3</th>\n",
       "      <td>36-45</td>\n",
       "      <td>P00025442</td>\n",
       "    </tr>\n",
       "    <tr>\n",
       "      <th>4</th>\n",
       "      <td>46-50</td>\n",
       "      <td>P00265242</td>\n",
       "    </tr>\n",
       "    <tr>\n",
       "      <th>5</th>\n",
       "      <td>51-55</td>\n",
       "      <td>P00265242</td>\n",
       "    </tr>\n",
       "    <tr>\n",
       "      <th>6</th>\n",
       "      <td>55+</td>\n",
       "      <td>P00265242</td>\n",
       "    </tr>\n",
       "  </tbody>\n",
       "</table>\n",
       "</div>"
      ],
      "text/plain": [
       "     Age Product_ID\n",
       "0   0-17  P00255842\n",
       "1  18-25  P00265242\n",
       "2  26-35  P00265242\n",
       "3  36-45  P00025442\n",
       "4  46-50  P00265242\n",
       "5  51-55  P00265242\n",
       "6    55+  P00265242"
      ]
     },
     "execution_count": 159,
     "metadata": {},
     "output_type": "execute_result"
    }
   ],
   "source": [
    "popular_products = sales_data_train.groupby('Age')['Product_ID'].apply(lambda x: x.value_counts().index[0]).reset_index()\n",
    "popular_products"
   ]
  },
  {
   "cell_type": "markdown",
   "metadata": {},
   "source": [
    "* As you can see that POO255842 is the most popular than 0-17\n",
    "* P00265242 is the most popular product ID than 18-25 , 26-35 , 46-50, 51-55, and 55+.\n",
    "* P00025442 is the popular in 36-45 age group."
   ]
  },
  {
   "cell_type": "code",
   "execution_count": 160,
   "metadata": {},
   "outputs": [
    {
     "data": {
      "text/plain": [
       "Product_Category_1  Product_Category_2\n",
       "5                   8                     7534.848404\n",
       "Name: Purchase, dtype: float64"
      ]
     },
     "execution_count": 160,
     "metadata": {},
     "output_type": "execute_result"
    }
   ],
   "source": [
    "sales_data_train[sales_data_train['Product_ID'] == 'P00265242'].groupby(['Product_Category_1','Product_Category_2'])['Purchase'].mean()"
   ]
  },
  {
   "cell_type": "markdown",
   "metadata": {},
   "source": [
    "* As it can be seen that The most poular productID (P00265242) is belonging two two Product Categories 5 and 8 respectively.\n",
    "* The mean price of the product Id is 7534 which is in the range of 5000-10000. It is an interesting trend to be noticed."
   ]
  },
  {
   "cell_type": "markdown",
   "metadata": {},
   "source": [
    "## 1.6 Most Costly Products"
   ]
  },
  {
   "cell_type": "code",
   "execution_count": 161,
   "metadata": {},
   "outputs": [
    {
     "data": {
      "text/html": [
       "<div>\n",
       "<style scoped>\n",
       "    .dataframe tbody tr th:only-of-type {\n",
       "        vertical-align: middle;\n",
       "    }\n",
       "\n",
       "    .dataframe tbody tr th {\n",
       "        vertical-align: top;\n",
       "    }\n",
       "\n",
       "    .dataframe thead th {\n",
       "        text-align: right;\n",
       "    }\n",
       "</style>\n",
       "<table border=\"1\" class=\"dataframe\">\n",
       "  <thead>\n",
       "    <tr style=\"text-align: right;\">\n",
       "      <th></th>\n",
       "      <th>Product_ID</th>\n",
       "      <th>Purchase</th>\n",
       "    </tr>\n",
       "  </thead>\n",
       "  <tbody>\n",
       "    <tr>\n",
       "      <th>836</th>\n",
       "      <td>P00086242</td>\n",
       "      <td>21256.505495</td>\n",
       "    </tr>\n",
       "    <tr>\n",
       "      <th>827</th>\n",
       "      <td>P00085342</td>\n",
       "      <td>20980.268116</td>\n",
       "    </tr>\n",
       "    <tr>\n",
       "      <th>1902</th>\n",
       "      <td>P00200642</td>\n",
       "      <td>20468.773234</td>\n",
       "    </tr>\n",
       "    <tr>\n",
       "      <th>1070</th>\n",
       "      <td>P00116142</td>\n",
       "      <td>20463.791277</td>\n",
       "    </tr>\n",
       "    <tr>\n",
       "      <th>1102</th>\n",
       "      <td>P00119342</td>\n",
       "      <td>20448.756494</td>\n",
       "    </tr>\n",
       "    <tr>\n",
       "      <th>1085</th>\n",
       "      <td>P00117642</td>\n",
       "      <td>20400.283544</td>\n",
       "    </tr>\n",
       "    <tr>\n",
       "      <th>726</th>\n",
       "      <td>P00074542</td>\n",
       "      <td>20323.000000</td>\n",
       "    </tr>\n",
       "    <tr>\n",
       "      <th>3275</th>\n",
       "      <td>P00341542</td>\n",
       "      <td>20291.000000</td>\n",
       "    </tr>\n",
       "    <tr>\n",
       "      <th>519</th>\n",
       "      <td>P00052842</td>\n",
       "      <td>20141.139511</td>\n",
       "    </tr>\n",
       "    <tr>\n",
       "      <th>844</th>\n",
       "      <td>P00087042</td>\n",
       "      <td>20113.225000</td>\n",
       "    </tr>\n",
       "  </tbody>\n",
       "</table>\n",
       "</div>"
      ],
      "text/plain": [
       "     Product_ID      Purchase\n",
       "836   P00086242  21256.505495\n",
       "827   P00085342  20980.268116\n",
       "1902  P00200642  20468.773234\n",
       "1070  P00116142  20463.791277\n",
       "1102  P00119342  20448.756494\n",
       "1085  P00117642  20400.283544\n",
       "726   P00074542  20323.000000\n",
       "3275  P00341542  20291.000000\n",
       "519   P00052842  20141.139511\n",
       "844   P00087042  20113.225000"
      ]
     },
     "execution_count": 161,
     "metadata": {},
     "output_type": "execute_result"
    }
   ],
   "source": [
    "cost_product = sales_data_train.groupby('Product_ID')['Purchase'].mean().reset_index()\n",
    "cost_product.sort_values(by=\"Purchase\",ascending = False)[:10]"
   ]
  },
  {
   "cell_type": "code",
   "execution_count": 162,
   "metadata": {},
   "outputs": [
    {
     "data": {
      "text/plain": [
       "P00086242    273\n",
       "Name: Product_ID, dtype: int64"
      ]
     },
     "execution_count": 162,
     "metadata": {},
     "output_type": "execute_result"
    }
   ],
   "source": [
    "sales_data_train[sales_data_train['Product_ID'] == 'P00086242' ]['Product_ID'].value_counts()"
   ]
  },
  {
   "cell_type": "markdown",
   "metadata": {},
   "source": [
    "* As you can see these are the top 10 productID's which are most costly as the average of the Purchase amount is heigst so only 273 products of this ID has sold and it holds the normal trend of economy."
   ]
  },
  {
   "cell_type": "markdown",
   "metadata": {},
   "source": [
    "## 1.7 Understanding the trend between Martial Status and Age Group"
   ]
  },
  {
   "cell_type": "code",
   "execution_count": 163,
   "metadata": {},
   "outputs": [
    {
     "data": {
      "text/plain": [
       "Text(0.5, 1.0, 'martial Status')"
      ]
     },
     "execution_count": 163,
     "metadata": {},
     "output_type": "execute_result"
    },
    {
     "data": {
      "image/png": "[encoded data removed]",
      "text/plain": [
       "<Figure size 432x288 with 1 Axes>"
      ]
     },
     "metadata": {},
     "output_type": "display_data"
    }
   ],
   "source": [
    "martial_stat = [(sales_data_train.Marital_Status==1).sum(),(sales_data_train.Marital_Status==0).sum()]\n",
    "invoice_labels = ['Married','Single']\n",
    "col = ['orange','blue']\n",
    "plt.pie(martial_stat,colors=col,explode=(0,0.1),labels=invoice_labels,startangle=90,shadow=True,autopct='%1.2f%%',radius=2)\n",
    "plt.title('martial Status')"
   ]
  },
  {
   "cell_type": "markdown",
   "metadata": {},
   "source": [
    "* From the above chart it is visible that there are 60% people who are unmarried and 40% people are married."
   ]
  },
  {
   "cell_type": "code",
   "execution_count": 164,
   "metadata": {},
   "outputs": [],
   "source": [
    "x= sales_data_train.groupby(['Marital_Status','Age'])['Purchase'].sum().reset_index()"
   ]
  },
  {
   "cell_type": "markdown",
   "metadata": {},
   "source": [
    "* As you can see from the above graph mostly married couple are of 26-35 age group."
   ]
  },
  {
   "cell_type": "code",
   "execution_count": 165,
   "metadata": {},
   "outputs": [
    {
     "data": {
      "text/plain": [
       "<matplotlib.axes._subplots.AxesSubplot at 0x1f713077fc8>"
      ]
     },
     "execution_count": 165,
     "metadata": {},
     "output_type": "execute_result"
    },
    {
     "data": {
      "image/png": "[encoded data removed]",
      "text/plain": [
       "<Figure size 1080x360 with 2 Axes>"
      ]
     },
     "metadata": {},
     "output_type": "display_data"
    }
   ],
   "source": [
    "databyAge = sales_data_train.groupby('Age')['Purchase'].sum()\n",
    "plt.figure(figsize=(15,5));\n",
    "plt.subplot(121)\n",
    "plt.pie(databyAge.values,labels = databyAge.index,autopct='%1.1f%%',shadow=True);\n",
    "plt.title('Percent amount spent per age group');\n",
    "plt.subplot(122)\n",
    "sns.barplot(x='Age',y=\"Purchase\",hue=\"Marital_Status\",palette=\"rocket\",data = x )"
   ]
  },
  {
   "cell_type": "markdown",
   "metadata": {},
   "source": [
    "### Inferences\n",
    "\n",
    "* People having Age group 26-35 collectively have spent heighest amount (40%). As also from the bar plot it can be seen that Males are dominating in three age groups (18-25),(26-35), and (36-45). \n",
    "\n",
    "* Also three age groups (46-50),(51-55), and 55+ females are dominating over male.\n",
    "\n",
    "* There are no Married couple in the age group 0-17."
   ]
  },
  {
   "cell_type": "markdown",
   "metadata": {},
   "source": [
    "## 1.8 Let's analyze how purchase amount is dependent upon occupation status."
   ]
  },
  {
   "cell_type": "markdown",
   "metadata": {},
   "source": [
    "### Inferences:\n",
    "* From the graph it is visible that Occupation masked 4,0,7,1,17 are the top 5 Occupation most common customers with the heighst Purchase capability.\n",
    "* Occupation masked with 13,19, 18,9, 8 has the lowestr capability of Purchase."
   ]
  },
  {
   "cell_type": "code",
   "execution_count": 166,
   "metadata": {},
   "outputs": [
    {
     "data": {
      "image/png": "[encoded data removed]",
      "text/plain": [
       "<Figure size 1080x576 with 1 Axes>"
      ]
     },
     "metadata": {},
     "output_type": "display_data"
    }
   ],
   "source": [
    "fig = plt.figure(figsize=(15,8))\n",
    "by_occupation = sales_data_train.groupby('Occupation')['Purchase'].sum().reset_index()\n",
    "sns.barplot(x='Occupation',y='Purchase',data = by_occupation)\n",
    "plt.plot(by_occupation.index,by_occupation.values,'bo-');"
   ]
  },
  {
   "cell_type": "markdown",
   "metadata": {},
   "source": [
    "### Average Purchase based on Occupation to understand the largest spender on Black Friday."
   ]
  },
  {
   "cell_type": "code",
   "execution_count": 167,
   "metadata": {},
   "outputs": [
    {
     "data": {
      "text/plain": [
       "<matplotlib.axes._subplots.AxesSubplot at 0x1f71304d288>"
      ]
     },
     "execution_count": 167,
     "metadata": {},
     "output_type": "execute_result"
    },
    {
     "data": {
      "image/png": "[encoded data removed]",
      "text/plain": [
       "<Figure size 864x432 with 1 Axes>"
      ]
     },
     "metadata": {},
     "output_type": "display_data"
    }
   ],
   "source": [
    "sales_data_train.groupby([\"Occupation\"]).mean()[[\"Purchase\"]].sort_values(by=\"Purchase\").plot.bar(title=\"Mean purchase of different occupation\", figsize=(12, 6))"
   ]
  },
  {
   "cell_type": "markdown",
   "metadata": {},
   "source": [
    "from the above mean distribution curve , it can be seen that People having occupation 15,12,17 spent more than others on Black friday which suggests that they need different marketing stratgies because they are biggest target."
   ]
  },
  {
   "cell_type": "code",
   "execution_count": 168,
   "metadata": {},
   "outputs": [
    {
     "data": {
      "text/html": [
       "<div>\n",
       "<style scoped>\n",
       "    .dataframe tbody tr th:only-of-type {\n",
       "        vertical-align: middle;\n",
       "    }\n",
       "\n",
       "    .dataframe tbody tr th {\n",
       "        vertical-align: top;\n",
       "    }\n",
       "\n",
       "    .dataframe thead th {\n",
       "        text-align: right;\n",
       "    }\n",
       "</style>\n",
       "<table border=\"1\" class=\"dataframe\">\n",
       "  <thead>\n",
       "    <tr style=\"text-align: right;\">\n",
       "      <th></th>\n",
       "      <th>Occupation</th>\n",
       "      <th>Purchase</th>\n",
       "    </tr>\n",
       "  </thead>\n",
       "  <tbody>\n",
       "    <tr>\n",
       "      <th>4</th>\n",
       "      <td>4</td>\n",
       "      <td>666244484</td>\n",
       "    </tr>\n",
       "    <tr>\n",
       "      <th>0</th>\n",
       "      <td>0</td>\n",
       "      <td>635406958</td>\n",
       "    </tr>\n",
       "    <tr>\n",
       "      <th>7</th>\n",
       "      <td>7</td>\n",
       "      <td>557371587</td>\n",
       "    </tr>\n",
       "    <tr>\n",
       "      <th>1</th>\n",
       "      <td>1</td>\n",
       "      <td>424614144</td>\n",
       "    </tr>\n",
       "    <tr>\n",
       "      <th>17</th>\n",
       "      <td>17</td>\n",
       "      <td>393281453</td>\n",
       "    </tr>\n",
       "    <tr>\n",
       "      <th>12</th>\n",
       "      <td>12</td>\n",
       "      <td>305449446</td>\n",
       "    </tr>\n",
       "    <tr>\n",
       "      <th>20</th>\n",
       "      <td>20</td>\n",
       "      <td>296570442</td>\n",
       "    </tr>\n",
       "    <tr>\n",
       "      <th>14</th>\n",
       "      <td>14</td>\n",
       "      <td>259454692</td>\n",
       "    </tr>\n",
       "    <tr>\n",
       "      <th>16</th>\n",
       "      <td>16</td>\n",
       "      <td>238346955</td>\n",
       "    </tr>\n",
       "    <tr>\n",
       "      <th>2</th>\n",
       "      <td>2</td>\n",
       "      <td>238028583</td>\n",
       "    </tr>\n",
       "    <tr>\n",
       "      <th>6</th>\n",
       "      <td>6</td>\n",
       "      <td>188416784</td>\n",
       "    </tr>\n",
       "    <tr>\n",
       "      <th>3</th>\n",
       "      <td>3</td>\n",
       "      <td>162002168</td>\n",
       "    </tr>\n",
       "    <tr>\n",
       "      <th>15</th>\n",
       "      <td>15</td>\n",
       "      <td>118960211</td>\n",
       "    </tr>\n",
       "    <tr>\n",
       "      <th>10</th>\n",
       "      <td>10</td>\n",
       "      <td>115844465</td>\n",
       "    </tr>\n",
       "    <tr>\n",
       "      <th>5</th>\n",
       "      <td>5</td>\n",
       "      <td>113649759</td>\n",
       "    </tr>\n",
       "    <tr>\n",
       "      <th>11</th>\n",
       "      <td>11</td>\n",
       "      <td>106751618</td>\n",
       "    </tr>\n",
       "    <tr>\n",
       "      <th>19</th>\n",
       "      <td>19</td>\n",
       "      <td>73700617</td>\n",
       "    </tr>\n",
       "    <tr>\n",
       "      <th>13</th>\n",
       "      <td>13</td>\n",
       "      <td>71919481</td>\n",
       "    </tr>\n",
       "    <tr>\n",
       "      <th>18</th>\n",
       "      <td>18</td>\n",
       "      <td>60721461</td>\n",
       "    </tr>\n",
       "    <tr>\n",
       "      <th>9</th>\n",
       "      <td>9</td>\n",
       "      <td>54340046</td>\n",
       "    </tr>\n",
       "    <tr>\n",
       "      <th>8</th>\n",
       "      <td>8</td>\n",
       "      <td>14737388</td>\n",
       "    </tr>\n",
       "  </tbody>\n",
       "</table>\n",
       "</div>"
      ],
      "text/plain": [
       "    Occupation   Purchase\n",
       "4            4  666244484\n",
       "0            0  635406958\n",
       "7            7  557371587\n",
       "1            1  424614144\n",
       "17          17  393281453\n",
       "12          12  305449446\n",
       "20          20  296570442\n",
       "14          14  259454692\n",
       "16          16  238346955\n",
       "2            2  238028583\n",
       "6            6  188416784\n",
       "3            3  162002168\n",
       "15          15  118960211\n",
       "10          10  115844465\n",
       "5            5  113649759\n",
       "11          11  106751618\n",
       "19          19   73700617\n",
       "13          13   71919481\n",
       "18          18   60721461\n",
       "9            9   54340046\n",
       "8            8   14737388"
      ]
     },
     "execution_count": 168,
     "metadata": {},
     "output_type": "execute_result"
    }
   ],
   "source": [
    "by_occupation.sort_values(by = 'Purchase',ascending = False)"
   ]
  },
  {
   "cell_type": "markdown",
   "metadata": {},
   "source": [
    "### Lets analyze the occupation groups with maximum count people."
   ]
  },
  {
   "cell_type": "code",
   "execution_count": 169,
   "metadata": {},
   "outputs": [
    {
     "data": {
      "image/png": "[encoded data removed]",
      "text/plain": [
       "<Figure size 1152x432 with 1 Axes>"
      ]
     },
     "metadata": {},
     "output_type": "display_data"
    }
   ],
   "source": [
    "occupation_counts = sales_data_train['Occupation'].value_counts()\n",
    "plt.figure(figsize = (16,6));\n",
    "plt.bar(occupation_counts.index,occupation_counts.values,color ='r');"
   ]
  },
  {
   "cell_type": "markdown",
   "metadata": {},
   "source": [
    "* Here the plot suggests Occupation with group 0,4,7,1 has the heighest count of Person.And these are the same occupation groups with most purchase. These occupations exceeds other occupations by great diffrence. So, these are the main marketing target."
   ]
  },
  {
   "cell_type": "markdown",
   "metadata": {},
   "source": [
    "## 1.9 <u>Univariate Analysis</u>"
   ]
  },
  {
   "cell_type": "code",
   "execution_count": 170,
   "metadata": {},
   "outputs": [
    {
     "name": "stdout",
     "output_type": "stream",
     "text": [
      "The mean of the Purchase column is 9263.968712959126\n"
     ]
    }
   ],
   "source": [
    "#Mean of the Purchase\n",
    "print(f\"The mean of the Purchase column is {sales_data_train['Purchase'].mean()}\")"
   ]
  },
  {
   "cell_type": "code",
   "execution_count": 171,
   "metadata": {},
   "outputs": [
    {
     "data": {
      "text/plain": [
       "Text(0, 0.5, 'Frequency')"
      ]
     },
     "execution_count": 171,
     "metadata": {},
     "output_type": "execute_result"
    },
    {
     "data": {
      "image/png": "[encoded data removed]",
      "text/plain": [
       "<Figure size 432x288 with 1 Axes>"
      ]
     },
     "metadata": {},
     "output_type": "display_data"
    }
   ],
   "source": [
    "#Analyzing the distribution of the Purchase\n",
    "sns.distplot(sales_data_train['Purchase'], bins=15,color=\"g\", kde_kws={\"shade\": True})\n",
    "(mu, sigma) = norm.fit(sales_data_train['Purchase'])\n",
    "plt.legend(['Normal dist. ($\\mu=$ {:.2f} and $\\sigma=$ {:.2f} )'.format(mu, sigma)],loc='best')\n",
    "plt.ylabel('Frequency')"
   ]
  },
  {
   "cell_type": "markdown",
   "metadata": {},
   "source": [
    "* As you can see that the distribution is multimodal as there are many local miximum.\n",
    "* It can be noticed that mostly the purchase amount is between 5000 - 10000"
   ]
  },
  {
   "cell_type": "code",
   "execution_count": 172,
   "metadata": {},
   "outputs": [
    {
     "name": "stdout",
     "output_type": "stream",
     "text": [
      "The median of the Purchase column is 8047.0\n"
     ]
    }
   ],
   "source": [
    "#Meadin of the Purchase.\n",
    "print(f\"The median of the Purchase column is {sales_data_train['Purchase'].median()}\")"
   ]
  },
  {
   "cell_type": "code",
   "execution_count": 173,
   "metadata": {},
   "outputs": [
    {
     "name": "stdout",
     "output_type": "stream",
     "text": [
      "The standard deviatoin of the Purchase column is 5023.060827959972\n"
     ]
    }
   ],
   "source": [
    "#Standard Deviation\n",
    "print(f\"The standard deviatoin of the Purchase column is {np.std(sales_data_train['Purchase'])}\")"
   ]
  },
  {
   "cell_type": "markdown",
   "metadata": {},
   "source": [
    "------------------------------------------------------------------------------------------------------------------------------"
   ]
  },
  {
   "cell_type": "code",
   "execution_count": 174,
   "metadata": {},
   "outputs": [
    {
     "data": {
      "text/plain": [
       "(165021, 11)"
      ]
     },
     "execution_count": 174,
     "metadata": {},
     "output_type": "execute_result"
    }
   ],
   "source": [
    "X_validation_.shape"
   ]
  },
  {
   "cell_type": "code",
   "execution_count": 175,
   "metadata": {},
   "outputs": [
    {
     "data": {
      "text/plain": [
       "(385047, 11)"
      ]
     },
     "execution_count": 175,
     "metadata": {},
     "output_type": "execute_result"
    }
   ],
   "source": [
    "X_train_.shape"
   ]
  },
  {
   "cell_type": "markdown",
   "metadata": {},
   "source": [
    "------------------------------------------------------------------------------------------------------------------------------"
   ]
  },
  {
   "cell_type": "markdown",
   "metadata": {},
   "source": [
    "# 4 <u>Feature Engineering on Train data </u>\n",
    "\n",
    "* I have done feature enginnering on train data and map the mapper functions into Test Data.\n",
    "* It will also avoid Output Leakage"
   ]
  },
  {
   "cell_type": "markdown",
   "metadata": {},
   "source": [
    "## 4.1 Deriving New Features based on EDA Inferences\n",
    "\n",
    "### 4.1.1 Feature Name: Total_category \n",
    "* Total category defines how many types of categories a user bought combined on Black Friday.\n",
    "\n",
    "#### Objective:\n",
    "\n",
    "* As from the exploatory analysis we have seen that if a person bought all three types of Category then the Purchase amount is maximum. and the trend follows like this - \n",
    "Purchase Amount(Category1) < Purchase Amount(Category1 + category2) < Purchase Amount(Category1 + category2 +Category3)\n"
   ]
  },
  {
   "cell_type": "code",
   "execution_count": 177,
   "metadata": {},
   "outputs": [],
   "source": [
    "def total_catgory(dataset):\n",
    "    dataset['Total_category'] = 1\n",
    "    dataset.loc[(dataset['Product_Category_1'] > 0) & (dataset['Product_Category_2'] < 0) & (dataset['Product_Category_3'] < 0), 'Total_category'] = 1\n",
    "    dataset.loc[(dataset['Product_Category_1'] > 0) & (dataset['Product_Category_2'] > 0) & (dataset['Product_Category_3'] < 0), 'Total_category'] = 2\n",
    "    dataset.loc[(dataset['Product_Category_1'] > 0) & (dataset['Product_Category_2'] > 0) & (dataset['Product_Category_3'] > 0), 'Total_category'] = 3\n",
    "    return dataset\n",
    "\n",
    "X_train_ = total_catgory(X_train_)"
   ]
  },
  {
   "cell_type": "markdown",
   "metadata": {},
   "source": [
    "### 4.1.2 Feature name: Product_popularity_Score\n",
    "\n",
    "#### Objective\n",
    "* I ham creating a feature product_popularity_score which will suggests what is the occurance of each product respect to the maximum occurance of the product."
   ]
  },
  {
   "cell_type": "code",
   "execution_count": 178,
   "metadata": {},
   "outputs": [],
   "source": [
    "def Product_Popularity_Score(dataset):\n",
    "    dataset['Product_popularity_Score'] = 0.0\n",
    "    requires_product_data = dataset[['Product_ID','Product_popularity_Score']]\n",
    "    requires_product_data['Product_Occurance'] = 1\n",
    "    grouped_product_count = requires_product_data.groupby(['Product_ID']).sum()\n",
    "    grouped_product_count = grouped_product_count.reset_index()\n",
    "    grouped_product_count['Product_popularity_Score'] = grouped_product_count['Product_Occurance'] / float(grouped_product_count['Product_Occurance'].max())\n",
    "    dataset['Product_popularity_Score'] = dataset['Product_ID'].map(grouped_product_count.set_index('Product_ID')['Product_popularity_Score'])\n",
    "    return dataset\n",
    "\n",
    "X_train_ = Product_Popularity_Score(X_train_)"
   ]
  },
  {
   "cell_type": "markdown",
   "metadata": {},
   "source": [
    "### 4.1.3 Feature name: User_popularity_Score\n",
    "\n",
    "#### Objective\n",
    "* I ham creating a user product_popularity_score which will help to analyze the users behaviour and it will help to target most frequent users in the Black Friday Sales."
   ]
  },
  {
   "cell_type": "code",
   "execution_count": 179,
   "metadata": {},
   "outputs": [],
   "source": [
    "# Deriving new feature User_popularity_score\n",
    "def User_Popularity_Score(dataset):\n",
    "    dataset['User_popularity_Score'] = 0.0\n",
    "    requires_user_data = dataset[['User_ID','User_popularity_Score']]\n",
    "    #Initial Frequency is 1 and its increments which same occurs\n",
    "    requires_user_data['User_Occurance'] = 1\n",
    "    #Finding the total frequency of each customer\n",
    "    grouped_user_count = requires_user_data.groupby(['User_ID']).sum()\n",
    "    grouped_user_count = grouped_user_count.reset_index()\n",
    "    # Finding the popularity with respect to most popular user\n",
    "    grouped_user_count['User_popularity_Score'] = grouped_user_count['User_Occurance'] / float(grouped_user_count['User_Occurance'].max())\n",
    "    dataset['User_popularity_Score'] = dataset['User_ID'].map(grouped_user_count.set_index('User_ID')['User_popularity_Score'])\n",
    "    return dataset\n",
    "\n",
    "X_train_ = User_Popularity_Score(X_train_)"
   ]
  },
  {
   "cell_type": "markdown",
   "metadata": {},
   "source": [
    "### 4.2.4 Feature name: Occupation_Score\n",
    "\n",
    "#### Objective\n",
    "* As shown from the above EDA, occupation plays a vital role in predicting Purchase Amount. Each occupation groups has different Purchase amount and count of people is also different. It will help us to target for biggest spender.\n",
    "\n",
    "* OccupationPurchase Score is between 0 and 1. 1 means it is the most common in the dataset. It will act as a standard to score Occupation groups."
   ]
  },
  {
   "cell_type": "code",
   "execution_count": 180,
   "metadata": {},
   "outputs": [],
   "source": [
    "def OccupationScore(dataset):\n",
    "    Occupation_Score = pd.DataFrame(dataset[\"Occupation\"].value_counts()).reset_index()\n",
    "    Occupation_Score = Occupation_Score.rename(columns={'index':'Occupation_mask','Occupation':'People_Count'})\n",
    "    Occupation_Score['Ocupation_score'] = 0.0\n",
    "    Occupation_Score['Ocupation_score'] = Occupation_Score['People_Count'] / float(Occupation_Score['People_Count'].max())\n",
    "    dataset['Ocupation_Score'] = dataset['Occupation'].map(Occupation_Score.set_index('Occupation_mask')['Ocupation_score'])\n",
    "    return dataset\n",
    "\n",
    "X_train_ = OccupationScore(X_train_)"
   ]
  },
  {
   "cell_type": "markdown",
   "metadata": {},
   "source": [
    "### 4.2.5 Feature name: Age_Gender_Ratio\n",
    "\n",
    "#### Objective\n",
    "* As shown from the above EDA, Gender as well as Age groups plays very important role. We can see the trend that Males are mainly more dominating over females in purchase. So if we can make a ration of Male and Females in each group it can be a useful feature."
   ]
  },
  {
   "cell_type": "code",
   "execution_count": 181,
   "metadata": {},
   "outputs": [],
   "source": [
    "dup_dataset = X_train_\n",
    "a = pd.DataFrame(dup_dataset.groupby(['Age'])['Gender'].value_counts())"
   ]
  },
  {
   "cell_type": "code",
   "execution_count": 182,
   "metadata": {},
   "outputs": [
    {
     "data": {
      "text/html": [
       "<div>\n",
       "<style scoped>\n",
       "    .dataframe tbody tr th:only-of-type {\n",
       "        vertical-align: middle;\n",
       "    }\n",
       "\n",
       "    .dataframe tbody tr th {\n",
       "        vertical-align: top;\n",
       "    }\n",
       "\n",
       "    .dataframe thead th {\n",
       "        text-align: right;\n",
       "    }\n",
       "</style>\n",
       "<table border=\"1\" class=\"dataframe\">\n",
       "  <thead>\n",
       "    <tr style=\"text-align: right;\">\n",
       "      <th></th>\n",
       "      <th></th>\n",
       "      <th>Gender</th>\n",
       "    </tr>\n",
       "    <tr>\n",
       "      <th>Age</th>\n",
       "      <th>Gender</th>\n",
       "      <th></th>\n",
       "    </tr>\n",
       "  </thead>\n",
       "  <tbody>\n",
       "    <tr>\n",
       "      <th rowspan=\"2\" valign=\"top\">0-17</th>\n",
       "      <th>M</th>\n",
       "      <td>7137</td>\n",
       "    </tr>\n",
       "    <tr>\n",
       "      <th>F</th>\n",
       "      <td>3568</td>\n",
       "    </tr>\n",
       "    <tr>\n",
       "      <th rowspan=\"2\" valign=\"top\">18-25</th>\n",
       "      <th>M</th>\n",
       "      <td>52658</td>\n",
       "    </tr>\n",
       "    <tr>\n",
       "      <th>F</th>\n",
       "      <td>17223</td>\n",
       "    </tr>\n",
       "    <tr>\n",
       "      <th rowspan=\"2\" valign=\"top\">26-35</th>\n",
       "      <th>M</th>\n",
       "      <td>118156</td>\n",
       "    </tr>\n",
       "    <tr>\n",
       "      <th>F</th>\n",
       "      <td>35582</td>\n",
       "    </tr>\n",
       "    <tr>\n",
       "      <th rowspan=\"2\" valign=\"top\">36-45</th>\n",
       "      <th>M</th>\n",
       "      <td>57788</td>\n",
       "    </tr>\n",
       "    <tr>\n",
       "      <th>F</th>\n",
       "      <td>18885</td>\n",
       "    </tr>\n",
       "    <tr>\n",
       "      <th rowspan=\"2\" valign=\"top\">46-50</th>\n",
       "      <th>M</th>\n",
       "      <td>22787</td>\n",
       "    </tr>\n",
       "    <tr>\n",
       "      <th>F</th>\n",
       "      <td>9235</td>\n",
       "    </tr>\n",
       "    <tr>\n",
       "      <th rowspan=\"2\" valign=\"top\">51-55</th>\n",
       "      <th>M</th>\n",
       "      <td>20054</td>\n",
       "    </tr>\n",
       "    <tr>\n",
       "      <th>F</th>\n",
       "      <td>6902</td>\n",
       "    </tr>\n",
       "    <tr>\n",
       "      <th rowspan=\"2\" valign=\"top\">55+</th>\n",
       "      <th>M</th>\n",
       "      <td>11484</td>\n",
       "    </tr>\n",
       "    <tr>\n",
       "      <th>F</th>\n",
       "      <td>3588</td>\n",
       "    </tr>\n",
       "  </tbody>\n",
       "</table>\n",
       "</div>"
      ],
      "text/plain": [
       "              Gender\n",
       "Age   Gender        \n",
       "0-17  M         7137\n",
       "      F         3568\n",
       "18-25 M        52658\n",
       "      F        17223\n",
       "26-35 M       118156\n",
       "      F        35582\n",
       "36-45 M        57788\n",
       "      F        18885\n",
       "46-50 M        22787\n",
       "      F         9235\n",
       "51-55 M        20054\n",
       "      F         6902\n",
       "55+   M        11484\n",
       "      F         3588"
      ]
     },
     "execution_count": 182,
     "metadata": {},
     "output_type": "execute_result"
    }
   ],
   "source": [
    "a"
   ]
  },
  {
   "cell_type": "code",
   "execution_count": 183,
   "metadata": {},
   "outputs": [],
   "source": [
    "age_gender_group = {'Age_Groups': ['0-17','18-25','26-35','36-45','46-50','51-55','55+'],\n",
    "        'Male_ratio': [0.666,0.7545,0.7713,0.7569,0.7157,0.7392,0.7613],\n",
    "        'Female_ratio':[0.334,0.2455,0.2287,0.2431,0.2843,0.2608,0.2387]\n",
    "        }"
   ]
  },
  {
   "cell_type": "code",
   "execution_count": 184,
   "metadata": {},
   "outputs": [],
   "source": [
    "age_gender = pd.DataFrame(age_gender_group, columns = ['Age_Groups', 'Male_ratio','Female_ratio'])"
   ]
  },
  {
   "cell_type": "code",
   "execution_count": 185,
   "metadata": {},
   "outputs": [
    {
     "data": {
      "text/html": [
       "<div>\n",
       "<style scoped>\n",
       "    .dataframe tbody tr th:only-of-type {\n",
       "        vertical-align: middle;\n",
       "    }\n",
       "\n",
       "    .dataframe tbody tr th {\n",
       "        vertical-align: top;\n",
       "    }\n",
       "\n",
       "    .dataframe thead th {\n",
       "        text-align: right;\n",
       "    }\n",
       "</style>\n",
       "<table border=\"1\" class=\"dataframe\">\n",
       "  <thead>\n",
       "    <tr style=\"text-align: right;\">\n",
       "      <th></th>\n",
       "      <th>Age_Groups</th>\n",
       "      <th>Male_ratio</th>\n",
       "      <th>Female_ratio</th>\n",
       "    </tr>\n",
       "  </thead>\n",
       "  <tbody>\n",
       "    <tr>\n",
       "      <th>0</th>\n",
       "      <td>0-17</td>\n",
       "      <td>0.6660</td>\n",
       "      <td>0.3340</td>\n",
       "    </tr>\n",
       "    <tr>\n",
       "      <th>1</th>\n",
       "      <td>18-25</td>\n",
       "      <td>0.7545</td>\n",
       "      <td>0.2455</td>\n",
       "    </tr>\n",
       "    <tr>\n",
       "      <th>2</th>\n",
       "      <td>26-35</td>\n",
       "      <td>0.7713</td>\n",
       "      <td>0.2287</td>\n",
       "    </tr>\n",
       "    <tr>\n",
       "      <th>3</th>\n",
       "      <td>36-45</td>\n",
       "      <td>0.7569</td>\n",
       "      <td>0.2431</td>\n",
       "    </tr>\n",
       "    <tr>\n",
       "      <th>4</th>\n",
       "      <td>46-50</td>\n",
       "      <td>0.7157</td>\n",
       "      <td>0.2843</td>\n",
       "    </tr>\n",
       "  </tbody>\n",
       "</table>\n",
       "</div>"
      ],
      "text/plain": [
       "  Age_Groups  Male_ratio  Female_ratio\n",
       "0       0-17      0.6660        0.3340\n",
       "1      18-25      0.7545        0.2455\n",
       "2      26-35      0.7713        0.2287\n",
       "3      36-45      0.7569        0.2431\n",
       "4      46-50      0.7157        0.2843"
      ]
     },
     "execution_count": 185,
     "metadata": {},
     "output_type": "execute_result"
    }
   ],
   "source": [
    "age_gender.head()"
   ]
  },
  {
   "cell_type": "code",
   "execution_count": 186,
   "metadata": {},
   "outputs": [],
   "source": [
    "def Age_Gender_Ratio(dataset):\n",
    "    dataset['Male_ratio'] = dataset['Age'].map(age_gender.set_index('Age_Groups')['Male_ratio'])\n",
    "    dataset['Female_ratio'] = dataset['Age'].map(age_gender.set_index('Age_Groups')['Female_ratio'])\n",
    "    return dataset\n",
    "\n",
    "X_train_ = Age_Gender_Ratio(X_train_)"
   ]
  },
  {
   "cell_type": "markdown",
   "metadata": {},
   "source": [
    "### 4.2.6 Feature name: Population_Duration\n",
    "\n",
    "#### Objective\n",
    "* As shown from the above EDA, there is a trend like People staying for 1 year duration has the heigst Purchase and gradually for 2years, 3 years, 4years. So, Duration can be a dependent factor for purchase. So, population_duration is a parameter which will show how many people have spent spent how many duration. Many the people in the duration of 1 year will purchase more and so on. We will measure on the scale of people staying for 1 year duration because they have the heigst average purchase and our biggest target."
   ]
  },
  {
   "cell_type": "code",
   "execution_count": 187,
   "metadata": {},
   "outputs": [],
   "source": [
    "occpation_groupby = pd.DataFrame(dup_dataset['Stay_In_Current_City_Years'].value_counts()).reset_index()\n",
    "occpation_groupby = occpation_groupby.rename(columns={'index':'Stay_Duration','Stay_In_Current_City_Years':'People_Count'})\n",
    "occpation_groupby['Population_fraction'] = occpation_groupby['People_Count'] / occpation_groupby['People_Count'].max()"
   ]
  },
  {
   "cell_type": "code",
   "execution_count": 188,
   "metadata": {},
   "outputs": [
    {
     "data": {
      "text/html": [
       "<div>\n",
       "<style scoped>\n",
       "    .dataframe tbody tr th:only-of-type {\n",
       "        vertical-align: middle;\n",
       "    }\n",
       "\n",
       "    .dataframe tbody tr th {\n",
       "        vertical-align: top;\n",
       "    }\n",
       "\n",
       "    .dataframe thead th {\n",
       "        text-align: right;\n",
       "    }\n",
       "</style>\n",
       "<table border=\"1\" class=\"dataframe\">\n",
       "  <thead>\n",
       "    <tr style=\"text-align: right;\">\n",
       "      <th></th>\n",
       "      <th>Stay_Duration</th>\n",
       "      <th>People_Count</th>\n",
       "      <th>Population_fraction</th>\n",
       "    </tr>\n",
       "  </thead>\n",
       "  <tbody>\n",
       "    <tr>\n",
       "      <th>0</th>\n",
       "      <td>1</td>\n",
       "      <td>135344</td>\n",
       "      <td>1.000000</td>\n",
       "    </tr>\n",
       "    <tr>\n",
       "      <th>1</th>\n",
       "      <td>2</td>\n",
       "      <td>71096</td>\n",
       "      <td>0.525298</td>\n",
       "    </tr>\n",
       "    <tr>\n",
       "      <th>2</th>\n",
       "      <td>3</td>\n",
       "      <td>66898</td>\n",
       "      <td>0.494281</td>\n",
       "    </tr>\n",
       "    <tr>\n",
       "      <th>3</th>\n",
       "      <td>4+</td>\n",
       "      <td>59601</td>\n",
       "      <td>0.440367</td>\n",
       "    </tr>\n",
       "    <tr>\n",
       "      <th>4</th>\n",
       "      <td>0</td>\n",
       "      <td>52108</td>\n",
       "      <td>0.385004</td>\n",
       "    </tr>\n",
       "  </tbody>\n",
       "</table>\n",
       "</div>"
      ],
      "text/plain": [
       "  Stay_Duration  People_Count  Population_fraction\n",
       "0             1        135344             1.000000\n",
       "1             2         71096             0.525298\n",
       "2             3         66898             0.494281\n",
       "3            4+         59601             0.440367\n",
       "4             0         52108             0.385004"
      ]
     },
     "execution_count": 188,
     "metadata": {},
     "output_type": "execute_result"
    }
   ],
   "source": [
    "occpation_groupby"
   ]
  },
  {
   "cell_type": "code",
   "execution_count": 189,
   "metadata": {},
   "outputs": [],
   "source": [
    "def Population_Duration(dataset):\n",
    "    dataset['Population_Duration'] = dataset['Stay_In_Current_City_Years'].map(occpation_groupby.set_index('Stay_Duration')['Population_fraction'])\n",
    "    return dataset\n",
    "\n",
    "X_train_ = Population_Duration(X_train_)"
   ]
  },
  {
   "cell_type": "markdown",
   "metadata": {},
   "source": [
    "### 4.2.7 Feature name: Cat1_Popularity_per_User\n",
    "\n",
    "#### Objective\n",
    "* As shown below it can be seen that products of category1 has the heighest sale comperative to Product Category2 and 3 which suggests that Category1 product are most popular among the people . This feature will help us to map how many products of category1 are sold to each user in the Black friday.\n",
    "\n",
    "* It will help in stock prediction for future sales."
   ]
  },
  {
   "cell_type": "code",
   "execution_count": 190,
   "metadata": {},
   "outputs": [
    {
     "name": "stdout",
     "output_type": "stream",
     "text": [
      "Total Products sold of category_1 is: 385047\n",
      "Total Products sold of category_2 is: 353864\n",
      "Total Products sold of category_3 is: 315545\n"
     ]
    }
   ],
   "source": [
    "print(f\"Total Products sold of category_1 is: {X_train_['Product_Category_1'].value_counts().sum()}\")\n",
    "# 31183 is the sum of -1 which suggest the missing values in category2 so it is deducted.\n",
    "print(f\"Total Products sold of category_2 is: {X_train_['Product_Category_2'].value_counts().sum()-31183}\")\n",
    "# 31183 is the sum of -1 which suggest the missing values in category3 so it is deducted.\n",
    "print(f\"Total Products sold of category_3 is: {X_train_['Product_Category_3'].value_counts().sum()-69502}\")"
   ]
  },
  {
   "cell_type": "code",
   "execution_count": 191,
   "metadata": {},
   "outputs": [],
   "source": [
    "#Storing the unique Users list\n",
    "unique_User_list = list(dup_dataset['User_ID'].unique())"
   ]
  },
  {
   "cell_type": "code",
   "execution_count": 192,
   "metadata": {},
   "outputs": [
    {
     "name": "stdout",
     "output_type": "stream",
     "text": [
      "{1003916: 196, 1005788: 328, 1001179: 103, 1005604: 90, 1003011: 40, 1004238: 336, 1002129: 136, 1001119: 167, 1005841: 124, 1001741: 274, 1001005: 36, 1004564: 8, 1000802: 197, 1002943: 55, 1001968: 178, 1001312: 66, 1005186: 28, 1002266: 44, 1004819: 221, 1005387: 290, 1001354: 282, 1000839: 312, 1001202: 190, 1003182: 228, 1001449: 509, 1003371: 187, 1000195: 323, 1004016: 264, 1005753: 33, 1000463: 47, 1000644: 48, 1003854: 30, 1001116: 59, 1005767: 147, 1001949: 47, 1001579: 302, 1002166: 84, 1000473: 24, 1002170: 45, 1002941: 135, 1005636: 334, 1002842: 29, 1002859: 56, 1005615: 133, 1005350: 89, 1003791: 54, 1002870: 58, 1000368: 128, 1003320: 223, 1001165: 60, 1004647: 350, 1003230: 68, 1002073: 240, 1001980: 471, 1001875: 125, 1005759: 231, 1003401: 331, 1005888: 224, 1001430: 43, 1002500: 51, 1000244: 32, 1001137: 220, 1000321: 96, 1001680: 734, 1002192: 36, 1005567: 139, 1002909: 513, 1004369: 14, 1005493: 202, 1005156: 125, 1002380: 165, 1005956: 123, 1003821: 293, 1005526: 111, 1001585: 46, 1001941: 618, 1004089: 278, 1004271: 210, 1005701: 48, 1003717: 122, 1005312: 298, 1004663: 157, 1001125: 250, 1002140: 74, 1002645: 117, 1000860: 15, 1004183: 147, 1001156: 32, 1004085: 313, 1000372: 58, 1005347: 97, 1002928: 166, 1001796: 66, 1003512: 176, 1002181: 337, 1001228: 95, 1005323: 103, 1003505: 46, 1004243: 65, 1000403: 126, 1000625: 15, 1001058: 144, 1005995: 70, 1000216: 291, 1005795: 504, 1000865: 19, 1005450: 131, 1000424: 503, 1001733: 325, 1005880: 301, 1004411: 249, 1004083: 297, 1005575: 106, 1001284: 187, 1003292: 355, 1005582: 61, 1003221: 14, 1001117: 308, 1001576: 22, 1005955: 152, 1004344: 491, 1000671: 71, 1000543: 239, 1002753: 202, 1005492: 170, 1002900: 112, 1003450: 78, 1000325: 21, 1003309: 106, 1001781: 48, 1003823: 250, 1000411: 254, 1005204: 17, 1004950: 185, 1003684: 55, 1003348: 23, 1002860: 167, 1004298: 106, 1004007: 221, 1002116: 381, 1002018: 183, 1005147: 19, 1002293: 121, 1003688: 116, 1005025: 46, 1003231: 59, 1001592: 141, 1001635: 300, 1002611: 174, 1001630: 48, 1001112: 274, 1000929: 144, 1005161: 129, 1001675: 232, 1003102: 14, 1001620: 17, 1003299: 120, 1005844: 38, 1001546: 136, 1004771: 204, 1004438: 73, 1001889: 245, 1002740: 46, 1001273: 147, 1002590: 151, 1004552: 42, 1005675: 221, 1003469: 174, 1004122: 116, 1002183: 19, 1003921: 30, 1001071: 51, 1000237: 65, 1001943: 262, 1004401: 94, 1005501: 226, 1001861: 168, 1001325: 118, 1001084: 74, 1003576: 222, 1003642: 9, 1002757: 49, 1003147: 102, 1003949: 37, 1004470: 111, 1001879: 100, 1005708: 36, 1002046: 38, 1005684: 192, 1004472: 189, 1005196: 20, 1003471: 314, 1005446: 40, 1001878: 32, 1000924: 82, 1001225: 11, 1002796: 144, 1000369: 29, 1001658: 142, 1004467: 82, 1003837: 83, 1004277: 686, 1001068: 246, 1001242: 257, 1003125: 133, 1004849: 62, 1000744: 113, 1003833: 116, 1004965: 48, 1004054: 255, 1004658: 232, 1001434: 112, 1002105: 206, 1005942: 78, 1002230: 104, 1003890: 36, 1003792: 351, 1001912: 388, 1001584: 205, 1000706: 50, 1004823: 177, 1005287: 88, 1005755: 199, 1001601: 63, 1000550: 381, 1000293: 130, 1000827: 12, 1003998: 135, 1005763: 274, 1003281: 63, 1004769: 27, 1003754: 137, 1000319: 285, 1006008: 18, 1003773: 149, 1003709: 132, 1001749: 202, 1003432: 55, 1001183: 82, 1005806: 70, 1003313: 197, 1000215: 12, 1000524: 380, 1002750: 80, 1002203: 210, 1003059: 15, 1005780: 93, 1001655: 59, 1004053: 205, 1000482: 308, 1004351: 68, 1002907: 329, 1002934: 247, 1004506: 207, 1000538: 20, 1000169: 213, 1004447: 403, 1002453: 255, 1003333: 73, 1001356: 176, 1005538: 67, 1004258: 138, 1001050: 198, 1002786: 110, 1003423: 119, 1002402: 202, 1000230: 64, 1005046: 342, 1005220: 269, 1001015: 511, 1003539: 436, 1003377: 59, 1001880: 358, 1002023: 114, 1001425: 320, 1000102: 63, 1001266: 272, 1001714: 109, 1005653: 87, 1002890: 64, 1001146: 165, 1005558: 95, 1003410: 281, 1003376: 10, 1000691: 42, 1001600: 165, 1004354: 250, 1005779: 173, 1004070: 52, 1003529: 81, 1005442: 30, 1001812: 271, 1003300: 157, 1003509: 162, 1005643: 397, 1000566: 201, 1001047: 29, 1003737: 57, 1004888: 126, 1004642: 16, 1005344: 81, 1000349: 121, 1004890: 80, 1004780: 46, 1002219: 93, 1004654: 25, 1003768: 291, 1003947: 34, 1000651: 192, 1003494: 10, 1004510: 482, 1004305: 265, 1005124: 114, 1005580: 153, 1000416: 25, 1003025: 56, 1001335: 126, 1000173: 231, 1003942: 241, 1005943: 29, 1001609: 147, 1005265: 106, 1004111: 22, 1005074: 311, 1002857: 312, 1000869: 346, 1004041: 332, 1001433: 37, 1004957: 306, 1004494: 28, 1005878: 231, 1005621: 187, 1001057: 68, 1002935: 58, 1004309: 47, 1000366: 100, 1000548: 41, 1001621: 10, 1004422: 167, 1004839: 6, 1004648: 14, 1000232: 36, 1003605: 61, 1005172: 166, 1001391: 90, 1001458: 39, 1003650: 317, 1000308: 227, 1000710: 347, 1005584: 36, 1003835: 36, 1005251: 68, 1004940: 111, 1003014: 71, 1000149: 228, 1004796: 146, 1002145: 85, 1003641: 184, 1002544: 291, 1002888: 162, 1005198: 115, 1000740: 16, 1001969: 205, 1000637: 144, 1001201: 28, 1002016: 143, 1004322: 160, 1005765: 91, 1003564: 55, 1005047: 133, 1001472: 96, 1003841: 497, 1000272: 182, 1001760: 28, 1002011: 97, 1002079: 36, 1003953: 90, 1005402: 40, 1004064: 379, 1002726: 28, 1005068: 29, 1001395: 115, 1001948: 79, 1004055: 163, 1005650: 115, 1002440: 7, 1005384: 21, 1004563: 16, 1005762: 106, 1000752: 419, 1004269: 84, 1004448: 406, 1001324: 43, 1000757: 193, 1005256: 324, 1001632: 300, 1002389: 107, 1000555: 22, 1002605: 68, 1006025: 115, 1000313: 14, 1000148: 235, 1001963: 29, 1004140: 280, 1002272: 57, 1003747: 31, 1004837: 136, 1005556: 108, 1003484: 72, 1004167: 192, 1001645: 215, 1005976: 51, 1001172: 179, 1002744: 63, 1000604: 114, 1005768: 31, 1001903: 85, 1000047: 10, 1002559: 86, 1004812: 65, 1002901: 106, 1001984: 112, 1002781: 119, 1001696: 124, 1001685: 166, 1001010: 404, 1003952: 22, 1002938: 88, 1003199: 46, 1004725: 379, 1000302: 316, 1002688: 56, 1002948: 27, 1005084: 107, 1004337: 96, 1004804: 25, 1000646: 109, 1001883: 153, 1004386: 329, 1004010: 9, 1004360: 100, 1005855: 21, 1004540: 21, 1002146: 45, 1002445: 79, 1001160: 42, 1002055: 63, 1004645: 54, 1000161: 124, 1004335: 180, 1000396: 68, 1004203: 59, 1003251: 26, 1005821: 21, 1005548: 75, 1000877: 236, 1003846: 30, 1004882: 87, 1001069: 246, 1001753: 106, 1003269: 36, 1002820: 332, 1002854: 156, 1000977: 113, 1004921: 80, 1003651: 100, 1002905: 49, 1005491: 83, 1004204: 97, 1004579: 270, 1002164: 171, 1003853: 126, 1005360: 18, 1005664: 115, 1001712: 191, 1000223: 97, 1003621: 138, 1004560: 115, 1003213: 44, 1003217: 147, 1001420: 107, 1002071: 94, 1003378: 85, 1001088: 481, 1000721: 243, 1002995: 152, 1002720: 12, 1004312: 339, 1004445: 47, 1001303: 276, 1000351: 42, 1003872: 25, 1003012: 121, 1004521: 91, 1004600: 120, 1001181: 611, 1005269: 141, 1004529: 16, 1005960: 74, 1001224: 226, 1005629: 38, 1001377: 211, 1004058: 194, 1000889: 570, 1003189: 180, 1000255: 88, 1003389: 238, 1003065: 112, 1000270: 58, 1003311: 398, 1005173: 55, 1002680: 82, 1004992: 8, 1000026: 149, 1001004: 177, 1001628: 172, 1002547: 47, 1003261: 216, 1004567: 34, 1005573: 68, 1005437: 63, 1002737: 167, 1004928: 125, 1000225: 210, 1004079: 185, 1005950: 181, 1002537: 229, 1001501: 201, 1003763: 58, 1001203: 333, 1003118: 217, 1001831: 38, 1004593: 128, 1001780: 238, 1002068: 47, 1004814: 72, 1000063: 39, 1001447: 372, 1005039: 149, 1001159: 48, 1005242: 52, 1005003: 18, 1005393: 83, 1006002: 112, 1000139: 107, 1004592: 82, 1005875: 58, 1003028: 49, 1001029: 112, 1005972: 167, 1001448: 383, 1003900: 158, 1001535: 13, 1000192: 201, 1005720: 134, 1003712: 61, 1004387: 283, 1004381: 172, 1003807: 192, 1005234: 81, 1001141: 181, 1000096: 31, 1003001: 126, 1003062: 22, 1000127: 67, 1002996: 180, 1005698: 133, 1002793: 335, 1000018: 123, 1003824: 395, 1005342: 49, 1005561: 85, 1003983: 62, 1002685: 85, 1004380: 64, 1002670: 109, 1003198: 35, 1003507: 351, 1001542: 114, 1000307: 80, 1005511: 276, 1002002: 59, 1004373: 109, 1002053: 12, 1001606: 63, 1004729: 89, 1005375: 16, 1001164: 190, 1001947: 51, 1004578: 188, 1000795: 53, 1003625: 74, 1001974: 195, 1005040: 49, 1001031: 65, 1001718: 14, 1002814: 60, 1004568: 126, 1000770: 295, 1003108: 207, 1003555: 51, 1004489: 179, 1004682: 292, 1003393: 99, 1001776: 154, 1000065: 48, 1001457: 110, 1000960: 48, 1000331: 234, 1003465: 23, 1002404: 39, 1005627: 308, 1002401: 27, 1006032: 38, 1000767: 67, 1001496: 206, 1006018: 65, 1003603: 131, 1005111: 335, 1003812: 51, 1005949: 86, 1001666: 157, 1001842: 173, 1002950: 29, 1004867: 234, 1002596: 11, 1005443: 160, 1000715: 40, 1002109: 287, 1003724: 218, 1003661: 58, 1000501: 29, 1002015: 348, 1003067: 362, 1001418: 106, 1004737: 49, 1001793: 106, 1005540: 32, 1005319: 174, 1002405: 24, 1003466: 23, 1002281: 35, 1001885: 29, 1003697: 59, 1005187: 51, 1005142: 141, 1003204: 21, 1005324: 66, 1004186: 236, 1000151: 201, 1004807: 42, 1001699: 140, 1003416: 187, 1004508: 444, 1003426: 53, 1001246: 236, 1001983: 200, 1004806: 65, 1002520: 22, 1000875: 32, 1003715: 128, 1000673: 153, 1000676: 149, 1004150: 154, 1000611: 50, 1005388: 14, 1002693: 64, 1000387: 30, 1000577: 60, 1000873: 69, 1005500: 28, 1005831: 498, 1006007: 118, 1001120: 294, 1005170: 31, 1005858: 87, 1004471: 58, 1001856: 45, 1000100: 31, 1004948: 204, 1001642: 35, 1004233: 52, 1001080: 26, 1004088: 178, 1001241: 75, 1004217: 147, 1005568: 139, 1001260: 198, 1005848: 170, 1005978: 163, 1004013: 92, 1002041: 223, 1000042: 93, 1001490: 66, 1003836: 179, 1000438: 221, 1001687: 158, 1003829: 314, 1000796: 162, 1005054: 284, 1003799: 47, 1005977: 19, 1006003: 108, 1001726: 144, 1004543: 416, 1002259: 88, 1003055: 108, 1003558: 131, 1001958: 341, 1002329: 14, 1002326: 23, 1000587: 140, 1000953: 89, 1002029: 95, 1005091: 113, 1005693: 13, 1003081: 133, 1001064: 43, 1002131: 133, 1002843: 15, 1005523: 134, 1001347: 53, 1004937: 82, 1003180: 212, 1003887: 113, 1001530: 154, 1001641: 87, 1003713: 169, 1003756: 156, 1003024: 85, 1003518: 191, 1001597: 90, 1003971: 127, 1000205: 64, 1005192: 13, 1004931: 34, 1004878: 17, 1000104: 19, 1002774: 108, 1001151: 131, 1004963: 60, 1002125: 79, 1005333: 341, 1005954: 404, 1005530: 252, 1000204: 170, 1001695: 67, 1000264: 188, 1002567: 128, 1001854: 79, 1001243: 144, 1001709: 76, 1001926: 257, 1000274: 58, 1002198: 26, 1005534: 25, 1000267: 60, 1005428: 155, 1004118: 90, 1004497: 194, 1000058: 176, 1000157: 147, 1001209: 96, 1004257: 55, 1002617: 30, 1001150: 534, 1006030: 47, 1003842: 238, 1005752: 47, 1000823: 50, 1005957: 98, 1002642: 35, 1000635: 65, 1004425: 340, 1000900: 9, 1003611: 71, 1000863: 28, 1003203: 56, 1003327: 134, 1002446: 161, 1000793: 56, 1001111: 12, 1000687: 137, 1005896: 93, 1000235: 183, 1004001: 152, 1002511: 13, 1003319: 54, 1004610: 61, 1004606: 39, 1002540: 91, 1004028: 223, 1004457: 87, 1004417: 52, 1002712: 32, 1005517: 126, 1003582: 42, 1002824: 89, 1000446: 21, 1000549: 438, 1001253: 28, 1005623: 121, 1005734: 95, 1001507: 41, 1005102: 58, 1001877: 55, 1000571: 49, 1005306: 248, 1005994: 25, 1004513: 20, 1002353: 78, 1001755: 155, 1005571: 44, 1001882: 96, 1005222: 129, 1002088: 192, 1000466: 73, 1002569: 14, 1000677: 78, 1005947: 55, 1001182: 136, 1004621: 74, 1000595: 48, 1003430: 151, 1000854: 199, 1001024: 15, 1003425: 185, 1002588: 16, 1000939: 62, 1000455: 12, 1001099: 78, 1004802: 251, 1002102: 200, 1004128: 22, 1002043: 35, 1005689: 189, 1004970: 13, 1002141: 10, 1001380: 98, 1002663: 57, 1003475: 238, 1003927: 61, 1000996: 119, 1003892: 189, 1000183: 39, 1002777: 339, 1003751: 140, 1000175: 117, 1003007: 101, 1002649: 82, 1001544: 67, 1004379: 157, 1004887: 161, 1002863: 45, 1001764: 246, 1003173: 39, 1005585: 76, 1003536: 70, 1000199: 144, 1002876: 69, 1000936: 33, 1003312: 270, 1001667: 207, 1000780: 203, 1002573: 45, 1005678: 54, 1000129: 55, 1003615: 82, 1002468: 58, 1001413: 71, 1000992: 14, 1002581: 165, 1001426: 156, 1001808: 17, 1004181: 51, 1002621: 124, 1002438: 65, 1001274: 257, 1004685: 67, 1005359: 212, 1005250: 111, 1002496: 203, 1002157: 51, 1002187: 55, 1001101: 218, 1002357: 12, 1001206: 51, 1003769: 151, 1005225: 84, 1005990: 131, 1005555: 225, 1001148: 25, 1000097: 60, 1001624: 142, 1003908: 75, 1005165: 42, 1004112: 117, 1002703: 41, 1000339: 49, 1004797: 26, 1005771: 99, 1005108: 159, 1003966: 16, 1005805: 57, 1002001: 19, 1004310: 115, 1003473: 62, 1004732: 264, 1002057: 31, 1002302: 80, 1000855: 235, 1005277: 125, 1004951: 142, 1002695: 24, 1000727: 112, 1005864: 16, 1002807: 123, 1001930: 121, 1004213: 145, 1003359: 37, 1005094: 26, 1004082: 53, 1002811: 33, 1001605: 396, 1000698: 92, 1005432: 74, 1004509: 96, 1000305: 60, 1005367: 424, 1003101: 99, 1000338: 143, 1005881: 114, 1000980: 47, 1003940: 183, 1002880: 116, 1005327: 71, 1001693: 132, 1005469: 45, 1000731: 239, 1002298: 48, 1000887: 35, 1005018: 105, 1002092: 275, 1002526: 107, 1000162: 42, 1004490: 140, 1004972: 134, 1005877: 9, 1004551: 31, 1004852: 86, 1002457: 206, 1006027: 16, 1004673: 221, 1003653: 43, 1002641: 118, 1004115: 194, 1000352: 320, 1003295: 30, 1001100: 190, 1000126: 18, 1002175: 66, 1002456: 149, 1002195: 119, 1001613: 317, 1005103: 104, 1002665: 335, 1000732: 71, 1004345: 220, 1003483: 288, 1004984: 83, 1003996: 43, 1003852: 24, 1004459: 77, 1002572: 65, 1004933: 117, 1002616: 23, 1000739: 51, 1005550: 253, 1002103: 36, 1000342: 45, 1001851: 197, 1002211: 101, 1002969: 68, 1004712: 16, 1004726: 119, 1004408: 195, 1004306: 30, 1004675: 135, 1003394: 143, 1002764: 125, 1000471: 46, 1003563: 80, 1003728: 34, 1003461: 13, 1002787: 56, 1004105: 25, 1005998: 69, 1003746: 122, 1002933: 46, 1002929: 155, 1000531: 351, 1004294: 60, 1005740: 37, 1003618: 535, 1006000: 189, 1001415: 81, 1002794: 60, 1000954: 50, 1001623: 33, 1004117: 92, 1001186: 83, 1000214: 70, 1002334: 144, 1000801: 110, 1001804: 45, 1001331: 69, 1002603: 13, 1001577: 64, 1003778: 387, 1002435: 47, 1002681: 85, 1003086: 47, 1003679: 138, 1004407: 102, 1002410: 45, 1000556: 90, 1001946: 40, 1003158: 122, 1003519: 244, 1002946: 186, 1000182: 37, 1003294: 37, 1004639: 19, 1003929: 238, 1001786: 22, 1000872: 46, 1000888: 31, 1003834: 210, 1001302: 29, 1004535: 160, 1001647: 334, 1004388: 196, 1000849: 53, 1005630: 113, 1003729: 170, 1001121: 109, 1000474: 123, 1002894: 50, 1000377: 51, 1003280: 245, 1004747: 101, 1001329: 171, 1004738: 61, 1001028: 28, 1001701: 230, 1004193: 97, 1003044: 113, 1003358: 101, 1003648: 239, 1001285: 429, 1003318: 33, 1001132: 67, 1003858: 74, 1005616: 52, 1005290: 19, 1005218: 18, 1000423: 25, 1000765: 146, 1003353: 85, 1004406: 120, 1001087: 157, 1002980: 48, 1003716: 156, 1000024: 56, 1002217: 19, 1002338: 75, 1000724: 61, 1002350: 52, 1004884: 166, 1003562: 286, 1002742: 49, 1004520: 126, 1005595: 89, 1000327: 95, 1003110: 133, 1000240: 53, 1003731: 54, 1005457: 66, 1003789: 54, 1003427: 19, 1002063: 517, 1002910: 55, 1002221: 60, 1001194: 248, 1002654: 36, 1000198: 141, 1001017: 203, 1005014: 60, 1001255: 109, 1003414: 121, 1004920: 23, 1003710: 32, 1005433: 273, 1005536: 233, 1004855: 71, 1004679: 26, 1004499: 36, 1002967: 193, 1003080: 211, 1004831: 100, 1001589: 26, 1000258: 51, 1002826: 96, 1003706: 29, 1002378: 106, 1004104: 56, 1000371: 36, 1005193: 77, 1001392: 95, 1000777: 185, 1002872: 166, 1000392: 192, 1005097: 54, 1004348: 13, 1001264: 274, 1004808: 366, 1000357: 22, 1003029: 315, 1001773: 23, 1000955: 125, 1000435: 55, 1003041: 38, 1002564: 41, 1000027: 27, 1003938: 36, 1002163: 45, 1004131: 47, 1005118: 49, 1005397: 143, 1003211: 31, 1001231: 41, 1002485: 103, 1000962: 22, 1005120: 81, 1002734: 61, 1000858: 78, 1002715: 35, 1002091: 62, 1005395: 44, 1004582: 25, 1001349: 16, 1000735: 152, 1003572: 50, 1005026: 319, 1003855: 43, 1005856: 29, 1004868: 65, 1005448: 149, 1000393: 20, 1001370: 56, 1000818: 71, 1005205: 141, 1002719: 51, 1000208: 77, 1001850: 26, 1004313: 45, 1002061: 8, 1005273: 125, 1002459: 41, 1000013: 40, 1001240: 12, 1000881: 353, 1002012: 251, 1001489: 192, 1004519: 25, 1000461: 200, 1000257: 22, 1001752: 168, 1003569: 196, 1001825: 59, 1001053: 152, 1000262: 41, 1003886: 34, 1005654: 105, 1001261: 84, 1001168: 102, 1001744: 59, 1005223: 81, 1000547: 36, 1005504: 223, 1003844: 50, 1003578: 110, 1000166: 163, 1000749: 180, 1005837: 223, 1004824: 97, 1001322: 170, 1005482: 144, 1002994: 146, 1002771: 120, 1004666: 134, 1004458: 177, 1004361: 59, 1000138: 24, 1001244: 207, 1000944: 18, 1004415: 48, 1000984: 287, 1000830: 64, 1000095: 41, 1001469: 16, 1005219: 48, 1001387: 84, 1005917: 82, 1004287: 117, 1005578: 36, 1001360: 40, 1003064: 20, 1006010: 118, 1003910: 93, 1000335: 70, 1003686: 35, 1004141: 85, 1001256: 14, 1005011: 233, 1000453: 153, 1004611: 128, 1002972: 59, 1005230: 48, 1001340: 323, 1005452: 119, 1005622: 37, 1004477: 53, 1006031: 19, 1003026: 135, 1002709: 15, 1003285: 251, 1001327: 30, 1003487: 116, 1001281: 59, 1003905: 29, 1005980: 82, 1003334: 32, 1005426: 118, 1000560: 53, 1003091: 23, 1005082: 85, 1001790: 138, 1002279: 155, 1005750: 50, 1004161: 164, 1004102: 35, 1003201: 169, 1001436: 26, 1003620: 179, 1000073: 101, 1004100: 9, 1006035: 104, 1005543: 133, 1000462: 73, 1004279: 193, 1000949: 160, 1001545: 75, 1002810: 160, 1005398: 9, 1004024: 97, 1002883: 58, 1005271: 150, 1002802: 32, 1003951: 69, 1005570: 115, 1002304: 340, 1003419: 48, 1000866: 14, 1004591: 184, 1004416: 56, 1001390: 127, 1005107: 230, 1000705: 49, 1005340: 76, 1002147: 36, 1002634: 114, 1001998: 143, 1003675: 352, 1004027: 20, 1003970: 101, 1004800: 95, 1001611: 225, 1004748: 138, 1001653: 7, 1001291: 115, 1005419: 35, 1003367: 155, 1001193: 114, 1004942: 108, 1003403: 77, 1003682: 34, 1000590: 76, 1001030: 52, 1003721: 64, 1003328: 116, 1005386: 56, 1003871: 45, 1004715: 204, 1003626: 375, 1005766: 36, 1003256: 24, 1004653: 157, 1005512: 81, 1005874: 135, 1003989: 87, 1000792: 41, 1005915: 105, 1002738: 45, 1000639: 155, 1002031: 91, 1001124: 165, 1002042: 114, 1003242: 83, 1002747: 55, 1005703: 31, 1000163: 203, 1002818: 116, 1002312: 18, 1001133: 71, 1001962: 205, 1003391: 510, 1005065: 96, 1000185: 25, 1001694: 156, 1003191: 171, 1001835: 309, 1000783: 51, 1002892: 33, 1001344: 26, 1001978: 62, 1001343: 96, 1004248: 41, 1001422: 286, 1001299: 94, 1003997: 138, 1001631: 102, 1005249: 155, 1002643: 179, 1002223: 206, 1003226: 52, 1000380: 64, 1000248: 13, 1002342: 34, 1003720: 68, 1001619: 15, 1003934: 255, 1005089: 13, 1000683: 15, 1004562: 116, 1003955: 53, 1005163: 199, 1004979: 367, 1004180: 37, 1005056: 79, 1001298: 242, 1004048: 297, 1002495: 18, 1000238: 99, 1000105: 31, 1004153: 74, 1001794: 174, 1001643: 93, 1005015: 237, 1003705: 303, 1001306: 164, 1005948: 152, 1001374: 37, 1000605: 52, 1001586: 172, 1002599: 88, 1005455: 63, 1004224: 107, 1002745: 78, 1005866: 9, 1001705: 28, 1005925: 86, 1000507: 12, 1002765: 82, 1003013: 190, 1006036: 354, 1003665: 92, 1003963: 193, 1000146: 166, 1003882: 75, 1000774: 89, 1000904: 95, 1005851: 64, 1000329: 322, 1004086: 124, 1001300: 57, 1003243: 82, 1000981: 90, 1000343: 110, 1000846: 93, 1000053: 265, 1002100: 140, 1000495: 18, 1005826: 83, 1004985: 64, 1002731: 119, 1004478: 165, 1002222: 81, 1003497: 43, 1005996: 220, 1004355: 17, 1002606: 22, 1001097: 65, 1003726: 157, 1005284: 28, 1005090: 170, 1001130: 112, 1005519: 139, 1001077: 132, 1005641: 56, 1002085: 108, 1004353: 45, 1001727: 191, 1005048: 32, 1005699: 116, 1003840: 28, 1001048: 17, 1005485: 49, 1002700: 109, 1004390: 116, 1000588: 173, 1000733: 45, 1002507: 313, 1004482: 303, 1000091: 16, 1002231: 169, 1000697: 58, 1001681: 50, 1001095: 12, 1004832: 57, 1005070: 203, 1001019: 370, 1003513: 115, 1004021: 304, 1004272: 44, 1005467: 12, 1004907: 65, 1001189: 11, 1001748: 238, 1004308: 40, 1000506: 38, 1002127: 64, 1002718: 56, 1002832: 64, 1000921: 62, 1001128: 197, 1005132: 29, 1003385: 17, 1001768: 58, 1001746: 141, 1003306: 20, 1001476: 26, 1006019: 34, 1000811: 27, 1004750: 91, 1003607: 93, 1000509: 294, 1004227: 474, 1001841: 85, 1000934: 203, 1003761: 65, 1004251: 43, 1000926: 47, 1001897: 243, 1003462: 227, 1000922: 146, 1003779: 16, 1003526: 372, 1002062: 33, 1005413: 90, 1003589: 270, 1003654: 115, 1002986: 262, 1003192: 64, 1001671: 256, 1004962: 93, 1003974: 46, 1000261: 164, 1003891: 35, 1005338: 37, 1004328: 113, 1002546: 57, 1000201: 39, 1001446: 36, 1005509: 46, 1002251: 157, 1005201: 43, 1000669: 174, 1001369: 171, 1002856: 19, 1000945: 73, 1003010: 32, 1003643: 93, 1002288: 203, 1003123: 69, 1003771: 180, 1005602: 31, 1004175: 43, 1001797: 66, 1005679: 71, 1000303: 88, 1005674: 20, 1005304: 15, 1001617: 85, 1003441: 140, 1000011: 46, 1004916: 71, 1002447: 24, 1000385: 56, 1003308: 283, 1004323: 57, 1000014: 12, 1001423: 35, 1001016: 67, 1001967: 14, 1000569: 59, 1001079: 52, 1001819: 40, 1002458: 72, 1002084: 69, 1005006: 17, 1002205: 182, 1001985: 58, 1003301: 126, 1002466: 73, 1002926: 146, 1005329: 213, 1003352: 47, 1001041: 35, 1003224: 456, 1000142: 30, 1000048: 235, 1003988: 84, 1005475: 153, 1001389: 168, 1000456: 61, 1003547: 132, 1002237: 172, 1005916: 254, 1000410: 46, 1000534: 41, 1000655: 166, 1004879: 174, 1001114: 49, 1005087: 116, 1003878: 189, 1000672: 19, 1005822: 27, 1002261: 106, 1002081: 21, 1005671: 40, 1003193: 72, 1001736: 71, 1003073: 21, 1000626: 30, 1003476: 271, 1004742: 103, 1001358: 84, 1003796: 91, 1004318: 177, 1000068: 28, 1005592: 46, 1003018: 245, 1002504: 96, 1003304: 76, 1005892: 44, 1001466: 94, 1002795: 37, 1000245: 310, 1005861: 75, 1000964: 29, 1000624: 154, 1002480: 17, 1003808: 496, 1004253: 128, 1002095: 31, 1003992: 187, 1002427: 48, 1002425: 17, 1003516: 56, 1000310: 77, 1003790: 44, 1003368: 32, 1004829: 122, 1005655: 36, 1003538: 63, 1002196: 13, 1002080: 13, 1002229: 14, 1001650: 86, 1000211: 14, 1000090: 92, 1000130: 59, 1005283: 133, 1005394: 331, 1005403: 68, 1003297: 55, 1003404: 9, 1001373: 27, 1005005: 177, 1004460: 61, 1000359: 18, 1002560: 17, 1003813: 21, 1003985: 120, 1004488: 131, 1001739: 31, 1002478: 102, 1005008: 85, 1003478: 37, 1000093: 78, 1000729: 55, 1003864: 91, 1000533: 237, 1005480: 59, 1002769: 54, 1001673: 28, 1000649: 32, 1003085: 46, 1001483: 106, 1001090: 31, 1001317: 308, 1002368: 98, 1004377: 70, 1003200: 62, 1002903: 61, 1003968: 32, 1000405: 18, 1002743: 164, 1001539: 14, 1002529: 320, 1003051: 169, 1005812: 360, 1005663: 94, 1000285: 43, 1004897: 161, 1004403: 30, 1001636: 61, 1002167: 88, 1003082: 136, 1001314: 77, 1000150: 94, 1003363: 113, 1000314: 122, 1004784: 169, 1003565: 45, 1000300: 112, 1006029: 13, 1002188: 165, 1004433: 72, 1004585: 129, 1002267: 24, 1003237: 33, 1005143: 43, 1004929: 13, 1000355: 169, 1002419: 209, 1004995: 145, 1003774: 22, 1004370: 30, 1005785: 56, 1002114: 64, 1003233: 64, 1003205: 127, 1001505: 130, 1003902: 69, 1002692: 61, 1003567: 31, 1002204: 13, 1005466: 88, 1005109: 46, 1003504: 79, 1001866: 67, 1003284: 14, 1004545: 14, 1004680: 121, 1001798: 21, 1004687: 57, 1004626: 146, 1000541: 72, 1003718: 118, 1005744: 166, 1003762: 171, 1005013: 32, 1000536: 86, 1005468: 147, 1001590: 16, 1003370: 82, 1003087: 126, 1000551: 95, 1003422: 149, 1000692: 242, 1002629: 119, 1001297: 186, 1005964: 233, 1003941: 18, 1001916: 149, 1003521: 168, 1005776: 62, 1001902: 102, 1003914: 48, 1004533: 18, 1000019: 97, 1003982: 33, 1003440: 11, 1002335: 47, 1003069: 78, 1001940: 22, 1003695: 107, 1000714: 169, 1003877: 11, 1004339: 26, 1005786: 136, 1001928: 85, 1003856: 18, 1005747: 220, 1005959: 33, 1001038: 47, 1000712: 117, 1000667: 72, 1002493: 37, 1004859: 25, 1003506: 27, 1005137: 44, 1004034: 45, 1000620: 73, 1001396: 70, 1004037: 21, 1004123: 44, 1004810: 69, 1002486: 67, 1005607: 68, 1001931: 41, 1002310: 43, 1000426: 92, 1004913: 21, 1002523: 53, 1000333: 103, 1003815: 59, 1003757: 82, 1000638: 38, 1005513: 27, 1000563: 132, 1000181: 129, 1003775: 33, 1003732: 78, 1004413: 13, 1003142: 41, 1004865: 105, 1003257: 33, 1002536: 26, 1001660: 17, 1004728: 306, 1002627: 176, 1005737: 36, 1004261: 110, 1004149: 16, 1005521: 17, 1004446: 155, 1003652: 133, 1004779: 72, 1000123: 243, 1000249: 50, 1004507: 94, 1003822: 70, 1003617: 21, 1001894: 66, 1002576: 114, 1001899: 275, 1003975: 34, 1002162: 75, 1005815: 32, 1005441: 79, 1001211: 168, 1003978: 52, 1004690: 27, 1000527: 10, 1002232: 140, 1000078: 56, 1001836: 164, 1005352: 95, 1003962: 26, 1003428: 72, 1000326: 154, 1001837: 303, 1001639: 219, 1003548: 11, 1004006: 73, 1004132: 67, 1004347: 51, 1002271: 148, 1002022: 70, 1006014: 40, 1001270: 12, 1002878: 263, 1000824: 131, 1002760: 31, 1000291: 32, 1001737: 315, 1001073: 48, 1001573: 12, 1003503: 196, 1003681: 282, 1001697: 131, 1000268: 105, 1000631: 119, 1004050: 75, 1003239: 33, 1003624: 124, 1004223: 68, 1004584: 25, 1001884: 287, 1003830: 51, 1002841: 163, 1003579: 101, 1000658: 38, 1003993: 151, 1005854: 155, 1004577: 67, 1004484: 96, 1003227: 145, 1000265: 36, 1004603: 14, 1002970: 17, 1003222: 12, 1002689: 36, 1005809: 87, 1002180: 169, 1005843: 83, 1000477: 80, 1001272: 108, 1002303: 121, 1004266: 28, 1001904: 141, 1003349: 49, 1003130: 32, 1004785: 110, 1004439: 19, 1005811: 117, 1002595: 78, 1002521: 24, 1000890: 86, 1004571: 40, 1004643: 84, 1005890: 134, 1005182: 115, 1003677: 44, 1002522: 28, 1005260: 86, 1001951: 46, 1000386: 101, 1001722: 79, 1002174: 63, 1003903: 72, 1000400: 15, 1005532: 34, 1001988: 250, 1005824: 207, 1002653: 15, 1005583: 48, 1001509: 124, 1002049: 19, 1003930: 74, 1004468: 33, 1002945: 23, 1005055: 18, 1000242: 113, 1001023: 17, 1005510: 22, 1005817: 10, 1003032: 403, 1001102: 9, 1003999: 283, 1000870: 16, 1005217: 65, 1004930: 43, 1002333: 23, 1004898: 97, 1004615: 67, 1001012: 29, 1000117: 192, 1004428: 28, 1002484: 217, 1004404: 158, 1003849: 30, 1005263: 41, 1003053: 64, 1005677: 95, 1002309: 61, 1002586: 22, 1006016: 357, 1003491: 281, 1000778: 73, 1003945: 209, 1005451: 35, 1005676: 60, 1003610: 269, 1002788: 55, 1003493: 64, 1003825: 206, 1003121: 103, 1000999: 168, 1005092: 32, 1002539: 16, 1005063: 48, 1003553: 23, 1005686: 198, 1004107: 129, 1005528: 27, 1004775: 13, 1004854: 65, 1004989: 26, 1001719: 16, 1005364: 152, 1003719: 13, 1001920: 230, 1004130: 78, 1000829: 56, 1000328: 23, 1001268: 75, 1003431: 23, 1002620: 66, 1005649: 90, 1001982: 65, 1002093: 23, 1000754: 66, 1000324: 33, 1002025: 48, 1000695: 79, 1003234: 5, 1000840: 93, 1000206: 11, 1003912: 41, 1002270: 55, 1003005: 45, 1001310: 10, 1001060: 31, 1001891: 111, 1002931: 90, 1001461: 21, 1001494: 33, 1000269: 12, 1005792: 85, 1003321: 18, 1002701: 47, 1003704: 95, 1003436: 77, 1005483: 89, 1005902: 33, 1004063: 22, 1005782: 43, 1003464: 154, 1005927: 94, 1005115: 12, 1004594: 12, 1004895: 37, 1005355: 76, 1001230: 106, 1002489: 156, 1002846: 36, 1002126: 30, 1001676: 315, 1002337: 25, 1001115: 42, 1003129: 185, 1002149: 19, 1003424: 30, 1002444: 36, 1004772: 41, 1000884: 34, 1002165: 77, 1002491: 49, 1001887: 41, 1003253: 61, 1000615: 36, 1005565: 66, 1000594: 62, 1002552: 37, 1001816: 24, 1001062: 78, 1001959: 29, 1003167: 102, 1003317: 51, 1003250: 53, 1000488: 5, 1005800: 10, 1005113: 189, 1001740: 23, 1000402: 111, 1005852: 127, 1005126: 61, 1002805: 35, 1002067: 84, 1002094: 29, 1002565: 125, 1003594: 74, 1003220: 20, 1001688: 56, 1004493: 23, 1003664: 42, 1002465: 73, 1001173: 149, 1003077: 33, 1003343: 24, 1002918: 154, 1005997: 18, 1001139: 81, 1000406: 62, 1002628: 90, 1005153: 184, 1004708: 129, 1004939: 67, 1000425: 83, 1005105: 37, 1000678: 397, 1003197: 63, 1004185: 23, 1002248: 38, 1000822: 127, 1003635: 64, 1003832: 40, 1004644: 59, 1005275: 38, 1000152: 10, 1001311: 62, 1000518: 100, 1000817: 158, 1004539: 47, 1004456: 57, 1000632: 8, 1003116: 34, 1002383: 173, 1000848: 24, 1004511: 53, 1000259: 61, 1005293: 26, 1005146: 12, 1003981: 75, 1006040: 124, 1002792: 82, 1002411: 121, 1003265: 203, 1000390: 93, 1000965: 23, 1002026: 87, 1003590: 175, 1000517: 61, 1003499: 172, 1001506: 42, 1004395: 9, 1002152: 13, 1003831: 49, 1001167: 25, 1005597: 75, 1003400: 82, 1004412: 39, 1005488: 99, 1004905: 44, 1001147: 134, 1003750: 14, 1003583: 17, 1004731: 23, 1003262: 35, 1004440: 30, 1001218: 84, 1001757: 164, 1001761: 40, 1002728: 24, 1002721: 13, 1001868: 26, 1005229: 27, 1000690: 74, 1000919: 125, 1000928: 88, 1000736: 56, 1003178: 89, 1005728: 115, 1005057: 30, 1004032: 62, 1004356: 101, 1003443: 11, 1004491: 71, 1005987: 26, 1002492: 39, 1003884: 258, 1005261: 49, 1001196: 48, 1004249: 45, 1000034: 72, 1002968: 69, 1005390: 84, 1005853: 58, 1004116: 168, 1000664: 66, 1003259: 142, 1005317: 207, 1001937: 119, 1004889: 101, 1004953: 74, 1001952: 91, 1004293: 15, 1001960: 84, 1002467: 8, 1003687: 82, 1001895: 31, 1002913: 113, 1003689: 88, 1001824: 78, 1002583: 134, 1005139: 49, 1004352: 181, 1001219: 100, 1002010: 275, 1005371: 135, 1002265: 91, 1003649: 20, 1003272: 316, 1005215: 9, 1002172: 171, 1003498: 46, 1000271: 140, 1001587: 218, 1003083: 50, 1003112: 78, 1002869: 7, 1004039: 25, 1000798: 133, 1002973: 20, 1003546: 155, 1003806: 76, 1002313: 23, 1004226: 12, 1003143: 89, 1005645: 111, 1005127: 22, 1003906: 29, 1001465: 244, 1000433: 16, 1002593: 55, 1006006: 45, 1002030: 258, 1002897: 49, 1001817: 55, 1004863: 14, 1004765: 102, 1001223: 51, 1000925: 30, 1003685: 119, 1000987: 72, 1005085: 78, 1002153: 151, 1002090: 78, 1004973: 72, 1001715: 12, 1000785: 49, 1000970: 197, 1005599: 84, 1006023: 59, 1002756: 86, 1004556: 93, 1004722: 17, 1005239: 111, 1000218: 37, 1005522: 207, 1002779: 67, 1003568: 46, 1001979: 15, 1003676: 43, 1003336: 263, 1000133: 65, 1004384: 112, 1005847: 153, 1004327: 73, 1005184: 126, 1004526: 70, 1001361: 49, 1002752: 160, 1000520: 110, 1001170: 97, 1001470: 286, 1004572: 54, 1003859: 118, 1001462: 15, 1003629: 29, 1002607: 24, 1001404: 131, 1000738: 18, 1001716: 70, 1004994: 52, 1001758: 168, 1003543: 45, 1002136: 59, 1002866: 82, 1002242: 123, 1002376: 184, 1005508: 31, 1000128: 8, 1005669: 23, 1003972: 14, 1005255: 66, 1000927: 68, 1001076: 20, 1005838: 93, 1002889: 82, 1005453: 95, 1003819: 47, 1004210: 50, 1000995: 22, 1000010: 157, 1002952: 62, 1005376: 88, 1002784: 67, 1004045: 17, 1004767: 22, 1002694: 33, 1005590: 13, 1005702: 53, 1001567: 46, 1003395: 22, 1002168: 146, 1005098: 69, 1000202: 267, 1001519: 35, 1005505: 30, 1005243: 11, 1000508: 55, 1001778: 223, 1004799: 24, 1003612: 79, 1002171: 44, 1002748: 118, 1000116: 40, 1001383: 306, 1003054: 207, 1004281: 87, 1004084: 73, 1005164: 33, 1001096: 100, 1000805: 35, 1004502: 142, 1004263: 20, 1002575: 62, 1000445: 109, 1004496: 68, 1005361: 83, 1000647: 83, 1004595: 33, 1000833: 9, 1001484: 124, 1004917: 107, 1002424: 59, 1002668: 73, 1003663: 32, 1005136: 95, 1005705: 60, 1004773: 36, 1005460: 30, 1003157: 75, 1005951: 25, 1004042: 171, 1001939: 91, 1004297: 20, 1005520: 75, 1000337: 63, 1004014: 79, 1000470: 24, 1003095: 68, 1005167: 64, 1000220: 36, 1000971: 92, 1005369: 93, 1001320: 43, 1002097: 71, 1002990: 104, 1005886: 179, 1003072: 83, 1003437: 19, 1003079: 35, 1001288: 51, 1002319: 22, 1000118: 86, 1001860: 123, 1003599: 75, 1003258: 21, 1001759: 105, 1005840: 80, 1003003: 31, 1000092: 154, 1002498: 63, 1004987: 34, 1004421: 8, 1001820: 137, 1003364: 43, 1003540: 79, 1003678: 50, 1003035: 26, 1004009: 112, 1000296: 46, 1003154: 77, 1004049: 147, 1005598: 49, 1000608: 65, 1000764: 56, 1005000: 149, 1000810: 48, 1003984: 28, 1001710: 32, 1002038: 156, 1003339: 28, 1004485: 51, 1005365: 112, 1003202: 45, 1003164: 11, 1004689: 30, 1004838: 15, 1001279: 133, 1003337: 31, 1000746: 161, 1000755: 48, 1004843: 54, 1001216: 71, 1001788: 18, 1004517: 151, 1002225: 160, 1005257: 30, 1005112: 110, 1000412: 175, 1003847: 185, 1004834: 105, 1002098: 144, 1000759: 40, 1003066: 42, 1004770: 8, 1005557: 78, 1005472: 120, 1004177: 56, 1005236: 51, 1004435: 20, 1003511: 91, 1000457: 100, 1003489: 41, 1002896: 133, 1001199: 64, 1002139: 18, 1004476: 84, 1003742: 42, 1004858: 47, 1004296: 24, 1005302: 98, 1003420: 89, 1001602: 41, 1003490: 90, 1002054: 132, 1001248: 41, 1001569: 32, 1005975: 19, 1002122: 79, 1004234: 57, 1003135: 43, 1003931: 101, 1000346: 128, 1004583: 12, 1004697: 61, 1002189: 13, 1002308: 28, 1001626: 113, 1004184: 11, 1001497: 75, 1000750: 20, 1002847: 159, 1005106: 39, 1002020: 195, 1001678: 49, 1002262: 57, 1001702: 31, 1003209: 94, 1005459: 71, 1004077: 100, 1000734: 17, 1005937: 48, 1003263: 47, 1003885: 238, 1000350: 21, 1004774: 82, 1001871: 60, 1005294: 61, 1005929: 41, 1001965: 28, 1000592: 8, 1004194: 70, 1004964: 178, 1000529: 39, 1000131: 112, 1004601: 49, 1005754: 130, 1004174: 14, 1005322: 37, 1000191: 14, 1005808: 35, 1003601: 56, 1001516: 118, 1000628: 23, 1003673: 88, 1002019: 11, 1004791: 104, 1000044: 85, 1003727: 189, 1001511: 31, 1005158: 72, 1001738: 25, 1005796: 16, 1000554: 12, 1004449: 73, 1000662: 44, 1002215: 80, 1004286: 76, 1002119: 73, 1003919: 30, 1000194: 22, 1001086: 125, 1001424: 12, 1000487: 19, 1003457: 67, 1003991: 16, 1005893: 67, 1003793: 59, 1002776: 124, 1003296: 35, 1001473: 93, 1001845: 81, 1001402: 25, 1005961: 114, 1005157: 40, 1004139: 128, 1002873: 97, 1001598: 71, 1000479: 31, 1005889: 51, 1002348: 83, 1005339: 38, 1001499: 52, 1005404: 77, 1003735: 115, 1002186: 114, 1000593: 36, 1000808: 122, 1001059: 212, 1003418: 83, 1004276: 37, 1004252: 40, 1003609: 47, 1000241: 19, 1004038: 12, 1000591: 87, 1004768: 28, 1004302: 99, 1002060: 105, 1001591: 115, 1000973: 87, 1002651: 43, 1002602: 8, 1005313: 37, 1002999: 63, 1002502: 9, 1005658: 51, 1001498: 43, 1002717: 10, 1004842: 24, 1002393: 53, 1005282: 133, 1005790: 30, 1004686: 38, 1000493: 66, 1004454: 70, 1001657: 14, 1001731: 33, 1002961: 17, 1003888: 58, 1002176: 58, 1005208: 52, 1001616: 93, 1005100: 338, 1000895: 30, 1000031: 49, 1001864: 11, 1003136: 13, 1005430: 56, 1000760: 22, 1002009: 19, 1001040: 99, 1003017: 128, 1003850: 150, 1002939: 56, 1004451: 112, 1000153: 9, 1005722: 150, 1003216: 119, 1005725: 10, 1001822: 30, 1001779: 67, 1003541: 15, 1000911: 237, 1005464: 38, 1005527: 13, 1001359: 34, 1003452: 33, 1002922: 32, 1005497: 45, 1000330: 32, 1002953: 44, 1005717: 161, 1001333: 208, 1000930: 39, 1003827: 69, 1005140: 160, 1003098: 48, 1001828: 58, 1003672: 86, 1005177: 39, 1001443: 18, 1001217: 21, 1002148: 102, 1004119: 27, 1005461: 21, 1004650: 48, 1003874: 54, 1005605: 310, 1001094: 70, 1005946: 32, 1004033: 270, 1005053: 95, 1001002: 22, 1002276: 40, 1002235: 67, 1001922: 166, 1003580: 26, 1005730: 30, 1005662: 33, 1005935: 14, 1002845: 29, 1004078: 106, 1002316: 65, 1004400: 12, 1003658: 100, 1005974: 84, 1002966: 69, 1005264: 60, 1005564: 18, 1002323: 97, 1004391: 9, 1005617: 29, 1005499: 31, 1000061: 16, 1002624: 116, 1002185: 122, 1006011: 70, 1000809: 46, 1004655: 134, 1004093: 61, 1005738: 200, 1002865: 40, 1001863: 42, 1002124: 242, 1003187: 7, 1004004: 52, 1004522: 75, 1004371: 42, 1004833: 36, 1003573: 17, 1004450: 22, 1002548: 21, 1005542: 22, 1004332: 11, 1002497: 49, 1005553: 99, 1003532: 44, 1001378: 22, 1005083: 101, 1001839: 37, 1005981: 110, 1003056: 95, 1003283: 96, 1000137: 94, 1002541: 99, 1002414: 98, 1005099: 86, 1000983: 28, 1002239: 41, 1004906: 92, 1000167: 17, 1005713: 10, 1001560: 53, 1000974: 23, 1004580: 54, 1004285: 219, 1000231: 42, 1000072: 21, 1001366: 57, 1001672: 19, 1004524: 100, 1002659: 68, 1004789: 116, 1002413: 12, 1005311: 17, 1003434: 73, 1000122: 21, 1004265: 86, 1002409: 54, 1002331: 34, 1001362: 87, 1004376: 18, 1001973: 14, 1003557: 165, 1004035: 28, 1004570: 14, 1004022: 160, 1005254: 33, 1002799: 9, 1004736: 135, 1001818: 25, 1004956: 96, 1000464: 37, 1001367: 88, 1001528: 22, 1000036: 141, 1000803: 20, 1003640: 27, 1003096: 82, 1000652: 59, 1005537: 27, 1002070: 39, 1003335: 13, 1001093: 23, 1002566: 110, 1003454: 138, 1003848: 24, 1005716: 87, 1003093: 66, 1000567: 33, 1003141: 21, 1002585: 43, 1004026: 112, 1002436: 157, 1003979: 43, 1004674: 28, 1003669: 163, 1005122: 6, 1001338: 48, 1001232: 50, 1000737: 99, 1003967: 174, 1004541: 66, 1004848: 27, 1002370: 34, 1001000: 33, 1004566: 53, 1002637: 18, 1004968: 7, 1000229: 87, 1000720: 94, 1001442: 71, 1003690: 156, 1002099: 17, 1002190: 46, 1000176: 32, 1005574: 72, 1005726: 60, 1002837: 96, 1003103: 14, 1001921: 28, 1000008: 62, 1004260: 130, 1005335: 70, 1000912: 21, 1000516: 106, 1005787: 173, 1002840: 134, 1002591: 17, 1000975: 146, 1001954: 60, 1000486: 19, 1000200: 11, 1003031: 199, 1005296: 30, 1000753: 98, 1002075: 22, 1002227: 18, 1000576: 24, 1003270: 46, 1003691: 118, 1004216: 12, 1002344: 75, 1004043: 53, 1005724: 41, 1005682: 240, 1003092: 21, 1003637: 25, 1004607: 205, 1003619: 42, 1002089: 40, 1000284: 189, 1003880: 25, 1003246: 89, 1001599: 207, 1005551: 17, 1000365: 17, 1005692: 28, 1004534: 28, 1001411: 21, 1005516: 61, 1002462: 91, 1004883: 19, 1004402: 16, 1004156: 130, 1003602: 46, 1005576: 129, 1000513: 53, 1002615: 26, 1001155: 78, 1000957: 125, 1002066: 16, 1002881: 35, 1005938: 80, 1003714: 15, 1005610: 20, 1003128: 124, 1004954: 57, 1000985: 62, 1005010: 21, 1001025: 11, 1004498: 65, 1002258: 142, 1000103: 45, 1000876: 43, 1000107: 47, 1001932: 35, 1001035: 42, 1002056: 105, 1002916: 94, 1003132: 9, 1005291: 33, 1003522: 24, 1005885: 51, 1004845: 70, 1000219: 15, 1003777: 45, 1002047: 111, 1000260: 65, 1002683: 95, 1001135: 76, 1004670: 47, 1002332: 17, 1005195: 32, 1002638: 178, 1001522: 31, 1003384: 58, 1000654: 79, 1003045: 65, 1004378: 47, 1001307: 14, 1002247: 74, 1004922: 70, 1001110: 20, 1003188: 12, 1000788: 79, 1000140: 21, 1003683: 219, 1002724: 74, 1003544: 9, 1002506: 108, 1000499: 80, 1003365: 144, 1001323: 70, 1001357: 75, 1002664: 139, 1000022: 101, 1003374: 31, 1001873: 67, 1003310: 33, 1000601: 142, 1002177: 63, 1002833: 20, 1001293: 29, 1002173: 114, 1002887: 232, 1000203: 45, 1003917: 44, 1004062: 148, 1003976: 119, 1003150: 24, 1000062: 205, 1005600: 116, 1001467: 44, 1004874: 16, 1005749: 165, 1002454: 115, 1005945: 16, 1004590: 17, 1002137: 30, 1000447: 15, 1004609: 101, 1001381: 29, 1005035: 88, 1002429: 47, 1002874: 35, 1002420: 19, 1003195: 86, 1000101: 50, 1002463: 47, 1000002: 57, 1001143: 21, 1004894: 20, 1005253: 55, 1002142: 28, 1002283: 16, 1002069: 32, 1004803: 16, 1001204: 57, 1002768: 29, 1002106: 342, 1001355: 18, 1002998: 22, 1002418: 32, 1004005: 88, 1002962: 247, 1005729: 21, 1005991: 42, 1002861: 18, 1001388: 22, 1002240: 35, 1005911: 66, 1001919: 20, 1001627: 21, 1002652: 13, 1003133: 9, 1000458: 17, 1003390: 83, 1005596: 72, 1003277: 60, 1004918: 114, 1004904: 159, 1002800: 36, 1004134: 48, 1002078: 36, 1003770: 116, 1003015: 14, 1002130: 23, 1004410: 10, 1001129: 49, 1002340: 159, 1001348: 56, 1000769: 28, 1000771: 9, 1000144: 18, 1001517: 30, 1005366: 45, 1004793: 67, 1003994: 75, 1004787: 14, 1005761: 96, 1000913: 21, 1002855: 26, 1001140: 140, 1001556: 145, 1002087: 21, 1000910: 65, 1004431: 17, 1001743: 30, 1004430: 128, 1000005: 73, 1003935: 75, 1004375: 130, 1003630: 65, 1003957: 147, 1003020: 66, 1005116: 14, 1005862: 58, 1004066: 41, 1005298: 15, 1001537: 12, 1004334: 63, 1002156: 116, 1000613: 38, 1003097: 28, 1001052: 31, 1002473: 17, 1003362: 34, 1005660: 12, 1004462: 15, 1000391: 26, 1000886: 19, 1002508: 27, 1001451: 272, 1005470: 44, 1002778: 53, 1004501: 26, 1001791: 57, 1003447: 27, 1001844: 11, 1000952: 68, 1003646: 32, 1002365: 18, 1000023: 123, 1005827: 43, 1004574: 19, 1003477: 53, 1005813: 37, 1005746: 33, 1000001: 27, 1006021: 47, 1002264: 122, 1003105: 42, 1005166: 48, 1002958: 20, 1003458: 68, 1004875: 41, 1004480: 189, 1000180: 21, 1004671: 59, 1002503: 74, 1003138: 74, 1003889: 49, 1004247: 31, 1001032: 42, 1001803: 103, 1001491: 96, 1004190: 34, 1000382: 29, 1004330: 18, 1000850: 211, 1004218: 33, 1001265: 123, 1001640: 46, 1003907: 25, 1004998: 28, 1005926: 22, 1001538: 36, 1000315: 6, 1003156: 24, 1000772: 42, 1004333: 62, 1004274: 61, 1005968: 14, 1004619: 67, 1004975: 57, 1005345: 130, 1000075: 84, 1004891: 15, 1004040: 69, 1002808: 48, 1001009: 23, 1000132: 31, 1001171: 12, 1000006: 32, 1000281: 47, 1000791: 130, 1000668: 15, 1001805: 59, 1002408: 23, 1004215: 116, 1002233: 83, 1004436: 92, 1001127: 54, 1001421: 80, 1002899: 176, 1001603: 30, 1002226: 18, 1004527: 7, 1004011: 20, 1005379: 16, 1002555: 67, 1003084: 26, 1001724: 82, 1004171: 63, 1003305: 43, 1002533: 49, 1002885: 74, 1004326: 50, 1003148: 41, 1005041: 39, 1005908: 91, 1003266: 70, 1003383: 16, 1000496: 48, 1003361: 74, 1002636: 26, 1000589: 15, 1005221: 12, 1000404: 21, 1004945: 67, 1003412: 103, 1000003: 25, 1002827: 15, 1000179: 50, 1002072: 81, 1003338: 15, 1000880: 49, 1004018: 56, 1002749: 38, 1003468: 25, 1003229: 69, 1004452: 63, 1003913: 54, 1003023: 22, 1000178: 39, 1002732: 12, 1000188: 28, 1004160: 54, 1000449: 28, 1004465: 38, 1000896: 32, 1004473: 168, 1001021: 65, 1002549: 9, 1004946: 100, 1004382: 37, 1001169: 36, 1001439: 12, 1002021: 63, 1002921: 53, 1004072: 96, 1000963: 174, 1000847: 22, 1005305: 91, 1003851: 36, 1005794: 123, 1004586: 22, 1000397: 14, 1005399: 23, 1002809: 38, 1002592: 157, 1005690: 11, 1005447: 59, 1004783: 20, 1005958: 53, 1003152: 13, 1001252: 60, 1005286: 69, 1004414: 65, 1003290: 75, 1001775: 62, 1000909: 33, 1004724: 11, 1005096: 100, 1003797: 11, 1002851: 14, 1003111: 51, 1003074: 43, 1004098: 50, 1006015: 19, 1006001: 83, 1000074: 24, 1004029: 29, 1005979: 13, 1005618: 47, 1003613: 31, 1005174: 9, 1004943: 8, 1001684: 29, 1002915: 30, 1002679: 133, 1003816: 129, 1003600: 139, 1004162: 53, 1005427: 31, 1001571: 65, 1005539: 178, 1002696: 6, 1000186: 38, 1003174: 40, 1005412: 94, 1003002: 61, 1002766: 39, 1000389: 32, 1002927: 29, 1000730: 26, 1003671: 44, 1001336: 8, 1005531: 66, 1000713: 107, 1001870: 58, 1003482: 29, 1001827: 21, 1000937: 142, 1004303: 138, 1001251: 22, 1003524: 65, 1001051: 331, 1002238: 29, 1005620: 101, 1001158: 25, 1004090: 70, 1005986: 47, 1005691: 53, 1005001: 75, 1003592: 155, 1003528: 51, 1002006: 17, 1002059: 113, 1001061: 18, 1003958: 75, 1003435: 52, 1003208: 165, 1005463: 108, 1003460: 30, 1004659: 80, 1000273: 91, 1002423: 27, 1005401: 59, 1005634: 120, 1003680: 22, 1005736: 42, 1005966: 28, 1000490: 28, 1004453: 26, 1001450: 43, 1001386: 30, 1003639: 35, 1000859: 56, 1001765: 41, 1002117: 17, 1001524: 93, 1005668: 33, 1003733: 42, 1001393: 48, 1001263: 126, 1000436: 58, 1004661: 74, 1001917: 42, 1003046: 26, 1005477: 11, 1000066: 16, 1004268: 135, 1000055: 12, 1005332: 30, 1004792: 14, 1004514: 44, 1001122: 43, 1001011: 18, 1002516: 15, 1000170: 31, 1003451: 22, 1003140: 134, 1004426: 21, 1003614: 49, 1001564: 44, 1005209: 54, 1001735: 32, 1000394: 15, 1005431: 37, 1000797: 38, 1004343: 68, 1004573: 56, 1003185: 28, 1005424: 55, 1004553: 23, 1002228: 23, 1003760: 127, 1002625: 64, 1005639: 19, 1001328: 60, 1000871: 23, 1003402: 125, 1005609: 16, 1002985: 64, 1002178: 70, 1004627: 46, 1003106: 37, 1004602: 30, 1004091: 51, 1004759: 26, 1004761: 18, 1002895: 204, 1004099: 41, 1003894: 65, 1005781: 11, 1001098: 17, 1005865: 40, 1005905: 68, 1005244: 16, 1003399: 53, 1002263: 88, 1004694: 28, 1001976: 53, 1003514: 28, 1005830: 13, 1003693: 243, 1005152: 14, 1003817: 27, 1000033: 156, 1004794: 44, 1005661: 61, 1000481: 72, 1004908: 39, 1001512: 13, 1000081: 29, 1003896: 58, 1004688: 47, 1003291: 7, 1004869: 119, 1004820: 12, 1000099: 42, 1001376: 43, 1005180: 45, 1005278: 54, 1003865: 26, 1005408: 47, 1005593: 67, 1004250: 119, 1001784: 16, 1003439: 42, 1001394: 15, 1005310: 36, 1002268: 11, 1003240: 53, 1002505: 16, 1006013: 50, 1004706: 43, 1003417: 44, 1003501: 85, 1001802: 77, 1005421: 32, 1001267: 64, 1005341: 46, 1003585: 106, 1005185: 110, 1002307: 61, 1001401: 30, 1000610: 48, 1003481: 57, 1000891: 95, 1005020: 33, 1001153: 39, 1000190: 52, 1003196: 112, 1004392: 7, 1001717: 172, 1000596: 16, 1000622: 25, 1004997: 25, 1005591: 21, 1004291: 83, 1002035: 61, 1001339: 80, 1000442: 169, 1001901: 64, 1004357: 16, 1004002: 19, 1001833: 35, 1005930: 33, 1004236: 24, 1000526: 24, 1005777: 51, 1001561: 69, 1003954: 20, 1004289: 50, 1005318: 37, 1000429: 136, 1005300: 126, 1003398: 16, 1001513: 62, 1000837: 24, 1000991: 24, 1005420: 65, 1003752: 79, 1003741: 56, 1005694: 11, 1005362: 40, 1001706: 81, 1005659: 98, 1005045: 7, 1003057: 58, 1005034: 52, 1001910: 23, 1004363: 75, 1004734: 71, 1001027: 14, 1001745: 30, 1003151: 63, 1003973: 30, 1005301: 54, 1005308: 13, 1001945: 33, 1000786: 28, 1005914: 16, 1000187: 157, 1002118: 34, 1001595: 56, 1004362: 88, 1002812: 47, 1000836: 28, 1004133: 45, 1002058: 34, 1001407: 71, 1003556: 50, 1000828: 51, 1003781: 24, 1002398: 27, 1001033: 66, 1004705: 91, 1001961: 41, 1002676: 93, 1005178: 106, 1005002: 108, 1004046: 19, 1003645: 25, 1000226: 6, 1004342: 94, 1002558: 17, 1004699: 64, 1002515: 15, 1003745: 81, 1002817: 36, 1004717: 32, 1005490: 50, 1005248: 40, 1000354: 22, 1001532: 58, 1000398: 90, 1001106: 30, 1001400: 32, 1003873: 38, 1005963: 67, 1000278: 80, 1000469: 21, 1005042: 148, 1003345: 62, 1004996: 8, 1004220: 91, 1001142: 105, 1004893: 35, 1003804: 78, 1005545: 62, 1003659: 47, 1004821: 95, 1004168: 38, 1003314: 126, 1002158: 47, 1003413: 49, 1000301: 134, 1000401: 33, 1004487: 27, 1001858: 46, 1002790: 49, 1005687: 39, 1001536: 15, 1005246: 48, 1003701: 35, 1004733: 48, 1000723: 11, 1003845: 30, 1004693: 20, 1000113: 28, 1002751: 61, 1001955: 16, 1005417: 27, 1004625: 31, 1001583: 19, 1002632: 21, 1000212: 46, 1002773: 39, 1000990: 47, 1005624: 49, 1001944: 29, 1005613: 29, 1000088: 23, 1004173: 29, 1002346: 28, 1000287: 43, 1004710: 17, 1000189: 9, 1004124: 104, 1002481: 52, 1004825: 21, 1005349: 104, 1001633: 13, 1000530: 52, 1005334: 21, 1003207: 47, 1002501: 44, 1003287: 11, 1001066: 55, 1000546: 85, 1000719: 10, 1004637: 142, 1005652: 42, 1001867: 19, 1004516: 24, 1000087: 24, 1000918: 58, 1005075: 23, 1005131: 152, 1000894: 24, 1003356: 109, 1001403: 21, 1001575: 24, 1000602: 56, 1000702: 177, 1005321: 121, 1001294: 97, 1003925: 40, 1002352: 45, 1002868: 93, 1001275: 8, 1004532: 54, 1002772: 77, 1000941: 14, 1001301: 120, 1000966: 64, 1005648: 54, 1000967: 40, 1004235: 47, 1000539: 51, 1000799: 17, 1001570: 26, 1004409: 44, 1004809: 51, 1002391: 26, 1002661: 46, 1003598: 25, 1002464: 11, 1004284: 63, 1005871: 31, 1002604: 29, 1001896: 78, 1002587: 12, 1000585: 56, 1002432: 17, 1000552: 47, 1002179: 63, 1001247: 13, 1005213: 10, 1002199: 44, 1002512: 10, 1000450: 18, 1002761: 188, 1005019: 73, 1004389: 41, 1002007: 19, 1003232: 28, 1000689: 55, 1001134: 62, 1002143: 37, 1002096: 46, 1003329: 55, 1003722: 9, 1000553: 27, 1001437: 69, 1004178: 9, 1003104: 16, 1004856: 35, 1005438: 37, 1000476: 170, 1003159: 108, 1001610: 11, 1004200: 20, 1000868: 32, 1000059: 91, 1005150: 13, 1003122: 10, 1004651: 22, 1005913: 36, 1004782: 35, 1000832: 67, 1004221: 35, 1004620: 49, 1001162: 67, 1002138: 24, 1004788: 123, 1004635: 134, 1002770: 23, 1005657: 75, 1001594: 56, 1003698: 44, 1002280: 22, 1001441: 34, 1000653: 11, 1000332: 26, 1006005: 28, 1005644: 31, 1003260: 82, 1002691: 103, 1002287: 10, 1000045: 113, 1000336: 42, 1005742: 20, 1000636: 42, 1004483: 76, 1000674: 38, 1003075: 98, 1000575: 69, 1005465: 11, 1005050: 37, 1005846: 24, 1002956: 13, 1003016: 12, 1000147: 75, 1004126: 126, 1004575: 62, 1005924: 70, 1000685: 56, 1005799: 14, 1001918: 9, 1002472: 110, 1002406: 40, 1005529: 13, 1004338: 10, 1002730: 63, 1003276: 12, 1000419: 43, 1003961: 100, 1000899: 140, 1000682: 36, 1001935: 25, 1000666: 46, 1001552: 99, 1005458: 153, 1005363: 31, 1000452: 61, 1003120: 16, 1001008: 17, 1001806: 86, 1004546: 22, 1002660: 20, 1003034: 9, 1003965: 120, 1004923: 13, 1001936: 11, 1004826: 64, 1000415: 115, 1000121: 31, 1000409: 111, 1004912: 10, 1002372: 31, 1001399: 106, 1003049: 33, 1000812: 35, 1002254: 30, 1003946: 92, 1002618: 14, 1000049: 42, 1003591: 86, 1004094: 99, 1002005: 36, 1001865: 133, 1002699: 46, 1004741: 9, 1004030: 45, 1005833: 35, 1000134: 77, 1000820: 46, 1000323: 40, 1003392: 10, 1003860: 66, 1003342: 30, 1005439: 10, 1000111: 37, 1000304: 7, 1000599: 9, 1000069: 24, 1001277: 17, 1003145: 54, 1002065: 9, 1005626: 75, 1001475: 27, 1004711: 46, 1001177: 28, 1005072: 24, 1003037: 25, 1005884: 35, 1003943: 23, 1005547: 64, 1002858: 30, 1005907: 20, 1001074: 72, 1004057: 14, 1003298: 10, 1003109: 26, 1005030: 9, 1003990: 22, 1003380: 177, 1002241: 46, 1001502: 115, 1004599: 24, 1000007: 13, 1000512: 13, 1005793: 15, 1005435: 20, 1000704: 30, 1002351: 57, 1001774: 17, 1001723: 57, 1001055: 32, 1000515: 49, 1005579: 11, 1000641: 50, 1002932: 14, 1005086: 75, 1004751: 12, 1003170: 31, 1004753: 31, 1002797: 15, 1004000: 25, 1003780: 123, 1005700: 18, 1002289: 14, 1001767: 120, 1003347: 24, 1004103: 57, 1005982: 43, 1000510: 43, 1005842: 23, 1004315: 54, 1004758: 17, 1000629: 83, 1005879: 26, 1000414: 27, 1000136: 171, 1005797: 47, 1001286: 30, 1005080: 31, 1001857: 14, 1005535: 63, 1000243: 7, 1004368: 49, 1000418: 25, 1004909: 55, 1004760: 29, 1003360: 23, 1002017: 47, 1003387: 58, 1005128: 38, 1000766: 20, 1000110: 30, 1002113: 13, 1004469: 13, 1002191: 14, 1000915: 33, 1002825: 81, 1003088: 20, 1000988: 30, 1004023: 40, 1004359: 35, 1003542: 6, 1000776: 40, 1005756: 13, 1002343: 19, 1004245: 40, 1001463: 46, 1001352: 53, 1004074: 9, 1004317: 24, 1000645: 18, 1000557: 23, 1003438: 32, 1004155: 27, 1000119: 39, 1004394: 11, 1004561: 49, 1002804: 60, 1002144: 40, 1003608: 33, 1005190: 14, 1000656: 63, 1004418: 121, 1000897: 73, 1005869: 32, 1003218: 25, 1005445: 58, 1001492: 51, 1005297: 16, 1004311: 34, 1001847: 11, 1003386: 47, 1003549: 13, 1003692: 29, 1000816: 75, 1001113: 123, 1002951: 26, 1002570: 32, 1001742: 15, 1005029: 65, 1002483: 36, 1003175: 37, 1005594: 49, 1001905: 23, 1005872: 94, 1005418: 94, 1001971: 14, 1001914: 10, 1002212: 29, 1003533: 40, 1005028: 11, 1000070: 20, 1002816: 9, 1001838: 13, 1001829: 16, 1004618: 25, 1000768: 21, 1002989: 36, 1003801: 53, 1003694: 23, 1001543: 69, 1002027: 45, 1004818: 15, 1000570: 109, 1000500: 37, 1005114: 58, 1001045: 12, 1004692: 12, 1000775: 12, 1005295: 8, 1001471: 6, 1001067: 37, 1005673: 29, 1002758: 6, 1000947: 6, 1005154: 16, 1000857: 27, 1005920: 56, 1001553: 19, 1001108: 17, 1004350: 27, 1002993: 38, 1003332: 39, 1003488: 10, 1005769: 59, 1001525: 40, 1003786: 20, 1001287: 38, 1004961: 58, 1000046: 16, 1003340: 59, 1005259: 18, 1005071: 30, 1001191: 45, 1000718: 63, 1004109: 16, 1004983: 60, 1000844: 35, 1001691: 25, 1005325: 21, 1001515: 11, 1003453: 132, 1003923: 41, 1002682: 46, 1003531: 30, 1000082: 41, 1001221: 98, 1004721: 29, 1004836: 29, 1003866: 36, 1005518: 39, 1000197: 10, 1003515: 32, 1002608: 89, 1005904: 8, 1003696: 57, 1004691: 32, 1000174: 36, 1002024: 102, 1002397: 25, 1001925: 120, 1000856: 23, 1001414: 34, 1000931: 63, 1004795: 47, 1005353: 47, 1000376: 36, 1000841: 13, 1000693: 22, 1004443: 30, 1001319: 13, 1000086: 24, 1004503: 12, 1005038: 84, 1000135: 27, 1005683: 49, 1004740: 16, 1003070: 20, 1002255: 68, 1004798: 52, 1003749: 46, 1005868: 30, 1000340: 47, 1004678: 35, 1006012: 10, 1002354: 27, 1001226: 15, 1002978: 62, 1002051: 98, 1005985: 39, 1003950: 38, 1004827: 23, 1002134: 28, 1005906: 43, 1004367: 50, 1001720: 26, 1004900: 10, 1000344: 38, 1004704: 121, 1004187: 24, 1002801: 35, 1003734: 23, 1001807: 73, 1005783: 18, 1000878: 21, 1000085: 10, 1001547: 55, 1000582: 30, 1001648: 65, 1000950: 22, 1005549: 10, 1004383: 8, 1005267: 31, 1005060: 36, 1005077: 157, 1001456: 8, 1000345: 12, 1000295: 73, 1005688: 38, 1005667: 139, 1001662: 9, 1004047: 21, 1002013: 30, 1002110: 89, 1002133: 5, 1004283: 19, 1005422: 72, 1001022: 58, 1005934: 15, 1003036: 49, 1004764: 19, 1002551: 29, 1002736: 38, 1001729: 21, 1000903: 34, 1005823: 39, 1000998: 46, 1002394: 28, 1000617: 11, 1003740: 16, 1004152: 50, 1005760: 13, 1004815: 85, 1005191: 15, 1001184: 105, 1001637: 36, 1002318: 22, 1003289: 32, 1002527: 10, 1004801: 77, 1002207: 7, 1002324: 34, 1004464: 7, 1000725: 23, 1003022: 62, 1003406: 15, 1001874: 30, 1005176: 14, 1003805: 23, 1005434: 101, 1004020: 30, 1004924: 16, 1000643: 27, 1002392: 16, 1001747: 38, 1005021: 62, 1005135: 29, 1003660: 28, 1002914: 29, 1004424: 16, 1004861: 83, 1005709: 48, 1000253: 23, 1005027: 10, 1003474: 68, 1001990: 12, 1002623: 24, 1005566: 53, 1004902: 56, 1005069: 15, 1003479: 42, 1004542: 13, 1004714: 27, 1003586: 66, 1001608: 57, 1003964: 27, 1004136: 14, 1001315: 42, 1005494: 25, 1003631: 14, 1004677: 15, 1002236: 40, 1005037: 47, 1002064: 94, 1001734: 29, 1001440: 50, 1005044: 53, 1000041: 12, 1002208: 110, 1004958: 183, 1003811: 38, 1003932: 15, 1001977: 28, 1003766: 53, 1003442: 81, 1002305: 31, 1004993: 18, 1001721: 46, 1004222: 53, 1001770: 38, 1000052: 34, 1003922: 67, 1002554: 16, 1003738: 14, 1004505: 115, 1003616: 10, 1004952: 35, 1000444: 46, 1000861: 34, 1003078: 11, 1000648: 70, 1001670: 21, 1001408: 52, 1004241: 33, 1002250: 23, 1005789: 16, 1004841: 42, 1002924: 14, 1002471: 16, 1003282: 16, 1005138: 64, 1000843: 50, 1001646: 28, 1001212: 28, 1003405: 12, 1000634: 32, 1003058: 58, 1002798: 27, 1003537: 23, 1005064: 42, 1003241: 17, 1002385: 10, 1001417: 13, 1004182: 21, 1006038: 7, 1000819: 25, 1002036: 34, 1003206: 45, 1002844: 47, 1001843: 44, 1000035: 73, 1002455: 68, 1000263: 40, 1001908: 69, 1003485: 16, 1000583: 74, 1001350: 48, 1001254: 45, 1003638: 48, 1002050: 103, 1003274: 72, 1004934: 82, 1004698: 12, 1002904: 19, 1004076: 18, 1000650: 18, 1001089: 31, 1005058: 25, 1005940: 16, 1000779: 18, 1002407: 64, 1002594: 34, 1005144: 12, 1004531: 91, 1004068: 6, 1001213: 13, 1002194: 35, 1004936: 17, 1003354: 11, 1002631: 33, 1000544: 29, 1004628: 9, 1002161: 54, 1003411: 128, 1002674: 47, 1003047: 35, 1004892: 45, 1004790: 161, 1002014: 20, 1002355: 66, 1002234: 9, 1001198: 37, 1001607: 116, 1003838: 10, 1005378: 76, 1005546: 14, 1002852: 55, 1001481: 36, 1002828: 20, 1003559: 31, 1000106: 18, 1001707: 33, 1001131: 39, 1004179: 77, 1002300: 19, 1000522: 20, 1000761: 10, 1005778: 22, 1000807: 14, 1002530: 11, 1003802: 8, 1005368: 33, 1004899: 92, 1005199: 16, 1002112: 19, 1004120: 22, 1004544: 15, 1005197: 49, 1005337: 66, 1001629: 19, 1003904: 39, 1001104: 24, 1000748: 34, 1000642: 12, 1001304: 34, 1003190: 17, 1000432: 28, 1002202: 26, 1004106: 9, 1004554: 10, 1002452: 20, 1005017: 15, 1001995: 32, 1002517: 18, 1001257: 18, 1004757: 38, 1004278: 10, 1004015: 43, 1002949: 22, 1002782: 22, 1001214: 18, 1000502: 11, 1004927: 40, 1003219: 54, 1005496: 36, 1001065: 35, 1003587: 15, 1005276: 34, 1000306: 81, 1002132: 38, 1000256: 42, 1005524: 61, 1001185: 34, 1003703: 26, 1003862: 13, 1001981: 33, 1003415: 66, 1001996: 71, 1003382: 25, 1003723: 20, 1003818: 16, 1004830: 49, 1003584: 25, 1003160: 9, 1001540: 41, 1002755: 9, 1002600: 25, 1004031: 23, 1005016: 28, 1000630: 47, 1004630: 12, 1004481: 31, 1001078: 42, 1000266: 24, 1001618: 41, 1001548: 16, 1002626: 11, 1004608: 32, 1006022: 18, 1005479: 41, 1003560: 57, 1004164: 20, 1002830: 42, 1000384: 12, 1005123: 43, 1004672: 12, 1002684: 80, 1002358: 16, 1003459: 11, 1001565: 20, 1003293: 19, 1000233: 19, 1001862: 19, 1000017: 81, 1004144: 56, 1001527: 50, 1002040: 19, 1003571: 39, 1004474: 14, 1005860: 28, 1003090: 30, 1000297: 31, 1003245: 29, 1002974: 47, 1000959: 38, 1005088: 10, 1005228: 11, 1003004: 42, 1005971: 62, 1003467: 25, 1001521: 27, 1000413: 41, 1000686: 12, 1000451: 84, 1003803: 13, 1004915: 32, 1004555: 38, 1002815: 20, 1002981: 13, 1001777: 24, 1003063: 25, 1002285: 17, 1002656: 54, 1005237: 24, 1004225: 57, 1002273: 23, 1005272: 43, 1002249: 24, 1003114: 36, 1000701: 30, 1002597: 23, 1003839: 43, 1004121: 57, 1004745: 41, 1002580: 34, 1004290: 18, 1000901: 11, 1003893: 24, 1005498: 21, 1004735: 45, 1004163: 9, 1001665: 25, 1002853: 31, 1000609: 21, 1001382: 13, 1003606: 11, 1001056: 26, 1004967: 43, 1001933: 15, 1000286: 23, 1001070: 7, 1002325: 9, 1001271: 66, 1004504: 14, 1000431: 26, 1003820: 22, 1000015: 78, 1005572: 28, 1004125: 23, 1000993: 25, 1002789: 38, 1004198: 19, 1004641: 12, 1005988: 27, 1001503: 114, 1001593: 70, 1004442: 25, 1005125: 13, 1002708: 14, 1001174: 8, 1005436: 19, 1000381: 11, 1003446: 16, 1002589: 89, 1002754: 45, 1005625: 56, 1004466: 49, 1005612: 20, 1001176: 52, 1001044: 56, 1000813: 25, 1001668: 11, 1004080: 33, 1001557: 27, 1002359: 27, 1001830: 13, 1003396: 17, 1004947: 40, 1000838: 68, 1000709: 35, 1002008: 59, 1003502: 18, 1005121: 70, 1002482: 15, 1002957: 23, 1001474: 49, 1004662: 83, 1001365: 32, 1000606: 13, 1000210: 48, 1001371: 12, 1002983: 23, 1005145: 7, 1003550: 130, 1005721: 18, 1001692: 77, 1002369: 13, 1003444: 51, 1000028: 39, 1000504: 35, 1002395: 81, 1005471: 10, 1004396: 10, 1004901: 67, 1004988: 15, 1003429: 12, 1001321: 72, 1004127: 39, 1004300: 12, 1000703: 9, 1000956: 43, 1002535: 26, 1002451: 65, 1002662: 15, 1004530: 25, 1001262: 72, 1002321: 32, 1005210: 27, 1005967: 10, 1005473: 41, 1000958: 52, 1000165: 39, 1000545: 13, 1003172: 28, 1001346: 11, 1000283: 12, 1003939: 9, 1001280: 27, 1003006: 14, 1000251: 30, 1005680: 62, 1002327: 18, 1001109: 89, 1005922: 95, 1001892: 7, 1000562: 11, 1002000: 40, 1002108: 13, 1003019: 15, 1001345: 71, 1002849: 54, 1003670: 23, 1001409: 35, 1000407: 12, 1004244: 8, 1002803: 43, 1005076: 44, 1003863: 11, 1001427: 57, 1000378: 16, 1004730: 9, 1000275: 39, 1004557: 39, 1004486: 21, 1004214: 13, 1005560: 34, 1001514: 51, 1005406: 45, 1004681: 71, 1003918: 9, 1001488: 8, 1004870: 45, 1005081: 42, 1001625: 21, 1002598: 10, 1003901: 29, 1001638: 17, 1003381: 11, 1005155: 9, 1004850: 15, 1000114: 34, 1000379: 31, 1004398: 7, 1000972: 13, 1004960: 32, 1002577: 21, 1000747: 15, 1001679: 31, 1001289: 15, 1003186: 15, 1002510: 18, 1003577: 24, 1004146: 14, 1002556: 13, 1005288: 14, 1004114: 67, 1003552: 13, 1004631: 50, 1005638: 43, 1004786: 153, 1005315: 16, 1000155: 46, 1001239: 36, 1000422: 19, 1002714: 9, 1004157: 26, 1000439: 30, 1002780: 16, 1001072: 42, 1002349: 42, 1004461: 64, 1005281: 100, 1001934: 20, 1004872: 12, 1004101: 39, 1003657: 12, 1005647: 58, 1001405: 25, 1001900: 18, 1002513: 25, 1005507: 22, 1004206: 21, 1005973: 15, 1004321: 20, 1002669: 45, 1004860: 11, 1005835: 8, 1005169: 46, 1005775: 68, 1005727: 23, 1000982: 24, 1005894: 52, 1005031: 18, 1002488: 5, 1002940: 14, 1005423: 50, 1005758: 51, 1001612: 8, 1005733: 88, 1001013: 23, 1002532: 18, 1002697: 15, 1005407: 12, 1000039: 27, 1004148: 34, 1004598: 38, 1004012: 17, 1005183: 38, 1000109: 33, 1004763: 25, 1005233: 45, 1005474: 20, 1005939: 45, 1001161: 38, 1003134: 36, 1006024: 42, 1004172: 28, 1003366: 8, 1001238: 17, 1005710: 31, 1000756: 16, 1001876: 16, 1002545: 19, 1002947: 49, 1000050: 17, 1004911: 29, 1004500: 12, 1002557: 33, 1000852: 7, 1002297: 20, 1003623: 9, 1005502: 47, 1002942: 41, 1005061: 76, 1004056: 9, 1004060: 86, 1001555: 36, 1000789: 41, 1004756: 15, 1003948: 38, 1001956: 27, 1001869: 20, 1001923: 26, 1003486: 36, 1005857: 81, 1006028: 19, 1003267: 44, 1000670: 42, 1001541: 10, 1003171: 55, 1004739: 45, 1000316: 24, 1000940: 53, 1002614: 15, 1002269: 9, 1004036: 55, 1000083: 40, 1001200: 16, 1002822: 24, 1001237: 9, 1004702: 13, 1002330: 47, 1004282: 14, 1004977: 64, 1004612: 16, 1005640: 15, 1003667: 19, 1000421: 5, 1005381: 10, 1004589: 44, 1001823: 9, 1004755: 15, 1000254: 10, 1004614: 7, 1000430: 28, 1001771: 18, 1000882: 30, 1000312: 24, 1002864: 22, 1003331: 51, 1003535: 9, 1000905: 53, 1003795: 13, 1000282: 9, 1002213: 18, 1004138: 32, 1001523: 38, 1003517: 40, 1003920: 26, 1004914: 24, 1000523: 33, 1002306: 27, 1005051: 13, 1003155: 35, 1001215: 44, 1004237: 50, 1004147: 23, 1004231: 28, 1005588: 17, 1003346: 82, 1003126: 35, 1004656: 90, 1002875: 18, 1001909: 24, 1002278: 26, 1000168: 7, 1004980: 75, 1004596: 77, 1005202: 9, 1005751: 37, 1002415: 12, 1003523: 15, 1006037: 84, 1004374: 52, 1004176: 7, 1002366: 18, 1003215: 15, 1002386: 32, 1003898: 48, 1001683: 73, 1004329: 77, 1004340: 10, 1001278: 31, 1005633: 16, 1003027: 12, 1001107: 35, 1003177: 23, 1003924: 28, 1000467: 29, 1004207: 83, 1004145: 13, 1003448: 11, 1005032: 39, 1001227: 51, 1005382: 23, 1004437: 89, 1001654: 16, 1002320: 43, 1003099: 62, 1005410: 17, 1000145: 19, 1004925: 18, 1001103: 30, 1000806: 21, 1005637: 16, 1005921: 19, 1000299: 43, 1002245: 16, 1004528: 20, 1005429: 51, 1000741: 27, 1000143: 28, 1002988: 33, 1001728: 16, 1002390: 25, 1004295: 18, 1003843: 25, 1001487: 15, 1005770: 62, 1001210: 15, 1002785: 62, 1001438: 18, 1000680: 15, 1002997: 47, 1003597: 29, 1005279: 14, 1002687: 8, 1005900: 40, 1002835: 23, 1005101: 21, 1000498: 68, 1003656: 33, 1002361: 19, 1005049: 88, 1004346: 32, 1001190: 11, 1002214: 37, 1002619: 39, 1003510: 25, 1004949: 13, 1005818: 14, 1003244: 13, 1003937: 32, 1002045: 6, 1000480: 40, 1003184: 37, 1005009: 29, 1005672: 12, 1004314: 11, 1000383: 10, 1002713: 9, 1001762: 25, 1002104: 28, 1000751: 10, 1003593: 27, 1002610: 18, 1000353: 8, 1000334: 26, 1003707: 22, 1005059: 44, 1000347: 44, 1000420: 26, 1003730: 15, 1003622: 58, 1004113: 13, 1001435: 16, 1003828: 11, 1001220: 80, 1004008: 15, 1002433: 16, 1000483: 16, 1003744: 13, 1000584: 14, 1005179: 13, 1000579: 24, 1003456: 25, 1004910: 21, 1002727: 28, 1004978: 28, 1000417: 9, 1005928: 18, 1002908: 9, 1000743: 48, 1001938: 68, 1001495: 68, 1003323: 53, 1004071: 37, 1000707: 28, 1004718: 54, 1002421: 28, 1002426: 9, 1002906: 23, 1004941: 10, 1005743: 10, 1000029: 36, 1003052: 29, 1003987: 23, 1004170: 45, 1001410: 34, 1003315: 70, 1003596: 50, 1005133: 23, 1000505: 45, 1001258: 21, 1005486: 17, 1000862: 46, 1001754: 16, 1000057: 32, 1000920: 43, 1000071: 13, 1002299: 27, 1001154: 13, 1002328: 19, 1005299: 21, 1001222: 27, 1000997: 13, 1003000: 43, 1003995: 56, 1001455: 26, 1002159: 16, 1001792: 11, 1001445: 10, 1005836: 22, 1005941: 17, 1002955: 70, 1005632: 27, 1004165: 25, 1006033: 21, 1002417: 8, 1003194: 12, 1002339: 9, 1003433: 35, 1005562: 30, 1003785: 11, 1003588: 87, 1000009: 45, 1005704: 36, 1003470: 35, 1001018: 43, 1002677: 9, 1002886: 32, 1002499: 23, 1001661: 12, 1004205: 18, 1000521: 19, 1001848: 11, 1005348: 17, 1003223: 22, 1005825: 52, 1005764: 29, 1001326: 11, 1000898: 9, 1003545: 10, 1003879: 14, 1001309: 12, 1000874: 11, 1005489: 22, 1004320: 31, 1003043: 13, 1004240: 25, 1001485: 13, 1004844: 14, 1004059: 15, 1004873: 12, 1001208: 20, 1005377: 13, 1000711: 59, 1002667: 11, 1001482: 26, 1004634: 33, 1002648: 40, 1004292: 46, 1001468: 46, 1004463: 9, 1002375: 15, 1004372: 12, 1002763: 15, 1000722: 22, 1005544: 20, 1003071: 13, 1005953: 48, 1003980: 18, 1005731: 27, 1004051: 39, 1005745: 21, 1002356: 7, 1001677: 16, 1004423: 17, 1004196: 13, 1004569: 40, 1000568: 9, 1000020: 8, 1000879: 21, 1004581: 30, 1003711: 35, 1004652: 17, 1005129: 41, 1002848: 72, 1002224: 16, 1001964: 13, 1003868: 116, 1000408: 63, 1001992: 35, 1000362: 17, 1003748: 11, 1004189: 13, 1003445: 48, 1002534: 18, 1002101: 39, 1003574: 65, 1005810: 5, 1002416: 19, 1005774: 17, 1005495: 11, 1004743: 12, 1000032: 20, 1000826: 13, 1004228: 10, 1005004: 17, 1001574: 19, 1003249: 22, 1005965: 17, 1002479: 15, 1004405: 18, 1001893: 17, 1004547: 12, 1000932: 6, 1001772: 15, 1003248: 33, 1001464: 34, 1005801: 61, 1003551: 35, 1002216: 27, 1004025: 12, 1000600: 11, 1005231: 16, 1003153: 20, 1000914: 22, 1004434: 21, 1002979: 16, 1000853: 42, 1002475: 9, 1005148: 36, 1000356: 8, 1002518: 24, 1001769: 31, 1005541: 15, 1005696: 9, 1005665: 21, 1001663: 13, 1001526: 13, 1002937: 43, 1004986: 11, 1005079: 35, 1000025: 38, 1002733: 38, 1005952: 48, 1000663: 40, 1002584: 10, 1005274: 10, 1000080: 24, 1003050: 20, 1003881: 29, 1000454: 108, 1000056: 27, 1001750: 26, 1005552: 24, 1001149: 38, 1003326: 15, 1002706: 10, 1001853: 58, 1001915: 8, 1001126: 9, 1002823: 32, 1005247: 17, 1004613: 34, 1003409: 17, 1002525: 21, 1004336: 50, 1002399: 9, 1001789: 26, 1000627: 17, 1004864: 20, 1006034: 8, 1000782: 11, 1001700: 19, 1004778: 17, 1002543: 7, 1002128: 7, 1000363: 19, 1000519: 22, 1002919: 63, 1002658: 14, 1006020: 18, 1003039: 25, 1004683: 19, 1003113: 16, 1003875: 19, 1005554: 34, 1003351: 7, 1003647: 12, 1002469: 23, 1005484: 37, 1005330: 28, 1002150: 15, 1003800: 25, 1002633: 18, 1003655: 17, 1002367: 25, 1003373: 10, 1003021: 11, 1001195: 37, 1002439: 34, 1000485: 19, 1003408: 42, 1003127: 15, 1005999: 13, 1000193: 101, 1001551: 70, 1001036: 19, 1001518: 9, 1000559: 9, 1002579: 20, 1002044: 11, 1003119: 45, 1002377: 12, 1001152: 63, 1005807: 26, 1002387: 33, 1004092: 26, 1003861: 14, 1004781: 14, 1005151: 59, 1003302: 25, 1001799: 40, 1001999: 42, 1002992: 16, 1000581: 26, 1004475: 15, 1005024: 31, 1005232: 51, 1004709: 14, 1002975: 35, 1002347: 10, 1000726: 30, 1002561: 35, 1002115: 14, 1005898: 10, 1002965: 5, 1001906: 8, 1000943: 30, 1005803: 30, 1003165: 13, 1005891: 25, 1003662: 34, 1005226: 30, 1000227: 12, 1003341: 55, 1002675: 14, 1002891: 20, 1001659: 23, 1003909: 32, 1002252: 9, 1004003: 17, 1005266: 15, 1004512: 55, 1004304: 13, 1001337: 29, 1002336: 11, 1003634: 12, 1002206: 51, 1001188: 10, 1002672: 18, 1005910: 40, 1005712: 42, 1004158: 5, 1005389: 53, 1002882: 48, 1002650: 23, 1001416: 7, 1002431: 11, 1001713: 11, 1005969: 36, 1004455: 20, 1001480: 16, 1001907: 5, 1003755: 24, 1005936: 15, 1004646: 11, 1002322: 24, 1005449: 49, 1000633: 19, 1005171: 5, 1004776: 7, 1000489: 11, 1001233: 25, 1004232: 22, 1000916: 22, 1002396: 16, 1002528: 28, 1003169: 46, 1004903: 17, 1004727: 23, 1001037: 14, 1002076: 33, 1000978: 13, 1003798: 10, 1004262: 18, 1000290: 12, 1005241: 44, 1001342: 30, 1004840: 36, 1003765: 13, 1004264: 12, 1002371: 31, 1005258: 7, 1003809: 16, 1000280: 16, 1002294: 28, 1000222: 23, 1003743: 13, 1001235: 20, 1000158: 10, 1003500: 31, 1005181: 17, 1002850: 14, 1001957: 20, 1005095: 18, 1005631: 33, 1000079: 11, 1000250: 9, 1001486: 26, 1003268: 27, 1005993: 13, 1004876: 15, 1005563: 13, 1004358: 14, 1003644: 23, 1001563: 30, 1000864: 46, 1002210: 17, 1000317: 10, 1004999: 26, 1004129: 12, 1002647: 12, 1005503: 20, 1000586: 11, 1001276: 29, 1001614: 29, 1005316: 14, 1004288: 8, 1003758: 19, 1003960: 6, 1005370: 10, 1000492: 10, 1002477: 27, 1000835: 13, 1000804: 19, 1001091: 14, 1004444: 33, 1004397: 29, 1001075: 20, 1005757: 36, 1000460: 14, 1002917: 27, 1002524: 10, 1002470: 11, 1002315: 23, 1002578: 15, 1005619: 41, 1005829: 34, 1001428: 23, 1005772: 12, 1000060: 20, 1001085: 17, 1000675: 14, 1002374: 68, 1005175: 11, 1002806: 33, 1002033: 22, 1004069: 12, 1005608: 3, 1000484: 13, 1002991: 21, 1001821: 8, 1004550: 11, 1002275: 17, 1001756: 27, 1002630: 16, 1001157: 7, 1004239: 26, 1000388: 27, 1001295: 21, 1004518: 32, 1001533: 36, 1005819: 13, 1005931: 30, 1001163: 26, 1005478: 14, 1005023: 48, 1002722: 11, 1005601: 34, 1000623: 50, 1006039: 53, 1004432: 27, 1003492: 29, 1001644: 21, 1005741: 25, 1004862: 30, 1000156: 47, 1005476: 11, 1000968: 21, 1005887: 33, 1003575: 10, 1000976: 20, 1003782: 26, 1005252: 19, 1004713: 27, 1003183: 46, 1003033: 38, 1001810: 17, 1002341: 21, 1004538: 14, 1001578: 15, 1004341: 15, 1004044: 21, 1000004: 11, 1004877: 38, 1000309: 42, 1005903: 27, 1004665: 9, 1004723: 12, 1003911: 17, 1000125: 24, 1004966: 20, 1004255: 19, 1004622: 9, 1005828: 13, 1003772: 23, 1002449: 11, 1002655: 29, 1000077: 14, 1003168: 14, 1005515: 22, 1001249: 9, 1000051: 17, 1002666: 33, 1002920: 8, 1002982: 7, 1001372: 27, 1002640: 9, 1000236: 18, 1005392: 10, 1003149: 16, 1005944: 9, 1000443: 17, 1001180: 16, 1005240: 14, 1000348: 43, 1005328: 19, 1004385: 8, 1002574: 16, 1002430: 19, 1004857: 22, 1005919: 14, 1001042: 19, 1002121: 68, 1000252: 20, 1002028: 13, 1002169: 8, 1005307: 29, 1000159: 15, 1001596: 8, 1002123: 15, 1004325: 10, 1000946: 14, 1005200: 20, 1003895: 23, 1001259: 26, 1004669: 16, 1002571: 31, 1005380: 9, 1004492: 6, 1000834: 24, 1002791: 19, 1003699: 24, 1000728: 74, 1000574: 9, 1001432: 15, 1001815: 12, 1005718: 73, 1001296: 24, 1000917: 14, 1004067: 30, 1003788: 7, 1005606: 12, 1000184: 37, 1001994: 11, 1003784: 17, 1004604: 30, 1005923: 14, 1004866: 22, 1001292: 15, 1001341: 32, 1005642: 24, 1000209: 12, 1001634: 36, 1000790: 8, 1004817: 29, 1004762: 22, 1001751: 10, 1003463: 15, 1002936: 17, 1004828: 32, 1005396: 34, 1001313: 11, 1000679: 33, 1002074: 12, 1004429: 19, 1001852: 22, 1003115: 19, 1003048: 25, 1003089: 22, 1000247: 17, 1005454: 21, 1001500: 37, 1004616: 14, 1005456: 19, 1001703: 11, 1000619: 15, 1000825: 14, 1005909: 10, 1000311: 5, 1000961: 17, 1000661: 31, 1003810: 33, 1001063: 38, 1000821: 7, 1000037: 19, 1003324: 9, 1005462: 18, 1004549: 8, 1003214: 13, 1000076: 36, 1005577: 15, 1001704: 11, 1004623: 13, 1000618: 19, 1000612: 19, 1004640: 53, 1005992: 25, 1004081: 20, 1002363: 12, 1002509: 11, 1005487: 15, 1003161: 27, 1000565: 9, 1002836: 9, 1003525: 31, 1005748: 23, 1001046: 13, 1001364: 24, 1005481: 22, 1005203: 13, 1001950: 58, 1003480: 19, 1003212: 10, 1003038: 45, 1001846: 22, 1005586: 15, 1001175: 31, 1005440: 16, 1000503: 11, 1000787: 46, 1003146: 23, 1005207: 8, 1002963: 12, 1002201: 27, 1000969: 10, 1001855: 31, 1000681: 16, 1002775: 17, 1002284: 21, 1003068: 8, 1004668: 14, 1004275: 17, 1004813: 38, 1001145: 24, 1002987: 15, 1005159: 10, 1001316: 13, 1001429: 13, 1000294: 14, 1004208: 16, 1000012: 10, 1001136: 25, 1005895: 21, 1002003: 28, 1006009: 23, 1001708: 13, 1002646: 10, 1005832: 30, 1003030: 8, 1000989: 18, 1002200: 25, 1000465: 15, 1005525: 10, 1000177: 18, 1003956: 14, 1002154: 23, 1000370: 23, 1002004: 35, 1003131: 34, 1000437: 20, 1005834: 14, 1005326: 45, 1003060: 12, 1002197: 14, 1005897: 25, 1000616: 19, 1002107: 12, 1000694: 12, 1005651: 16, 1004137: 34, 1000120: 25, 1001849: 13, 1005235: 13, 1002428: 31, 1001580: 14, 1003357: 31, 1001205: 42, 1002902: 9, 1003008: 13, 1005732: 17, 1004896: 18, 1003736: 54, 1005194: 30, 1004660: 16, 1001229: 15, 1004301: 14, 1001092: 16, 1004633: 30, 1000221: 16, 1004969: 14, 1002762: 19, 1005007: 9, 1000867: 15, 1000845: 20, 1001782: 13, 1002039: 49, 1004254: 12, 1003372: 6, 1005033: 19, 1001881: 13, 1002155: 31, 1002422: 5, 1000532: 12, 1002839: 11, 1000217: 7, 1004822: 15, 1001795: 11, 1001236: 9, 1001972: 30, 1002291: 13, 1002437: 17, 1001582: 10, 1002253: 14, 1005876: 9, 1004707: 18, 1003869: 23, 1005798: 42, 1001686: 14, 1003496: 13, 1002487: 21, 1001588: 18, 1001966: 22, 1005160: 13, 1000908: 10, 1005933: 17, 1000427: 9, 1005270: 47, 1004766: 16, 1002494: 15, 1002959: 25, 1002476: 19, 1000831: 17, 1004316: 14, 1002461: 35, 1002725: 16, 1005343: 10, 1004976: 25, 1003783: 10, 1004853: 16, 1003814: 16, 1004192: 7, 1003636: 7, 1002912: 14, 1000688: 17, 1004273: 12, 1005078: 24, 1003273: 10, 1006004: 25, 1002384: 9, 1001970: 24, 1000030: 23, 1006026: 31, 1000851: 29, 1005506: 19, 1000375: 23, 1003794: 22, 1003124: 12, 1002382: 26, 1000597: 26, 1000246: 10, 1001991: 8, 1004061: 12, 1004982: 20, 1002622: 18, 1002862: 31, 1000016: 18, 1002711: 19, 1005036: 17, 1004191: 12, 1000276: 11, 1005901: 8, 1001192: 8, 1000054: 16, 1002531: 11, 1001911: 13, 1003040: 13, 1002474: 15, 1005052: 9, 1004242: 53, 1000514: 41, 1003279: 37, 1002550: 29, 1004974: 11, 1003725: 11, 1000084: 12, 1004749: 6, 1002898: 40, 1002838: 14, 1003759: 39, 1001459: 10, 1005066: 15, 1001504: 16, 1005285: 21, 1001138: 31, 1000511: 8, 1002867: 14, 1004576: 8, 1003627: 11, 1004307: 11, 1004990: 24, 1000292: 19, 1003255: 14, 1004632: 20, 1002746: 22, 1002257: 14, 1002256: 25, 1004886: 37, 1000112: 20, 1005104: 21, 1002639: 10, 1001385: 7, 1003117: 11, 1005587: 23, 1001997: 17, 1001384: 8, 1002831: 9, 1004919: 13, 1001732: 14, 1002052: 14, 1000043: 11, 1003826: 11, 1003094: 16, 1002971: 16, 1004365: 8, 1000497: 11, 1004719: 13, 1002209: 13, 1005670: 30, 1002514: 15, 1004617: 31, 1000289: 24, 1001054: 51, 1003566: 9, 1002954: 10, 1003061: 15, 1005309: 11, 1003286: 14, 1002735: 12, 1000374: 22, 1001834: 25, 1004267: 14, 1005110: 10, 1003776: 15, 1000094: 4, 1005912: 46, 1003508: 16, 1004427: 13, 1000758: 15, 1003238: 11, 1003581: 13, 1001397: 19, 1004851: 10, 1003527: 21, 1002460: 19, 1005224: 8, 1005168: 10, 1001656: 10, 1005514: 18, 1002707: 9, 1005989: 30, 1002412: 12, 1005134: 36, 1003397: 8, 1000657: 19, 1001006: 19, 1002184: 12, 1001763: 13, 1002048: 15, 1001478: 14, 1005351: 11, 1004703: 10, 1002612: 16, 1001187: 16, 1004366: 15, 1001558: 11, 1001649: 22, 1001682: 13, 1001669: 10, 1000773: 21, 1001989: 12, 1005149: 10, 1004201: 12, 1003278: 16, 1003969: 10, 1002977: 6, 1003042: 19, 1000525: 19, 1003595: 18, 1004229: 23, 1000196: 15, 1004270: 12, 1000951: 9, 1005814: 11, 1005646: 43, 1005581: 16, 1001572: 20, 1003264: 8, 1001529: 12, 1002314: 15, 1001351: 9, 1003252: 7, 1004537: 9, 1003604: 10, 1001431: 8, 1004548: 8, 1005214: 17, 1004209: 15, 1002783: 19, 1004720: 14, 1002671: 5, 1004319: 12, 1001269: 10, 1003928: 7, 1000360: 26, 1000814: 14, 1000440: 11, 1004135: 36, 1000933: 20, 1003899: 20, 1005314: 9, 1001953: 16, 1001282: 7, 1001725: 13, 1004676: 12, 1001510: 16, 1002086: 13, 1000089: 13, 1000434: 19, 1004108: 13, 1005559: 13, 1003355: 12, 1003944: 25, 1002673: 9, 1004515: 8, 1005714: 29, 1001379: 10, 1002705: 10, 1004847: 31, 1002644: 8, 1005611: 14, 1005681: 13, 1005280: 9, 1000607: 6, 1004246: 16, 1005414: 40, 1004667: 18, 1003275: 4, 1005802: 16, 1003144: 10, 1001809: 17, 1005970: 19, 1005849: 17, 1003767: 17, 1000578: 8, 1000842: 13, 1004752: 10, 1004657: 14, 1002295: 9, 1000067: 26, 1002704: 24, 1000708: 6, 1005589: 15, 1004871: 11, 1004636: 12, 1004744: 20, 1002443: 10, 1004588: 12, 1003316: 13, 1003708: 13, 1003633: 10, 1004938: 7, 1001832: 21, 1002984: 11, 1004649: 13, 1005336: 18, 1001859: 21, 1001568: 8, 1002292: 7, 1000322: 12, 1004811: 13, 1003739: 7, 1005415: 20, 1003883: 9, 1004065: 7, 1003375: 10, 1001452: 7, 1005697: 14, 1000478: 20, 1001651: 11, 1004017: 12, 1003936: 19, 1003235: 17, 1004087: 22, 1002388: 8, 1004777: 17, 1002111: 4, 1000141: 7, 1006017: 10, 1003668: 13, 1002563: 9, 1002834: 6, 1000561: 12, 1002032: 22, 1000659: 43, 1000279: 17, 1000459: 11, 1005695: 13, 1001026: 15, 1000717: 13, 1002678: 15, 1000979: 30, 1005533: 7, 1004143: 13, 1001290: 16, 1005918: 8, 1002274: 16, 1005320: 6, 1000763: 11, 1002260: 11, 1005262: 15, 1004597: 7, 1005303: 17, 1002311: 8, 1004664: 11, 1005357: 21, 1002364: 12, 1002362: 16, 1003166: 13, 1002759: 5, 1005983: 12, 1000885: 16, 1002296: 10, 1005820: 19, 1005245: 9, 1003303: 8, 1000399: 7, 1005839: 9, 1005383: 11, 1004166: 10, 1001622: 10, 1004110: 9, 1001049: 10, 1003628: 15, 1003322: 15, 1001460: 13, 1001531: 12, 1004846: 12, 1001604: 15, 1001375: 24, 1005883: 12, 1001559: 19, 1002879: 9, 1003472: 22, 1000373: 13, 1002218: 15, 1002434: 10, 1004197: 8, 1000580: 19, 1001674: 12, 1000164: 13, 1005374: 15, 1002151: 18, 1004746: 32, 1004230: 8, 1001118: 10, 1004280: 30, 1001332: 14, 1003753: 16, 1001942: 18, 1002964: 25, 1002360: 16, 1003421: 10, 1000395: 6, 1001318: 5, 1000665: 10, 1004075: 22, 1004199: 19, 1005372: 14, 1005062: 7, 1005873: 15, 1004393: 8, 1004565: 10, 1003344: 24, 1003554: 13, 1004971: 9, 1003702: 13, 1001334: 19, 1001330: 18, 1003495: 8, 1004154: 10, 1004159: 9, 1003764: 10, 1004881: 10, 1005773: 7, 1000907: 10, 1004629: 15, 1001888: 11, 1000154: 25, 1005385: 17, 1002601: 8, 1000448: 10, 1000234: 16, 1002613: 8, 1005444: 15, 1002083: 13, 1004052: 11, 1004324: 12, 1001043: 15, 1000598: 9, 1002519: 23, 1004885: 10, 1003787: 10, 1005816: 14, 1005784: 10, 1005346: 21, 1001785: 16, 1001398: 15, 1000318: 7, 1005685: 11, 1002553: 7, 1004441: 13, 1001787: 9, 1002716: 9, 1000883: 11, 1004211: 11, 1005212: 11, 1003325: 12, 1003986: 18, 1004097: 13, 1001250: 10, 1000540: 17, 1004587: 15, 1000239: 19, 1000603: 23, 1005882: 15, 1001652: 11, 1004142: 13, 1002182: 9, 1001039: 11, 1004944: 8, 1003100: 19, 1002960: 15, 1005416: 19, 1000762: 19, 1001003: 10, 1002877: 18, 1005735: 6, 1004188: 20, 1001283: 15, 1003977: 12, 1004701: 16, 1002930: 11, 1000298: 8, 1004419: 9, 1000564: 17, 1003876: 11, 1003407: 10, 1001813: 8, 1002911: 23, 1001144: 12, 1000794: 17, 1001444: 12, 1002160: 7, 1001987: 19, 1002690: 7, 1001766: 9, 1005425: 20, 1005984: 11, 1003857: 16, 1004624: 25, 1000640: 9, 1001929: 11, 1003455: 9, 1003176: 8, 1003307: 12, 1001454: 7, 1005867: 11, 1005635: 12, 1004331: 14, 1000902: 7, 1001826: 20, 1003181: 7, 1000108: 6, 1000021: 9, 1000745: 9, 1000171: 9, 1001479: 12, 1001566: 9, 1001711: 10, 1005739: 18, 1000700: 11, 1005863: 9, 1003449: 29, 1003388: 7, 1001581: 14, 1002925: 9, 1000361: 10, 1000124: 11, 1005141: 15, 1005067: 14, 1002582: 9, 1000986: 5, 1001477: 16, 1002441: 12, 1000923: 16, 1004536: 13, 1005628: 6, 1001081: 16, 1002698: 16, 1002741: 11, 1001520: 9, 1005358: 9, 1003897: 10, 1005711: 14, 1002871: 13, 1004525: 3, 1002686: 11, 1002450: 10, 1004495: 18, 1004256: 11, 1000441: 19, 1002034: 18, 1005850: 19, 1003247: 10, 1002542: 8, 1003254: 9, 1001166: 10, 1004935: 13, 1005962: 11, 1000942: 10, 1003959: 14, 1003288: 8, 1001305: 9, 1005656: 7, 1000742: 15, 1000207: 11, 1001508: 11, 1003379: 13, 1000573: 18, 1001730: 8, 1005899: 10, 1001840: 12, 1003632: 9, 1004420: 18, 1003700: 16, 1004696: 10, 1005719: 9, 1004695: 12, 1001363: 11, 1001872: 12, 1005216: 8, 1000784: 12, 1001550: 11, 1000906: 8, 1002286: 18, 1004479: 19, 1004399: 10, 1005292: 14, 1001368: 17, 1003933: 14, 1003870: 9, 1003530: 11, 1003009: 6, 1004349: 11, 1000468: 11, 1002657: 8, 1004019: 8, 1000892: 11, 1003330: 7, 1001534: 9, 1002819: 10, 1002490: 7, 1002381: 11, 1002767: 9, 1005373: 11, 1002243: 24, 1001178: 15, 1004926: 6, 1004259: 13, 1000228: 14, 1001993: 5, 1005119: 6, 1001886: 8, 1005400: 10, 1001801: 9, 1004558: 7, 1000572: 6, 1003915: 9, 1002037: 7, 1002729: 13, 1001986: 7, 1004638: 15, 1001083: 8, 1001554: 9, 1004880: 11, 1005206: 5, 1000064: 7, 1002538: 12, 1000535: 7, 1001197: 10, 1002710: 10, 1002568: 11, 1005162: 14, 1001898: 11, 1005859: 12, 1000364: 10, 1005238: 6, 1004991: 2, 1002821: 9, 1001615: 8, 1005409: 8, 1001353: 18, 1000213: 4, 1002442: 11, 1002220: 10, 1005043: 5, 1002893: 2, 1001406: 12, 1002739: 12, 1000160: 6, 1000341: 7, 1004559: 12, 1001562: 9, 1002135: 8, 1003225: 7, 1004955: 9, 1005411: 9, 1001412: 8, 1005932: 10, 1000277: 12, 1002884: 9, 1000172: 10, 1002813: 8, 1001549: 5, 1002379: 12, 1005117: 6, 1005012: 10, 1000320: 4, 1001927: 5, 1005391: 3, 1005804: 7, 1001234: 7, 1002193: 10, 1000491: 7, 1000098: 9}\n"
     ]
    }
   ],
   "source": [
    "#Maintaining the dictionary where\n",
    "# Keys: Each unique User_ID\n",
    "#Values: Total Products of category1 bought by each user\n",
    "dicts = {}\n",
    "keys = unique_User_list\n",
    "for i in keys:\n",
    "        dicts[i] = dup_dataset[dup_dataset['User_ID'] == i]['Product_Category_1'].value_counts().sum()\n",
    "print(dicts)"
   ]
  },
  {
   "cell_type": "code",
   "execution_count": 193,
   "metadata": {},
   "outputs": [],
   "source": [
    "#Creating a pandas series from the dictionary\n",
    "s = pd.Series(dicts, name='Total_Cat1_Purchase')\n",
    "s.index.name = 'Users'"
   ]
  },
  {
   "cell_type": "code",
   "execution_count": 194,
   "metadata": {},
   "outputs": [],
   "source": [
    "# Creating a dataFrame to map into original Datset\n",
    "users_data = pd.DataFrame(s.reset_index())"
   ]
  },
  {
   "cell_type": "code",
   "execution_count": 195,
   "metadata": {},
   "outputs": [
    {
     "data": {
      "text/html": [
       "<div>\n",
       "<style scoped>\n",
       "    .dataframe tbody tr th:only-of-type {\n",
       "        vertical-align: middle;\n",
       "    }\n",
       "\n",
       "    .dataframe tbody tr th {\n",
       "        vertical-align: top;\n",
       "    }\n",
       "\n",
       "    .dataframe thead th {\n",
       "        text-align: right;\n",
       "    }\n",
       "</style>\n",
       "<table border=\"1\" class=\"dataframe\">\n",
       "  <thead>\n",
       "    <tr style=\"text-align: right;\">\n",
       "      <th></th>\n",
       "      <th>Users</th>\n",
       "      <th>Total_Cat1_Purchase</th>\n",
       "    </tr>\n",
       "  </thead>\n",
       "  <tbody>\n",
       "    <tr>\n",
       "      <th>0</th>\n",
       "      <td>1003916</td>\n",
       "      <td>196</td>\n",
       "    </tr>\n",
       "    <tr>\n",
       "      <th>1</th>\n",
       "      <td>1005788</td>\n",
       "      <td>328</td>\n",
       "    </tr>\n",
       "    <tr>\n",
       "      <th>2</th>\n",
       "      <td>1001179</td>\n",
       "      <td>103</td>\n",
       "    </tr>\n",
       "    <tr>\n",
       "      <th>3</th>\n",
       "      <td>1005604</td>\n",
       "      <td>90</td>\n",
       "    </tr>\n",
       "    <tr>\n",
       "      <th>4</th>\n",
       "      <td>1003011</td>\n",
       "      <td>40</td>\n",
       "    </tr>\n",
       "  </tbody>\n",
       "</table>\n",
       "</div>"
      ],
      "text/plain": [
       "     Users  Total_Cat1_Purchase\n",
       "0  1003916                  196\n",
       "1  1005788                  328\n",
       "2  1001179                  103\n",
       "3  1005604                   90\n",
       "4  1003011                   40"
      ]
     },
     "execution_count": 195,
     "metadata": {},
     "output_type": "execute_result"
    }
   ],
   "source": [
    "users_data.head()"
   ]
  },
  {
   "cell_type": "code",
   "execution_count": 196,
   "metadata": {},
   "outputs": [],
   "source": [
    "def Cat1_Popularity_User(dataset):\n",
    "    dataset['Cat1_Popularity_per_User'] = dataset['User_ID'].map(users_data.set_index('Users')['Total_Cat1_Purchase'])\n",
    "    return dataset"
   ]
  },
  {
   "cell_type": "code",
   "execution_count": 197,
   "metadata": {},
   "outputs": [
    {
     "data": {
      "text/html": [
       "<div>\n",
       "<style scoped>\n",
       "    .dataframe tbody tr th:only-of-type {\n",
       "        vertical-align: middle;\n",
       "    }\n",
       "\n",
       "    .dataframe tbody tr th {\n",
       "        vertical-align: top;\n",
       "    }\n",
       "\n",
       "    .dataframe thead th {\n",
       "        text-align: right;\n",
       "    }\n",
       "</style>\n",
       "<table border=\"1\" class=\"dataframe\">\n",
       "  <thead>\n",
       "    <tr style=\"text-align: right;\">\n",
       "      <th></th>\n",
       "      <th>User_ID</th>\n",
       "      <th>Product_ID</th>\n",
       "      <th>Gender</th>\n",
       "      <th>Age</th>\n",
       "      <th>Occupation</th>\n",
       "      <th>City_Category</th>\n",
       "      <th>Stay_In_Current_City_Years</th>\n",
       "      <th>Marital_Status</th>\n",
       "      <th>Product_Category_1</th>\n",
       "      <th>Product_Category_2</th>\n",
       "      <th>Product_Category_3</th>\n",
       "      <th>Total_category</th>\n",
       "      <th>Product_popularity_Score</th>\n",
       "      <th>User_popularity_Score</th>\n",
       "      <th>Ocupation_Score</th>\n",
       "      <th>Male_ratio</th>\n",
       "      <th>Female_ratio</th>\n",
       "      <th>Population_Duration</th>\n",
       "      <th>Cat1_Popularity_per_User</th>\n",
       "    </tr>\n",
       "  </thead>\n",
       "  <tbody>\n",
       "    <tr>\n",
       "      <th>532017</th>\n",
       "      <td>1003916</td>\n",
       "      <td>P00057642</td>\n",
       "      <td>M</td>\n",
       "      <td>26-35</td>\n",
       "      <td>4</td>\n",
       "      <td>A</td>\n",
       "      <td>2</td>\n",
       "      <td>1</td>\n",
       "      <td>1</td>\n",
       "      <td>15</td>\n",
       "      <td>16</td>\n",
       "      <td>3</td>\n",
       "      <td>0.756223</td>\n",
       "      <td>0.267030</td>\n",
       "      <td>1.000000</td>\n",
       "      <td>0.7713</td>\n",
       "      <td>0.2287</td>\n",
       "      <td>0.525298</td>\n",
       "      <td>196</td>\n",
       "    </tr>\n",
       "    <tr>\n",
       "      <th>153907</th>\n",
       "      <td>1005788</td>\n",
       "      <td>P00223542</td>\n",
       "      <td>M</td>\n",
       "      <td>26-35</td>\n",
       "      <td>0</td>\n",
       "      <td>A</td>\n",
       "      <td>4+</td>\n",
       "      <td>0</td>\n",
       "      <td>1</td>\n",
       "      <td>8</td>\n",
       "      <td>17</td>\n",
       "      <td>3</td>\n",
       "      <td>0.232064</td>\n",
       "      <td>0.446866</td>\n",
       "      <td>0.955926</td>\n",
       "      <td>0.7713</td>\n",
       "      <td>0.2287</td>\n",
       "      <td>0.440367</td>\n",
       "      <td>328</td>\n",
       "    </tr>\n",
       "    <tr>\n",
       "      <th>162868</th>\n",
       "      <td>1001179</td>\n",
       "      <td>P00100642</td>\n",
       "      <td>M</td>\n",
       "      <td>51-55</td>\n",
       "      <td>1</td>\n",
       "      <td>B</td>\n",
       "      <td>2</td>\n",
       "      <td>1</td>\n",
       "      <td>5</td>\n",
       "      <td>15</td>\n",
       "      <td>-1</td>\n",
       "      <td>2</td>\n",
       "      <td>0.224012</td>\n",
       "      <td>0.140327</td>\n",
       "      <td>0.652652</td>\n",
       "      <td>0.7392</td>\n",
       "      <td>0.2608</td>\n",
       "      <td>0.525298</td>\n",
       "      <td>103</td>\n",
       "    </tr>\n",
       "    <tr>\n",
       "      <th>75278</th>\n",
       "      <td>1005604</td>\n",
       "      <td>P00059942</td>\n",
       "      <td>M</td>\n",
       "      <td>36-45</td>\n",
       "      <td>15</td>\n",
       "      <td>C</td>\n",
       "      <td>3</td>\n",
       "      <td>0</td>\n",
       "      <td>8</td>\n",
       "      <td>14</td>\n",
       "      <td>-1</td>\n",
       "      <td>2</td>\n",
       "      <td>0.019034</td>\n",
       "      <td>0.122616</td>\n",
       "      <td>0.167389</td>\n",
       "      <td>0.7569</td>\n",
       "      <td>0.2431</td>\n",
       "      <td>0.494281</td>\n",
       "      <td>90</td>\n",
       "    </tr>\n",
       "    <tr>\n",
       "      <th>525591</th>\n",
       "      <td>1003011</td>\n",
       "      <td>P00058442</td>\n",
       "      <td>M</td>\n",
       "      <td>26-35</td>\n",
       "      <td>1</td>\n",
       "      <td>B</td>\n",
       "      <td>1</td>\n",
       "      <td>0</td>\n",
       "      <td>5</td>\n",
       "      <td>14</td>\n",
       "      <td>-1</td>\n",
       "      <td>2</td>\n",
       "      <td>0.284773</td>\n",
       "      <td>0.054496</td>\n",
       "      <td>0.652652</td>\n",
       "      <td>0.7713</td>\n",
       "      <td>0.2287</td>\n",
       "      <td>1.000000</td>\n",
       "      <td>40</td>\n",
       "    </tr>\n",
       "  </tbody>\n",
       "</table>\n",
       "</div>"
      ],
      "text/plain": [
       "        User_ID Product_ID Gender    Age  Occupation City_Category  \\\n",
       "532017  1003916  P00057642      M  26-35           4             A   \n",
       "153907  1005788  P00223542      M  26-35           0             A   \n",
       "162868  1001179  P00100642      M  51-55           1             B   \n",
       "75278   1005604  P00059942      M  36-45          15             C   \n",
       "525591  1003011  P00058442      M  26-35           1             B   \n",
       "\n",
       "       Stay_In_Current_City_Years  Marital_Status  Product_Category_1  \\\n",
       "532017                          2               1                   1   \n",
       "153907                         4+               0                   1   \n",
       "162868                          2               1                   5   \n",
       "75278                           3               0                   8   \n",
       "525591                          1               0                   5   \n",
       "\n",
       "        Product_Category_2  Product_Category_3  Total_category  \\\n",
       "532017                  15                  16               3   \n",
       "153907                   8                  17               3   \n",
       "162868                  15                  -1               2   \n",
       "75278                   14                  -1               2   \n",
       "525591                  14                  -1               2   \n",
       "\n",
       "        Product_popularity_Score  User_popularity_Score  Ocupation_Score  \\\n",
       "532017                  0.756223               0.267030         1.000000   \n",
       "153907                  0.232064               0.446866         0.955926   \n",
       "162868                  0.224012               0.140327         0.652652   \n",
       "75278                   0.019034               0.122616         0.167389   \n",
       "525591                  0.284773               0.054496         0.652652   \n",
       "\n",
       "        Male_ratio  Female_ratio  Population_Duration  \\\n",
       "532017      0.7713        0.2287             0.525298   \n",
       "153907      0.7713        0.2287             0.440367   \n",
       "162868      0.7392        0.2608             0.525298   \n",
       "75278       0.7569        0.2431             0.494281   \n",
       "525591      0.7713        0.2287             1.000000   \n",
       "\n",
       "        Cat1_Popularity_per_User  \n",
       "532017                       196  \n",
       "153907                       328  \n",
       "162868                       103  \n",
       "75278                         90  \n",
       "525591                        40  "
      ]
     },
     "execution_count": 197,
     "metadata": {},
     "output_type": "execute_result"
    }
   ],
   "source": [
    "X_train_ = Cat1_Popularity_User(X_train_)\n",
    "X_train_.head()"
   ]
  },
  {
   "cell_type": "markdown",
   "metadata": {},
   "source": [
    "### 4.2.8 Feature name: Category1_Group\n",
    "\n",
    "#### Objective\n",
    "* In the category1 there are masked category 5,1,8 which are mostly purchased and famous among people. I have grouped the Product category1 into three sub categories based on the products sold.\n",
    "\n",
    "* It will help in stock prediction for future sales."
   ]
  },
  {
   "cell_type": "code",
   "execution_count": 198,
   "metadata": {},
   "outputs": [
    {
     "data": {
      "text/plain": [
       "5     105466\n",
       "1      98286\n",
       "8      79941\n",
       "11     17017\n",
       "2      16753\n",
       "6      14337\n",
       "3      14080\n",
       "4       8249\n",
       "16      6813\n",
       "15      4423\n",
       "13      3910\n",
       "10      3551\n",
       "12      2745\n",
       "7       2590\n",
       "18      2200\n",
       "20      1805\n",
       "19      1101\n",
       "14      1088\n",
       "17       400\n",
       "9        292\n",
       "Name: Product_Category_1, dtype: int64"
      ]
     },
     "execution_count": 198,
     "metadata": {},
     "output_type": "execute_result"
    }
   ],
   "source": [
    "X_train_['Product_Category_1'].value_counts()"
   ]
  },
  {
   "cell_type": "code",
   "execution_count": 199,
   "metadata": {},
   "outputs": [],
   "source": [
    "def category1_bucket(data):\n",
    "    conditions = [\n",
    "    (data['Product_Category_1'] == 15) | (data['Product_Category_1'] == 16) | (data['Product_Category_1'] == 4) | (data['Product_Category_1'] == 6) | (data['Product_Category_1'] == 3) | (data['Product_Category_1'] == 2) | (data['Product_Category_1'] == 11),\n",
    "    (data['Product_Category_1'] == 8) | (data['Product_Category_1'] == 1) | (data['Product_Category_1'] == 5)]\n",
    "    choices = [1,2]\n",
    "    data['Category1_Group'] = np.select(conditions, choices, default=0)\n",
    "    return data\n",
    "\n",
    "X_train_ = category1_bucket(X_train_)"
   ]
  },
  {
   "cell_type": "code",
   "execution_count": 200,
   "metadata": {},
   "outputs": [
    {
     "data": {
      "text/html": [
       "<div>\n",
       "<style scoped>\n",
       "    .dataframe tbody tr th:only-of-type {\n",
       "        vertical-align: middle;\n",
       "    }\n",
       "\n",
       "    .dataframe tbody tr th {\n",
       "        vertical-align: top;\n",
       "    }\n",
       "\n",
       "    .dataframe thead th {\n",
       "        text-align: right;\n",
       "    }\n",
       "</style>\n",
       "<table border=\"1\" class=\"dataframe\">\n",
       "  <thead>\n",
       "    <tr style=\"text-align: right;\">\n",
       "      <th></th>\n",
       "      <th>User_ID</th>\n",
       "      <th>Product_ID</th>\n",
       "      <th>Gender</th>\n",
       "      <th>Age</th>\n",
       "      <th>Occupation</th>\n",
       "      <th>City_Category</th>\n",
       "      <th>Stay_In_Current_City_Years</th>\n",
       "      <th>Marital_Status</th>\n",
       "      <th>Product_Category_1</th>\n",
       "      <th>Product_Category_2</th>\n",
       "      <th>Product_Category_3</th>\n",
       "      <th>Total_category</th>\n",
       "      <th>Product_popularity_Score</th>\n",
       "      <th>User_popularity_Score</th>\n",
       "      <th>Ocupation_Score</th>\n",
       "      <th>Male_ratio</th>\n",
       "      <th>Female_ratio</th>\n",
       "      <th>Population_Duration</th>\n",
       "      <th>Cat1_Popularity_per_User</th>\n",
       "      <th>Category1_Group</th>\n",
       "    </tr>\n",
       "  </thead>\n",
       "  <tbody>\n",
       "    <tr>\n",
       "      <th>532017</th>\n",
       "      <td>1003916</td>\n",
       "      <td>P00057642</td>\n",
       "      <td>M</td>\n",
       "      <td>26-35</td>\n",
       "      <td>4</td>\n",
       "      <td>A</td>\n",
       "      <td>2</td>\n",
       "      <td>1</td>\n",
       "      <td>1</td>\n",
       "      <td>15</td>\n",
       "      <td>16</td>\n",
       "      <td>3</td>\n",
       "      <td>0.756223</td>\n",
       "      <td>0.267030</td>\n",
       "      <td>1.000000</td>\n",
       "      <td>0.7713</td>\n",
       "      <td>0.2287</td>\n",
       "      <td>0.525298</td>\n",
       "      <td>196</td>\n",
       "      <td>2</td>\n",
       "    </tr>\n",
       "    <tr>\n",
       "      <th>153907</th>\n",
       "      <td>1005788</td>\n",
       "      <td>P00223542</td>\n",
       "      <td>M</td>\n",
       "      <td>26-35</td>\n",
       "      <td>0</td>\n",
       "      <td>A</td>\n",
       "      <td>4+</td>\n",
       "      <td>0</td>\n",
       "      <td>1</td>\n",
       "      <td>8</td>\n",
       "      <td>17</td>\n",
       "      <td>3</td>\n",
       "      <td>0.232064</td>\n",
       "      <td>0.446866</td>\n",
       "      <td>0.955926</td>\n",
       "      <td>0.7713</td>\n",
       "      <td>0.2287</td>\n",
       "      <td>0.440367</td>\n",
       "      <td>328</td>\n",
       "      <td>2</td>\n",
       "    </tr>\n",
       "    <tr>\n",
       "      <th>162868</th>\n",
       "      <td>1001179</td>\n",
       "      <td>P00100642</td>\n",
       "      <td>M</td>\n",
       "      <td>51-55</td>\n",
       "      <td>1</td>\n",
       "      <td>B</td>\n",
       "      <td>2</td>\n",
       "      <td>1</td>\n",
       "      <td>5</td>\n",
       "      <td>15</td>\n",
       "      <td>-1</td>\n",
       "      <td>2</td>\n",
       "      <td>0.224012</td>\n",
       "      <td>0.140327</td>\n",
       "      <td>0.652652</td>\n",
       "      <td>0.7392</td>\n",
       "      <td>0.2608</td>\n",
       "      <td>0.525298</td>\n",
       "      <td>103</td>\n",
       "      <td>2</td>\n",
       "    </tr>\n",
       "    <tr>\n",
       "      <th>75278</th>\n",
       "      <td>1005604</td>\n",
       "      <td>P00059942</td>\n",
       "      <td>M</td>\n",
       "      <td>36-45</td>\n",
       "      <td>15</td>\n",
       "      <td>C</td>\n",
       "      <td>3</td>\n",
       "      <td>0</td>\n",
       "      <td>8</td>\n",
       "      <td>14</td>\n",
       "      <td>-1</td>\n",
       "      <td>2</td>\n",
       "      <td>0.019034</td>\n",
       "      <td>0.122616</td>\n",
       "      <td>0.167389</td>\n",
       "      <td>0.7569</td>\n",
       "      <td>0.2431</td>\n",
       "      <td>0.494281</td>\n",
       "      <td>90</td>\n",
       "      <td>2</td>\n",
       "    </tr>\n",
       "    <tr>\n",
       "      <th>525591</th>\n",
       "      <td>1003011</td>\n",
       "      <td>P00058442</td>\n",
       "      <td>M</td>\n",
       "      <td>26-35</td>\n",
       "      <td>1</td>\n",
       "      <td>B</td>\n",
       "      <td>1</td>\n",
       "      <td>0</td>\n",
       "      <td>5</td>\n",
       "      <td>14</td>\n",
       "      <td>-1</td>\n",
       "      <td>2</td>\n",
       "      <td>0.284773</td>\n",
       "      <td>0.054496</td>\n",
       "      <td>0.652652</td>\n",
       "      <td>0.7713</td>\n",
       "      <td>0.2287</td>\n",
       "      <td>1.000000</td>\n",
       "      <td>40</td>\n",
       "      <td>2</td>\n",
       "    </tr>\n",
       "  </tbody>\n",
       "</table>\n",
       "</div>"
      ],
      "text/plain": [
       "        User_ID Product_ID Gender    Age  Occupation City_Category  \\\n",
       "532017  1003916  P00057642      M  26-35           4             A   \n",
       "153907  1005788  P00223542      M  26-35           0             A   \n",
       "162868  1001179  P00100642      M  51-55           1             B   \n",
       "75278   1005604  P00059942      M  36-45          15             C   \n",
       "525591  1003011  P00058442      M  26-35           1             B   \n",
       "\n",
       "       Stay_In_Current_City_Years  Marital_Status  Product_Category_1  \\\n",
       "532017                          2               1                   1   \n",
       "153907                         4+               0                   1   \n",
       "162868                          2               1                   5   \n",
       "75278                           3               0                   8   \n",
       "525591                          1               0                   5   \n",
       "\n",
       "        Product_Category_2  Product_Category_3  Total_category  \\\n",
       "532017                  15                  16               3   \n",
       "153907                   8                  17               3   \n",
       "162868                  15                  -1               2   \n",
       "75278                   14                  -1               2   \n",
       "525591                  14                  -1               2   \n",
       "\n",
       "        Product_popularity_Score  User_popularity_Score  Ocupation_Score  \\\n",
       "532017                  0.756223               0.267030         1.000000   \n",
       "153907                  0.232064               0.446866         0.955926   \n",
       "162868                  0.224012               0.140327         0.652652   \n",
       "75278                   0.019034               0.122616         0.167389   \n",
       "525591                  0.284773               0.054496         0.652652   \n",
       "\n",
       "        Male_ratio  Female_ratio  Population_Duration  \\\n",
       "532017      0.7713        0.2287             0.525298   \n",
       "153907      0.7713        0.2287             0.440367   \n",
       "162868      0.7392        0.2608             0.525298   \n",
       "75278       0.7569        0.2431             0.494281   \n",
       "525591      0.7713        0.2287             1.000000   \n",
       "\n",
       "        Cat1_Popularity_per_User  Category1_Group  \n",
       "532017                       196                2  \n",
       "153907                       328                2  \n",
       "162868                       103                2  \n",
       "75278                         90                2  \n",
       "525591                        40                2  "
      ]
     },
     "execution_count": 200,
     "metadata": {},
     "output_type": "execute_result"
    }
   ],
   "source": [
    "X_train_.head()"
   ]
  },
  {
   "cell_type": "markdown",
   "metadata": {},
   "source": [
    "-----------------------------------------------------------------------------------------------------------------------------"
   ]
  },
  {
   "cell_type": "markdown",
   "metadata": {},
   "source": [
    "## 4.2 Encoding of the categorical Columns"
   ]
  },
  {
   "cell_type": "code",
   "execution_count": 201,
   "metadata": {},
   "outputs": [
    {
     "name": "stdout",
     "output_type": "stream",
     "text": [
      "Product_ID\n",
      "Gender\n",
      "Age\n",
      "City_Category\n",
      "Stay_In_Current_City_Years\n"
     ]
    }
   ],
   "source": [
    "#Finding the Categorical Columns\n",
    "for cols in list(X_train_.columns):\n",
    "    if X_train_[cols].dtype == 'O':\n",
    "        print(cols)"
   ]
  },
  {
   "cell_type": "markdown",
   "metadata": {},
   "source": [
    "As you can see there are total 5 categorical Columns. To fit into the model we need to encode these features."
   ]
  },
  {
   "cell_type": "markdown",
   "metadata": {},
   "source": [
    "### 4.2.1 Encoding Methodology of the Gender Column\n",
    "\n",
    "#### Label Encoding\n",
    "* Objective:  As from the  graph it is visible that there are two types of Gender Female and Male.In this Case label Encoding will be a efficient way as the dimension will not increase as well as the feature type will be sustained."
   ]
  },
  {
   "cell_type": "code",
   "execution_count": 202,
   "metadata": {},
   "outputs": [
    {
     "data": {
      "image/png": "[encoded data removed]",
      "text/plain": [
       "<Figure size 432x288 with 1 Axes>"
      ]
     },
     "metadata": {},
     "output_type": "display_data"
    }
   ],
   "source": [
    "sns.countplot('Gender',data=X_train_)\n",
    "plt.show()"
   ]
  },
  {
   "cell_type": "code",
   "execution_count": 203,
   "metadata": {},
   "outputs": [],
   "source": [
    "def GenderEncoding(dataset):\n",
    "    dataset['Gender'] = dataset['Gender'].map( {'F': 1, 'M': 0} ).astype(int)\n",
    "    return dataset"
   ]
  },
  {
   "cell_type": "code",
   "execution_count": 204,
   "metadata": {},
   "outputs": [],
   "source": [
    "X_train_ = GenderEncoding(X_train_)"
   ]
  },
  {
   "cell_type": "code",
   "execution_count": 205,
   "metadata": {},
   "outputs": [
    {
     "data": {
      "text/html": [
       "<div>\n",
       "<style scoped>\n",
       "    .dataframe tbody tr th:only-of-type {\n",
       "        vertical-align: middle;\n",
       "    }\n",
       "\n",
       "    .dataframe tbody tr th {\n",
       "        vertical-align: top;\n",
       "    }\n",
       "\n",
       "    .dataframe thead th {\n",
       "        text-align: right;\n",
       "    }\n",
       "</style>\n",
       "<table border=\"1\" class=\"dataframe\">\n",
       "  <thead>\n",
       "    <tr style=\"text-align: right;\">\n",
       "      <th></th>\n",
       "      <th>User_ID</th>\n",
       "      <th>Product_ID</th>\n",
       "      <th>Gender</th>\n",
       "      <th>Age</th>\n",
       "      <th>Occupation</th>\n",
       "      <th>City_Category</th>\n",
       "      <th>Stay_In_Current_City_Years</th>\n",
       "      <th>Marital_Status</th>\n",
       "      <th>Product_Category_1</th>\n",
       "      <th>Product_Category_2</th>\n",
       "      <th>Product_Category_3</th>\n",
       "      <th>Total_category</th>\n",
       "      <th>Product_popularity_Score</th>\n",
       "      <th>User_popularity_Score</th>\n",
       "      <th>Ocupation_Score</th>\n",
       "      <th>Male_ratio</th>\n",
       "      <th>Female_ratio</th>\n",
       "      <th>Population_Duration</th>\n",
       "      <th>Cat1_Popularity_per_User</th>\n",
       "      <th>Category1_Group</th>\n",
       "    </tr>\n",
       "  </thead>\n",
       "  <tbody>\n",
       "    <tr>\n",
       "      <th>532017</th>\n",
       "      <td>1003916</td>\n",
       "      <td>P00057642</td>\n",
       "      <td>0</td>\n",
       "      <td>26-35</td>\n",
       "      <td>4</td>\n",
       "      <td>A</td>\n",
       "      <td>2</td>\n",
       "      <td>1</td>\n",
       "      <td>1</td>\n",
       "      <td>15</td>\n",
       "      <td>16</td>\n",
       "      <td>3</td>\n",
       "      <td>0.756223</td>\n",
       "      <td>0.267030</td>\n",
       "      <td>1.000000</td>\n",
       "      <td>0.7713</td>\n",
       "      <td>0.2287</td>\n",
       "      <td>0.525298</td>\n",
       "      <td>196</td>\n",
       "      <td>2</td>\n",
       "    </tr>\n",
       "    <tr>\n",
       "      <th>153907</th>\n",
       "      <td>1005788</td>\n",
       "      <td>P00223542</td>\n",
       "      <td>0</td>\n",
       "      <td>26-35</td>\n",
       "      <td>0</td>\n",
       "      <td>A</td>\n",
       "      <td>4+</td>\n",
       "      <td>0</td>\n",
       "      <td>1</td>\n",
       "      <td>8</td>\n",
       "      <td>17</td>\n",
       "      <td>3</td>\n",
       "      <td>0.232064</td>\n",
       "      <td>0.446866</td>\n",
       "      <td>0.955926</td>\n",
       "      <td>0.7713</td>\n",
       "      <td>0.2287</td>\n",
       "      <td>0.440367</td>\n",
       "      <td>328</td>\n",
       "      <td>2</td>\n",
       "    </tr>\n",
       "    <tr>\n",
       "      <th>162868</th>\n",
       "      <td>1001179</td>\n",
       "      <td>P00100642</td>\n",
       "      <td>0</td>\n",
       "      <td>51-55</td>\n",
       "      <td>1</td>\n",
       "      <td>B</td>\n",
       "      <td>2</td>\n",
       "      <td>1</td>\n",
       "      <td>5</td>\n",
       "      <td>15</td>\n",
       "      <td>-1</td>\n",
       "      <td>2</td>\n",
       "      <td>0.224012</td>\n",
       "      <td>0.140327</td>\n",
       "      <td>0.652652</td>\n",
       "      <td>0.7392</td>\n",
       "      <td>0.2608</td>\n",
       "      <td>0.525298</td>\n",
       "      <td>103</td>\n",
       "      <td>2</td>\n",
       "    </tr>\n",
       "    <tr>\n",
       "      <th>75278</th>\n",
       "      <td>1005604</td>\n",
       "      <td>P00059942</td>\n",
       "      <td>0</td>\n",
       "      <td>36-45</td>\n",
       "      <td>15</td>\n",
       "      <td>C</td>\n",
       "      <td>3</td>\n",
       "      <td>0</td>\n",
       "      <td>8</td>\n",
       "      <td>14</td>\n",
       "      <td>-1</td>\n",
       "      <td>2</td>\n",
       "      <td>0.019034</td>\n",
       "      <td>0.122616</td>\n",
       "      <td>0.167389</td>\n",
       "      <td>0.7569</td>\n",
       "      <td>0.2431</td>\n",
       "      <td>0.494281</td>\n",
       "      <td>90</td>\n",
       "      <td>2</td>\n",
       "    </tr>\n",
       "    <tr>\n",
       "      <th>525591</th>\n",
       "      <td>1003011</td>\n",
       "      <td>P00058442</td>\n",
       "      <td>0</td>\n",
       "      <td>26-35</td>\n",
       "      <td>1</td>\n",
       "      <td>B</td>\n",
       "      <td>1</td>\n",
       "      <td>0</td>\n",
       "      <td>5</td>\n",
       "      <td>14</td>\n",
       "      <td>-1</td>\n",
       "      <td>2</td>\n",
       "      <td>0.284773</td>\n",
       "      <td>0.054496</td>\n",
       "      <td>0.652652</td>\n",
       "      <td>0.7713</td>\n",
       "      <td>0.2287</td>\n",
       "      <td>1.000000</td>\n",
       "      <td>40</td>\n",
       "      <td>2</td>\n",
       "    </tr>\n",
       "  </tbody>\n",
       "</table>\n",
       "</div>"
      ],
      "text/plain": [
       "        User_ID Product_ID  Gender    Age  Occupation City_Category  \\\n",
       "532017  1003916  P00057642       0  26-35           4             A   \n",
       "153907  1005788  P00223542       0  26-35           0             A   \n",
       "162868  1001179  P00100642       0  51-55           1             B   \n",
       "75278   1005604  P00059942       0  36-45          15             C   \n",
       "525591  1003011  P00058442       0  26-35           1             B   \n",
       "\n",
       "       Stay_In_Current_City_Years  Marital_Status  Product_Category_1  \\\n",
       "532017                          2               1                   1   \n",
       "153907                         4+               0                   1   \n",
       "162868                          2               1                   5   \n",
       "75278                           3               0                   8   \n",
       "525591                          1               0                   5   \n",
       "\n",
       "        Product_Category_2  Product_Category_3  Total_category  \\\n",
       "532017                  15                  16               3   \n",
       "153907                   8                  17               3   \n",
       "162868                  15                  -1               2   \n",
       "75278                   14                  -1               2   \n",
       "525591                  14                  -1               2   \n",
       "\n",
       "        Product_popularity_Score  User_popularity_Score  Ocupation_Score  \\\n",
       "532017                  0.756223               0.267030         1.000000   \n",
       "153907                  0.232064               0.446866         0.955926   \n",
       "162868                  0.224012               0.140327         0.652652   \n",
       "75278                   0.019034               0.122616         0.167389   \n",
       "525591                  0.284773               0.054496         0.652652   \n",
       "\n",
       "        Male_ratio  Female_ratio  Population_Duration  \\\n",
       "532017      0.7713        0.2287             0.525298   \n",
       "153907      0.7713        0.2287             0.440367   \n",
       "162868      0.7392        0.2608             0.525298   \n",
       "75278       0.7569        0.2431             0.494281   \n",
       "525591      0.7713        0.2287             1.000000   \n",
       "\n",
       "        Cat1_Popularity_per_User  Category1_Group  \n",
       "532017                       196                2  \n",
       "153907                       328                2  \n",
       "162868                       103                2  \n",
       "75278                         90                2  \n",
       "525591                        40                2  "
      ]
     },
     "execution_count": 205,
     "metadata": {},
     "output_type": "execute_result"
    }
   ],
   "source": [
    "X_train_.head()"
   ]
  },
  {
   "cell_type": "markdown",
   "metadata": {},
   "source": [
    "### 4.2.2 Encoding Methodology of the Age Column\n",
    "\n",
    "#### Custom Encoding"
   ]
  },
  {
   "cell_type": "markdown",
   "metadata": {},
   "source": [
    "* Creating custom Encoding based on the most frequnt Age Groups."
   ]
  },
  {
   "cell_type": "markdown",
   "metadata": {},
   "source": [
    "#### Objective:\n",
    "* My strategy is to encode the Age columns with the average or mean of the Ages. I think it will be effective than label encoding as it will hold the standard age distribution.\n",
    "\n",
    "* Taking the ceil value of the Average age.\n"
   ]
  },
  {
   "cell_type": "markdown",
   "metadata": {},
   "source": [
    "\n",
    "* Creating a Mapper function of the Age ranges based on frequency."
   ]
  },
  {
   "cell_type": "code",
   "execution_count": 206,
   "metadata": {},
   "outputs": [],
   "source": [
    "#Age Mapping function\n",
    "def AgeMapping(dataset):\n",
    "    age_mapping = {\"26-35\": 7, \"36-45\": 6, \"18-25\": 5, \"46-50\": 4, \"51-55\": 3,\"55+\": 2, \"0-17\": 1}\n",
    "    dataset['Age'] = dataset['Age'].map(age_mapping)\n",
    "    return dataset\n",
    "        "
   ]
  },
  {
   "cell_type": "code",
   "execution_count": 207,
   "metadata": {},
   "outputs": [],
   "source": [
    "#Mapping the train_data into the age_mapper function\n",
    "X_train_ = AgeMapping(X_train_)"
   ]
  },
  {
   "cell_type": "code",
   "execution_count": 208,
   "metadata": {},
   "outputs": [
    {
     "data": {
      "text/html": [
       "<div>\n",
       "<style scoped>\n",
       "    .dataframe tbody tr th:only-of-type {\n",
       "        vertical-align: middle;\n",
       "    }\n",
       "\n",
       "    .dataframe tbody tr th {\n",
       "        vertical-align: top;\n",
       "    }\n",
       "\n",
       "    .dataframe thead th {\n",
       "        text-align: right;\n",
       "    }\n",
       "</style>\n",
       "<table border=\"1\" class=\"dataframe\">\n",
       "  <thead>\n",
       "    <tr style=\"text-align: right;\">\n",
       "      <th></th>\n",
       "      <th>User_ID</th>\n",
       "      <th>Product_ID</th>\n",
       "      <th>Gender</th>\n",
       "      <th>Age</th>\n",
       "      <th>Occupation</th>\n",
       "      <th>City_Category</th>\n",
       "      <th>Stay_In_Current_City_Years</th>\n",
       "      <th>Marital_Status</th>\n",
       "      <th>Product_Category_1</th>\n",
       "      <th>Product_Category_2</th>\n",
       "      <th>Product_Category_3</th>\n",
       "      <th>Total_category</th>\n",
       "      <th>Product_popularity_Score</th>\n",
       "      <th>User_popularity_Score</th>\n",
       "      <th>Ocupation_Score</th>\n",
       "      <th>Male_ratio</th>\n",
       "      <th>Female_ratio</th>\n",
       "      <th>Population_Duration</th>\n",
       "      <th>Cat1_Popularity_per_User</th>\n",
       "      <th>Category1_Group</th>\n",
       "    </tr>\n",
       "  </thead>\n",
       "  <tbody>\n",
       "    <tr>\n",
       "      <th>532017</th>\n",
       "      <td>1003916</td>\n",
       "      <td>P00057642</td>\n",
       "      <td>0</td>\n",
       "      <td>7</td>\n",
       "      <td>4</td>\n",
       "      <td>A</td>\n",
       "      <td>2</td>\n",
       "      <td>1</td>\n",
       "      <td>1</td>\n",
       "      <td>15</td>\n",
       "      <td>16</td>\n",
       "      <td>3</td>\n",
       "      <td>0.756223</td>\n",
       "      <td>0.267030</td>\n",
       "      <td>1.000000</td>\n",
       "      <td>0.7713</td>\n",
       "      <td>0.2287</td>\n",
       "      <td>0.525298</td>\n",
       "      <td>196</td>\n",
       "      <td>2</td>\n",
       "    </tr>\n",
       "    <tr>\n",
       "      <th>153907</th>\n",
       "      <td>1005788</td>\n",
       "      <td>P00223542</td>\n",
       "      <td>0</td>\n",
       "      <td>7</td>\n",
       "      <td>0</td>\n",
       "      <td>A</td>\n",
       "      <td>4+</td>\n",
       "      <td>0</td>\n",
       "      <td>1</td>\n",
       "      <td>8</td>\n",
       "      <td>17</td>\n",
       "      <td>3</td>\n",
       "      <td>0.232064</td>\n",
       "      <td>0.446866</td>\n",
       "      <td>0.955926</td>\n",
       "      <td>0.7713</td>\n",
       "      <td>0.2287</td>\n",
       "      <td>0.440367</td>\n",
       "      <td>328</td>\n",
       "      <td>2</td>\n",
       "    </tr>\n",
       "    <tr>\n",
       "      <th>162868</th>\n",
       "      <td>1001179</td>\n",
       "      <td>P00100642</td>\n",
       "      <td>0</td>\n",
       "      <td>3</td>\n",
       "      <td>1</td>\n",
       "      <td>B</td>\n",
       "      <td>2</td>\n",
       "      <td>1</td>\n",
       "      <td>5</td>\n",
       "      <td>15</td>\n",
       "      <td>-1</td>\n",
       "      <td>2</td>\n",
       "      <td>0.224012</td>\n",
       "      <td>0.140327</td>\n",
       "      <td>0.652652</td>\n",
       "      <td>0.7392</td>\n",
       "      <td>0.2608</td>\n",
       "      <td>0.525298</td>\n",
       "      <td>103</td>\n",
       "      <td>2</td>\n",
       "    </tr>\n",
       "    <tr>\n",
       "      <th>75278</th>\n",
       "      <td>1005604</td>\n",
       "      <td>P00059942</td>\n",
       "      <td>0</td>\n",
       "      <td>6</td>\n",
       "      <td>15</td>\n",
       "      <td>C</td>\n",
       "      <td>3</td>\n",
       "      <td>0</td>\n",
       "      <td>8</td>\n",
       "      <td>14</td>\n",
       "      <td>-1</td>\n",
       "      <td>2</td>\n",
       "      <td>0.019034</td>\n",
       "      <td>0.122616</td>\n",
       "      <td>0.167389</td>\n",
       "      <td>0.7569</td>\n",
       "      <td>0.2431</td>\n",
       "      <td>0.494281</td>\n",
       "      <td>90</td>\n",
       "      <td>2</td>\n",
       "    </tr>\n",
       "    <tr>\n",
       "      <th>525591</th>\n",
       "      <td>1003011</td>\n",
       "      <td>P00058442</td>\n",
       "      <td>0</td>\n",
       "      <td>7</td>\n",
       "      <td>1</td>\n",
       "      <td>B</td>\n",
       "      <td>1</td>\n",
       "      <td>0</td>\n",
       "      <td>5</td>\n",
       "      <td>14</td>\n",
       "      <td>-1</td>\n",
       "      <td>2</td>\n",
       "      <td>0.284773</td>\n",
       "      <td>0.054496</td>\n",
       "      <td>0.652652</td>\n",
       "      <td>0.7713</td>\n",
       "      <td>0.2287</td>\n",
       "      <td>1.000000</td>\n",
       "      <td>40</td>\n",
       "      <td>2</td>\n",
       "    </tr>\n",
       "  </tbody>\n",
       "</table>\n",
       "</div>"
      ],
      "text/plain": [
       "        User_ID Product_ID  Gender  Age  Occupation City_Category  \\\n",
       "532017  1003916  P00057642       0    7           4             A   \n",
       "153907  1005788  P00223542       0    7           0             A   \n",
       "162868  1001179  P00100642       0    3           1             B   \n",
       "75278   1005604  P00059942       0    6          15             C   \n",
       "525591  1003011  P00058442       0    7           1             B   \n",
       "\n",
       "       Stay_In_Current_City_Years  Marital_Status  Product_Category_1  \\\n",
       "532017                          2               1                   1   \n",
       "153907                         4+               0                   1   \n",
       "162868                          2               1                   5   \n",
       "75278                           3               0                   8   \n",
       "525591                          1               0                   5   \n",
       "\n",
       "        Product_Category_2  Product_Category_3  Total_category  \\\n",
       "532017                  15                  16               3   \n",
       "153907                   8                  17               3   \n",
       "162868                  15                  -1               2   \n",
       "75278                   14                  -1               2   \n",
       "525591                  14                  -1               2   \n",
       "\n",
       "        Product_popularity_Score  User_popularity_Score  Ocupation_Score  \\\n",
       "532017                  0.756223               0.267030         1.000000   \n",
       "153907                  0.232064               0.446866         0.955926   \n",
       "162868                  0.224012               0.140327         0.652652   \n",
       "75278                   0.019034               0.122616         0.167389   \n",
       "525591                  0.284773               0.054496         0.652652   \n",
       "\n",
       "        Male_ratio  Female_ratio  Population_Duration  \\\n",
       "532017      0.7713        0.2287             0.525298   \n",
       "153907      0.7713        0.2287             0.440367   \n",
       "162868      0.7392        0.2608             0.525298   \n",
       "75278       0.7569        0.2431             0.494281   \n",
       "525591      0.7713        0.2287             1.000000   \n",
       "\n",
       "        Cat1_Popularity_per_User  Category1_Group  \n",
       "532017                       196                2  \n",
       "153907                       328                2  \n",
       "162868                       103                2  \n",
       "75278                         90                2  \n",
       "525591                        40                2  "
      ]
     },
     "execution_count": 208,
     "metadata": {},
     "output_type": "execute_result"
    }
   ],
   "source": [
    "#Encoded train_data\n",
    "X_train_.head()"
   ]
  },
  {
   "cell_type": "markdown",
   "metadata": {},
   "source": [
    "### 4.2.3 Encoding Methodology of City Category Column"
   ]
  },
  {
   "cell_type": "markdown",
   "metadata": {},
   "source": [
    "#### Objecticve\n",
    "\n",
    "* label encoding: I am using label encoding here as to assign integer label to the city Column. To avoid ordinal ranking and dummy variable trap One-Hot-Encoding is applied.\n",
    "\n",
    "* One Hot encoding is not needed for Tree based Algorithms beacuse it handles categorical variables."
   ]
  },
  {
   "cell_type": "code",
   "execution_count": 209,
   "metadata": {},
   "outputs": [],
   "source": [
    "l_encoder = LabelEncoder()\n",
    "\n",
    "def City_Encoding(dataset):\n",
    "    dataset['City_Category']=l_encoder.fit_transform(dataset['City_Category'])\n",
    "    #temp1 = pd.get_dummies(dataset['City_Category'], prefix = 'City_category',drop_first=True)\n",
    "    #dataset = pd.concat([dataset, temp1], axis = 1)\n",
    "    #dataset = dataset.drop(['City_Category'], axis = 1)\n",
    "    return dataset\n",
    "    "
   ]
  },
  {
   "cell_type": "code",
   "execution_count": 210,
   "metadata": {},
   "outputs": [],
   "source": [
    "X_train_ = City_Encoding(X_train_)\n"
   ]
  },
  {
   "cell_type": "code",
   "execution_count": 211,
   "metadata": {},
   "outputs": [
    {
     "data": {
      "text/html": [
       "<div>\n",
       "<style scoped>\n",
       "    .dataframe tbody tr th:only-of-type {\n",
       "        vertical-align: middle;\n",
       "    }\n",
       "\n",
       "    .dataframe tbody tr th {\n",
       "        vertical-align: top;\n",
       "    }\n",
       "\n",
       "    .dataframe thead th {\n",
       "        text-align: right;\n",
       "    }\n",
       "</style>\n",
       "<table border=\"1\" class=\"dataframe\">\n",
       "  <thead>\n",
       "    <tr style=\"text-align: right;\">\n",
       "      <th></th>\n",
       "      <th>User_ID</th>\n",
       "      <th>Product_ID</th>\n",
       "      <th>Gender</th>\n",
       "      <th>Age</th>\n",
       "      <th>Occupation</th>\n",
       "      <th>City_Category</th>\n",
       "      <th>Stay_In_Current_City_Years</th>\n",
       "      <th>Marital_Status</th>\n",
       "      <th>Product_Category_1</th>\n",
       "      <th>Product_Category_2</th>\n",
       "      <th>Product_Category_3</th>\n",
       "      <th>Total_category</th>\n",
       "      <th>Product_popularity_Score</th>\n",
       "      <th>User_popularity_Score</th>\n",
       "      <th>Ocupation_Score</th>\n",
       "      <th>Male_ratio</th>\n",
       "      <th>Female_ratio</th>\n",
       "      <th>Population_Duration</th>\n",
       "      <th>Cat1_Popularity_per_User</th>\n",
       "      <th>Category1_Group</th>\n",
       "    </tr>\n",
       "  </thead>\n",
       "  <tbody>\n",
       "    <tr>\n",
       "      <th>532017</th>\n",
       "      <td>1003916</td>\n",
       "      <td>P00057642</td>\n",
       "      <td>0</td>\n",
       "      <td>7</td>\n",
       "      <td>4</td>\n",
       "      <td>0</td>\n",
       "      <td>2</td>\n",
       "      <td>1</td>\n",
       "      <td>1</td>\n",
       "      <td>15</td>\n",
       "      <td>16</td>\n",
       "      <td>3</td>\n",
       "      <td>0.756223</td>\n",
       "      <td>0.267030</td>\n",
       "      <td>1.000000</td>\n",
       "      <td>0.7713</td>\n",
       "      <td>0.2287</td>\n",
       "      <td>0.525298</td>\n",
       "      <td>196</td>\n",
       "      <td>2</td>\n",
       "    </tr>\n",
       "    <tr>\n",
       "      <th>153907</th>\n",
       "      <td>1005788</td>\n",
       "      <td>P00223542</td>\n",
       "      <td>0</td>\n",
       "      <td>7</td>\n",
       "      <td>0</td>\n",
       "      <td>0</td>\n",
       "      <td>4+</td>\n",
       "      <td>0</td>\n",
       "      <td>1</td>\n",
       "      <td>8</td>\n",
       "      <td>17</td>\n",
       "      <td>3</td>\n",
       "      <td>0.232064</td>\n",
       "      <td>0.446866</td>\n",
       "      <td>0.955926</td>\n",
       "      <td>0.7713</td>\n",
       "      <td>0.2287</td>\n",
       "      <td>0.440367</td>\n",
       "      <td>328</td>\n",
       "      <td>2</td>\n",
       "    </tr>\n",
       "    <tr>\n",
       "      <th>162868</th>\n",
       "      <td>1001179</td>\n",
       "      <td>P00100642</td>\n",
       "      <td>0</td>\n",
       "      <td>3</td>\n",
       "      <td>1</td>\n",
       "      <td>1</td>\n",
       "      <td>2</td>\n",
       "      <td>1</td>\n",
       "      <td>5</td>\n",
       "      <td>15</td>\n",
       "      <td>-1</td>\n",
       "      <td>2</td>\n",
       "      <td>0.224012</td>\n",
       "      <td>0.140327</td>\n",
       "      <td>0.652652</td>\n",
       "      <td>0.7392</td>\n",
       "      <td>0.2608</td>\n",
       "      <td>0.525298</td>\n",
       "      <td>103</td>\n",
       "      <td>2</td>\n",
       "    </tr>\n",
       "    <tr>\n",
       "      <th>75278</th>\n",
       "      <td>1005604</td>\n",
       "      <td>P00059942</td>\n",
       "      <td>0</td>\n",
       "      <td>6</td>\n",
       "      <td>15</td>\n",
       "      <td>2</td>\n",
       "      <td>3</td>\n",
       "      <td>0</td>\n",
       "      <td>8</td>\n",
       "      <td>14</td>\n",
       "      <td>-1</td>\n",
       "      <td>2</td>\n",
       "      <td>0.019034</td>\n",
       "      <td>0.122616</td>\n",
       "      <td>0.167389</td>\n",
       "      <td>0.7569</td>\n",
       "      <td>0.2431</td>\n",
       "      <td>0.494281</td>\n",
       "      <td>90</td>\n",
       "      <td>2</td>\n",
       "    </tr>\n",
       "    <tr>\n",
       "      <th>525591</th>\n",
       "      <td>1003011</td>\n",
       "      <td>P00058442</td>\n",
       "      <td>0</td>\n",
       "      <td>7</td>\n",
       "      <td>1</td>\n",
       "      <td>1</td>\n",
       "      <td>1</td>\n",
       "      <td>0</td>\n",
       "      <td>5</td>\n",
       "      <td>14</td>\n",
       "      <td>-1</td>\n",
       "      <td>2</td>\n",
       "      <td>0.284773</td>\n",
       "      <td>0.054496</td>\n",
       "      <td>0.652652</td>\n",
       "      <td>0.7713</td>\n",
       "      <td>0.2287</td>\n",
       "      <td>1.000000</td>\n",
       "      <td>40</td>\n",
       "      <td>2</td>\n",
       "    </tr>\n",
       "  </tbody>\n",
       "</table>\n",
       "</div>"
      ],
      "text/plain": [
       "        User_ID Product_ID  Gender  Age  Occupation  City_Category  \\\n",
       "532017  1003916  P00057642       0    7           4              0   \n",
       "153907  1005788  P00223542       0    7           0              0   \n",
       "162868  1001179  P00100642       0    3           1              1   \n",
       "75278   1005604  P00059942       0    6          15              2   \n",
       "525591  1003011  P00058442       0    7           1              1   \n",
       "\n",
       "       Stay_In_Current_City_Years  Marital_Status  Product_Category_1  \\\n",
       "532017                          2               1                   1   \n",
       "153907                         4+               0                   1   \n",
       "162868                          2               1                   5   \n",
       "75278                           3               0                   8   \n",
       "525591                          1               0                   5   \n",
       "\n",
       "        Product_Category_2  Product_Category_3  Total_category  \\\n",
       "532017                  15                  16               3   \n",
       "153907                   8                  17               3   \n",
       "162868                  15                  -1               2   \n",
       "75278                   14                  -1               2   \n",
       "525591                  14                  -1               2   \n",
       "\n",
       "        Product_popularity_Score  User_popularity_Score  Ocupation_Score  \\\n",
       "532017                  0.756223               0.267030         1.000000   \n",
       "153907                  0.232064               0.446866         0.955926   \n",
       "162868                  0.224012               0.140327         0.652652   \n",
       "75278                   0.019034               0.122616         0.167389   \n",
       "525591                  0.284773               0.054496         0.652652   \n",
       "\n",
       "        Male_ratio  Female_ratio  Population_Duration  \\\n",
       "532017      0.7713        0.2287             0.525298   \n",
       "153907      0.7713        0.2287             0.440367   \n",
       "162868      0.7392        0.2608             0.525298   \n",
       "75278       0.7569        0.2431             0.494281   \n",
       "525591      0.7713        0.2287             1.000000   \n",
       "\n",
       "        Cat1_Popularity_per_User  Category1_Group  \n",
       "532017                       196                2  \n",
       "153907                       328                2  \n",
       "162868                       103                2  \n",
       "75278                         90                2  \n",
       "525591                        40                2  "
      ]
     },
     "execution_count": 211,
     "metadata": {},
     "output_type": "execute_result"
    }
   ],
   "source": [
    "X_train_.head()"
   ]
  },
  {
   "cell_type": "markdown",
   "metadata": {},
   "source": [
    "### 4.2.4 Encoding Methodology of Stay_In_Current_City_Years Category"
   ]
  },
  {
   "cell_type": "markdown",
   "metadata": {},
   "source": [
    "#### Custom Encoding\n",
    "\n",
    "* We will encode the Duration based on the trend stated above"
   ]
  },
  {
   "cell_type": "markdown",
   "metadata": {},
   "source": [
    "#### Objective:\n",
    "\n",
    "* We can replace the stay suration by its Integer representation suggests the duration in years."
   ]
  },
  {
   "cell_type": "code",
   "execution_count": 212,
   "metadata": {},
   "outputs": [],
   "source": [
    "def YearsMapping(dataset):\n",
    "    age_mapping = {\"1\":5 , \"2\": 4, \"3\": 3, \"4+\": 2, \"0\": 1}\n",
    "    dataset['Stay_In_Current_City_Years'] = dataset['Stay_In_Current_City_Years'].map(age_mapping)\n",
    "    return dataset"
   ]
  },
  {
   "cell_type": "code",
   "execution_count": 213,
   "metadata": {},
   "outputs": [
    {
     "data": {
      "text/html": [
       "<div>\n",
       "<style scoped>\n",
       "    .dataframe tbody tr th:only-of-type {\n",
       "        vertical-align: middle;\n",
       "    }\n",
       "\n",
       "    .dataframe tbody tr th {\n",
       "        vertical-align: top;\n",
       "    }\n",
       "\n",
       "    .dataframe thead th {\n",
       "        text-align: right;\n",
       "    }\n",
       "</style>\n",
       "<table border=\"1\" class=\"dataframe\">\n",
       "  <thead>\n",
       "    <tr style=\"text-align: right;\">\n",
       "      <th></th>\n",
       "      <th>User_ID</th>\n",
       "      <th>Product_ID</th>\n",
       "      <th>Gender</th>\n",
       "      <th>Age</th>\n",
       "      <th>Occupation</th>\n",
       "      <th>City_Category</th>\n",
       "      <th>Stay_In_Current_City_Years</th>\n",
       "      <th>Marital_Status</th>\n",
       "      <th>Product_Category_1</th>\n",
       "      <th>Product_Category_2</th>\n",
       "      <th>Product_Category_3</th>\n",
       "      <th>Total_category</th>\n",
       "      <th>Product_popularity_Score</th>\n",
       "      <th>User_popularity_Score</th>\n",
       "      <th>Ocupation_Score</th>\n",
       "      <th>Male_ratio</th>\n",
       "      <th>Female_ratio</th>\n",
       "      <th>Population_Duration</th>\n",
       "      <th>Cat1_Popularity_per_User</th>\n",
       "      <th>Category1_Group</th>\n",
       "    </tr>\n",
       "  </thead>\n",
       "  <tbody>\n",
       "    <tr>\n",
       "      <th>532017</th>\n",
       "      <td>1003916</td>\n",
       "      <td>P00057642</td>\n",
       "      <td>0</td>\n",
       "      <td>7</td>\n",
       "      <td>4</td>\n",
       "      <td>0</td>\n",
       "      <td>4</td>\n",
       "      <td>1</td>\n",
       "      <td>1</td>\n",
       "      <td>15</td>\n",
       "      <td>16</td>\n",
       "      <td>3</td>\n",
       "      <td>0.756223</td>\n",
       "      <td>0.267030</td>\n",
       "      <td>1.000000</td>\n",
       "      <td>0.7713</td>\n",
       "      <td>0.2287</td>\n",
       "      <td>0.525298</td>\n",
       "      <td>196</td>\n",
       "      <td>2</td>\n",
       "    </tr>\n",
       "    <tr>\n",
       "      <th>153907</th>\n",
       "      <td>1005788</td>\n",
       "      <td>P00223542</td>\n",
       "      <td>0</td>\n",
       "      <td>7</td>\n",
       "      <td>0</td>\n",
       "      <td>0</td>\n",
       "      <td>2</td>\n",
       "      <td>0</td>\n",
       "      <td>1</td>\n",
       "      <td>8</td>\n",
       "      <td>17</td>\n",
       "      <td>3</td>\n",
       "      <td>0.232064</td>\n",
       "      <td>0.446866</td>\n",
       "      <td>0.955926</td>\n",
       "      <td>0.7713</td>\n",
       "      <td>0.2287</td>\n",
       "      <td>0.440367</td>\n",
       "      <td>328</td>\n",
       "      <td>2</td>\n",
       "    </tr>\n",
       "    <tr>\n",
       "      <th>162868</th>\n",
       "      <td>1001179</td>\n",
       "      <td>P00100642</td>\n",
       "      <td>0</td>\n",
       "      <td>3</td>\n",
       "      <td>1</td>\n",
       "      <td>1</td>\n",
       "      <td>4</td>\n",
       "      <td>1</td>\n",
       "      <td>5</td>\n",
       "      <td>15</td>\n",
       "      <td>-1</td>\n",
       "      <td>2</td>\n",
       "      <td>0.224012</td>\n",
       "      <td>0.140327</td>\n",
       "      <td>0.652652</td>\n",
       "      <td>0.7392</td>\n",
       "      <td>0.2608</td>\n",
       "      <td>0.525298</td>\n",
       "      <td>103</td>\n",
       "      <td>2</td>\n",
       "    </tr>\n",
       "    <tr>\n",
       "      <th>75278</th>\n",
       "      <td>1005604</td>\n",
       "      <td>P00059942</td>\n",
       "      <td>0</td>\n",
       "      <td>6</td>\n",
       "      <td>15</td>\n",
       "      <td>2</td>\n",
       "      <td>3</td>\n",
       "      <td>0</td>\n",
       "      <td>8</td>\n",
       "      <td>14</td>\n",
       "      <td>-1</td>\n",
       "      <td>2</td>\n",
       "      <td>0.019034</td>\n",
       "      <td>0.122616</td>\n",
       "      <td>0.167389</td>\n",
       "      <td>0.7569</td>\n",
       "      <td>0.2431</td>\n",
       "      <td>0.494281</td>\n",
       "      <td>90</td>\n",
       "      <td>2</td>\n",
       "    </tr>\n",
       "    <tr>\n",
       "      <th>525591</th>\n",
       "      <td>1003011</td>\n",
       "      <td>P00058442</td>\n",
       "      <td>0</td>\n",
       "      <td>7</td>\n",
       "      <td>1</td>\n",
       "      <td>1</td>\n",
       "      <td>5</td>\n",
       "      <td>0</td>\n",
       "      <td>5</td>\n",
       "      <td>14</td>\n",
       "      <td>-1</td>\n",
       "      <td>2</td>\n",
       "      <td>0.284773</td>\n",
       "      <td>0.054496</td>\n",
       "      <td>0.652652</td>\n",
       "      <td>0.7713</td>\n",
       "      <td>0.2287</td>\n",
       "      <td>1.000000</td>\n",
       "      <td>40</td>\n",
       "      <td>2</td>\n",
       "    </tr>\n",
       "  </tbody>\n",
       "</table>\n",
       "</div>"
      ],
      "text/plain": [
       "        User_ID Product_ID  Gender  Age  Occupation  City_Category  \\\n",
       "532017  1003916  P00057642       0    7           4              0   \n",
       "153907  1005788  P00223542       0    7           0              0   \n",
       "162868  1001179  P00100642       0    3           1              1   \n",
       "75278   1005604  P00059942       0    6          15              2   \n",
       "525591  1003011  P00058442       0    7           1              1   \n",
       "\n",
       "        Stay_In_Current_City_Years  Marital_Status  Product_Category_1  \\\n",
       "532017                           4               1                   1   \n",
       "153907                           2               0                   1   \n",
       "162868                           4               1                   5   \n",
       "75278                            3               0                   8   \n",
       "525591                           5               0                   5   \n",
       "\n",
       "        Product_Category_2  Product_Category_3  Total_category  \\\n",
       "532017                  15                  16               3   \n",
       "153907                   8                  17               3   \n",
       "162868                  15                  -1               2   \n",
       "75278                   14                  -1               2   \n",
       "525591                  14                  -1               2   \n",
       "\n",
       "        Product_popularity_Score  User_popularity_Score  Ocupation_Score  \\\n",
       "532017                  0.756223               0.267030         1.000000   \n",
       "153907                  0.232064               0.446866         0.955926   \n",
       "162868                  0.224012               0.140327         0.652652   \n",
       "75278                   0.019034               0.122616         0.167389   \n",
       "525591                  0.284773               0.054496         0.652652   \n",
       "\n",
       "        Male_ratio  Female_ratio  Population_Duration  \\\n",
       "532017      0.7713        0.2287             0.525298   \n",
       "153907      0.7713        0.2287             0.440367   \n",
       "162868      0.7392        0.2608             0.525298   \n",
       "75278       0.7569        0.2431             0.494281   \n",
       "525591      0.7713        0.2287             1.000000   \n",
       "\n",
       "        Cat1_Popularity_per_User  Category1_Group  \n",
       "532017                       196                2  \n",
       "153907                       328                2  \n",
       "162868                       103                2  \n",
       "75278                         90                2  \n",
       "525591                        40                2  "
      ]
     },
     "execution_count": 213,
     "metadata": {},
     "output_type": "execute_result"
    }
   ],
   "source": [
    "X_train_ = YearsMapping(X_train_)\n",
    "X_train_.head()"
   ]
  },
  {
   "cell_type": "markdown",
   "metadata": {},
   "source": [
    "--------------------------------------------------------------------------------------------------------------------------"
   ]
  },
  {
   "cell_type": "code",
   "execution_count": 214,
   "metadata": {},
   "outputs": [],
   "source": [
    "#Dropping the User Id and ProductId as these are not relevant to the target variable.\n",
    "def dropID(dataset):\n",
    "    dataset = dataset.drop(['User_ID','Product_ID'],axis=1)\n",
    "    return dataset"
   ]
  },
  {
   "cell_type": "code",
   "execution_count": 215,
   "metadata": {},
   "outputs": [],
   "source": [
    "X_train_ = dropID(X_train_)"
   ]
  },
  {
   "cell_type": "code",
   "execution_count": 216,
   "metadata": {},
   "outputs": [
    {
     "data": {
      "text/html": [
       "<div>\n",
       "<style scoped>\n",
       "    .dataframe tbody tr th:only-of-type {\n",
       "        vertical-align: middle;\n",
       "    }\n",
       "\n",
       "    .dataframe tbody tr th {\n",
       "        vertical-align: top;\n",
       "    }\n",
       "\n",
       "    .dataframe thead th {\n",
       "        text-align: right;\n",
       "    }\n",
       "</style>\n",
       "<table border=\"1\" class=\"dataframe\">\n",
       "  <thead>\n",
       "    <tr style=\"text-align: right;\">\n",
       "      <th></th>\n",
       "      <th>Gender</th>\n",
       "      <th>Age</th>\n",
       "      <th>Occupation</th>\n",
       "      <th>City_Category</th>\n",
       "      <th>Stay_In_Current_City_Years</th>\n",
       "      <th>Marital_Status</th>\n",
       "      <th>Product_Category_1</th>\n",
       "      <th>Product_Category_2</th>\n",
       "      <th>Product_Category_3</th>\n",
       "      <th>Total_category</th>\n",
       "      <th>Product_popularity_Score</th>\n",
       "      <th>User_popularity_Score</th>\n",
       "      <th>Ocupation_Score</th>\n",
       "      <th>Male_ratio</th>\n",
       "      <th>Female_ratio</th>\n",
       "      <th>Population_Duration</th>\n",
       "      <th>Cat1_Popularity_per_User</th>\n",
       "      <th>Category1_Group</th>\n",
       "    </tr>\n",
       "  </thead>\n",
       "  <tbody>\n",
       "    <tr>\n",
       "      <th>532017</th>\n",
       "      <td>0</td>\n",
       "      <td>7</td>\n",
       "      <td>4</td>\n",
       "      <td>0</td>\n",
       "      <td>4</td>\n",
       "      <td>1</td>\n",
       "      <td>1</td>\n",
       "      <td>15</td>\n",
       "      <td>16</td>\n",
       "      <td>3</td>\n",
       "      <td>0.756223</td>\n",
       "      <td>0.267030</td>\n",
       "      <td>1.000000</td>\n",
       "      <td>0.7713</td>\n",
       "      <td>0.2287</td>\n",
       "      <td>0.525298</td>\n",
       "      <td>196</td>\n",
       "      <td>2</td>\n",
       "    </tr>\n",
       "    <tr>\n",
       "      <th>153907</th>\n",
       "      <td>0</td>\n",
       "      <td>7</td>\n",
       "      <td>0</td>\n",
       "      <td>0</td>\n",
       "      <td>2</td>\n",
       "      <td>0</td>\n",
       "      <td>1</td>\n",
       "      <td>8</td>\n",
       "      <td>17</td>\n",
       "      <td>3</td>\n",
       "      <td>0.232064</td>\n",
       "      <td>0.446866</td>\n",
       "      <td>0.955926</td>\n",
       "      <td>0.7713</td>\n",
       "      <td>0.2287</td>\n",
       "      <td>0.440367</td>\n",
       "      <td>328</td>\n",
       "      <td>2</td>\n",
       "    </tr>\n",
       "    <tr>\n",
       "      <th>162868</th>\n",
       "      <td>0</td>\n",
       "      <td>3</td>\n",
       "      <td>1</td>\n",
       "      <td>1</td>\n",
       "      <td>4</td>\n",
       "      <td>1</td>\n",
       "      <td>5</td>\n",
       "      <td>15</td>\n",
       "      <td>-1</td>\n",
       "      <td>2</td>\n",
       "      <td>0.224012</td>\n",
       "      <td>0.140327</td>\n",
       "      <td>0.652652</td>\n",
       "      <td>0.7392</td>\n",
       "      <td>0.2608</td>\n",
       "      <td>0.525298</td>\n",
       "      <td>103</td>\n",
       "      <td>2</td>\n",
       "    </tr>\n",
       "    <tr>\n",
       "      <th>75278</th>\n",
       "      <td>0</td>\n",
       "      <td>6</td>\n",
       "      <td>15</td>\n",
       "      <td>2</td>\n",
       "      <td>3</td>\n",
       "      <td>0</td>\n",
       "      <td>8</td>\n",
       "      <td>14</td>\n",
       "      <td>-1</td>\n",
       "      <td>2</td>\n",
       "      <td>0.019034</td>\n",
       "      <td>0.122616</td>\n",
       "      <td>0.167389</td>\n",
       "      <td>0.7569</td>\n",
       "      <td>0.2431</td>\n",
       "      <td>0.494281</td>\n",
       "      <td>90</td>\n",
       "      <td>2</td>\n",
       "    </tr>\n",
       "    <tr>\n",
       "      <th>525591</th>\n",
       "      <td>0</td>\n",
       "      <td>7</td>\n",
       "      <td>1</td>\n",
       "      <td>1</td>\n",
       "      <td>5</td>\n",
       "      <td>0</td>\n",
       "      <td>5</td>\n",
       "      <td>14</td>\n",
       "      <td>-1</td>\n",
       "      <td>2</td>\n",
       "      <td>0.284773</td>\n",
       "      <td>0.054496</td>\n",
       "      <td>0.652652</td>\n",
       "      <td>0.7713</td>\n",
       "      <td>0.2287</td>\n",
       "      <td>1.000000</td>\n",
       "      <td>40</td>\n",
       "      <td>2</td>\n",
       "    </tr>\n",
       "  </tbody>\n",
       "</table>\n",
       "</div>"
      ],
      "text/plain": [
       "        Gender  Age  Occupation  City_Category  Stay_In_Current_City_Years  \\\n",
       "532017       0    7           4              0                           4   \n",
       "153907       0    7           0              0                           2   \n",
       "162868       0    3           1              1                           4   \n",
       "75278        0    6          15              2                           3   \n",
       "525591       0    7           1              1                           5   \n",
       "\n",
       "        Marital_Status  Product_Category_1  Product_Category_2  \\\n",
       "532017               1                   1                  15   \n",
       "153907               0                   1                   8   \n",
       "162868               1                   5                  15   \n",
       "75278                0                   8                  14   \n",
       "525591               0                   5                  14   \n",
       "\n",
       "        Product_Category_3  Total_category  Product_popularity_Score  \\\n",
       "532017                  16               3                  0.756223   \n",
       "153907                  17               3                  0.232064   \n",
       "162868                  -1               2                  0.224012   \n",
       "75278                   -1               2                  0.019034   \n",
       "525591                  -1               2                  0.284773   \n",
       "\n",
       "        User_popularity_Score  Ocupation_Score  Male_ratio  Female_ratio  \\\n",
       "532017               0.267030         1.000000      0.7713        0.2287   \n",
       "153907               0.446866         0.955926      0.7713        0.2287   \n",
       "162868               0.140327         0.652652      0.7392        0.2608   \n",
       "75278                0.122616         0.167389      0.7569        0.2431   \n",
       "525591               0.054496         0.652652      0.7713        0.2287   \n",
       "\n",
       "        Population_Duration  Cat1_Popularity_per_User  Category1_Group  \n",
       "532017             0.525298                       196                2  \n",
       "153907             0.440367                       328                2  \n",
       "162868             0.525298                       103                2  \n",
       "75278              0.494281                        90                2  \n",
       "525591             1.000000                        40                2  "
      ]
     },
     "execution_count": 216,
     "metadata": {},
     "output_type": "execute_result"
    }
   ],
   "source": [
    "X_train_.head()"
   ]
  },
  {
   "cell_type": "markdown",
   "metadata": {},
   "source": [
    "---------------------------------------------------------------------------------------------------------------------------"
   ]
  },
  {
   "cell_type": "markdown",
   "metadata": {},
   "source": [
    "# 5 <u> Mapping Functions to the Validation Set(25%)</u>\n",
    "\n"
   ]
  },
  {
   "cell_type": "markdown",
   "metadata": {},
   "source": [
    "* All the above Feature Engineering methods mapped into Validation Dataset"
   ]
  },
  {
   "cell_type": "code",
   "execution_count": 217,
   "metadata": {},
   "outputs": [],
   "source": [
    "#Applying all the Mappers into validation Set\n",
    "\n",
    "###################### New Feature Generation Mapping ############################\n",
    "X_validation_ = total_catgory(X_validation_)\n",
    "X_validation_ = Product_Popularity_Score(X_validation_)\n",
    "X_validation_ = User_Popularity_Score(X_validation_)\n",
    "X_validation_ = OccupationScore(X_validation_)\n",
    "X_validation_ = Age_Gender_Ratio(X_validation_)\n",
    "X_validation_ = Population_Duration(X_validation_)\n",
    "X_validation_ = Cat1_Popularity_User(X_validation_)\n",
    "X_validation_ = category1_bucket(X_validation_)\n",
    "\n",
    "##################### Encoding Mappers ########################################\n",
    "X_validation_ = GenderEncoding(X_validation_)\n",
    "X_validation_ = AgeMapping(X_validation_)\n",
    "X_validation_ = City_Encoding(X_validation_)\n",
    "X_validation_ = YearsMapping(X_validation_)\n",
    "X_validation_ = dropID(X_validation_)"
   ]
  },
  {
   "cell_type": "code",
   "execution_count": 218,
   "metadata": {},
   "outputs": [
    {
     "data": {
      "text/html": [
       "<div>\n",
       "<style scoped>\n",
       "    .dataframe tbody tr th:only-of-type {\n",
       "        vertical-align: middle;\n",
       "    }\n",
       "\n",
       "    .dataframe tbody tr th {\n",
       "        vertical-align: top;\n",
       "    }\n",
       "\n",
       "    .dataframe thead th {\n",
       "        text-align: right;\n",
       "    }\n",
       "</style>\n",
       "<table border=\"1\" class=\"dataframe\">\n",
       "  <thead>\n",
       "    <tr style=\"text-align: right;\">\n",
       "      <th></th>\n",
       "      <th>Gender</th>\n",
       "      <th>Age</th>\n",
       "      <th>Occupation</th>\n",
       "      <th>City_Category</th>\n",
       "      <th>Stay_In_Current_City_Years</th>\n",
       "      <th>Marital_Status</th>\n",
       "      <th>Product_Category_1</th>\n",
       "      <th>Product_Category_2</th>\n",
       "      <th>Product_Category_3</th>\n",
       "      <th>Total_category</th>\n",
       "      <th>Product_popularity_Score</th>\n",
       "      <th>User_popularity_Score</th>\n",
       "      <th>Ocupation_Score</th>\n",
       "      <th>Male_ratio</th>\n",
       "      <th>Female_ratio</th>\n",
       "      <th>Population_Duration</th>\n",
       "      <th>Cat1_Popularity_per_User</th>\n",
       "      <th>Category1_Group</th>\n",
       "    </tr>\n",
       "  </thead>\n",
       "  <tbody>\n",
       "    <tr>\n",
       "      <th>41001</th>\n",
       "      <td>0</td>\n",
       "      <td>5</td>\n",
       "      <td>0</td>\n",
       "      <td>2</td>\n",
       "      <td>3</td>\n",
       "      <td>0</td>\n",
       "      <td>1</td>\n",
       "      <td>6</td>\n",
       "      <td>-1</td>\n",
       "      <td>2</td>\n",
       "      <td>0.038911</td>\n",
       "      <td>0.109215</td>\n",
       "      <td>0.979909</td>\n",
       "      <td>0.7545</td>\n",
       "      <td>0.2455</td>\n",
       "      <td>0.494281</td>\n",
       "      <td>81</td>\n",
       "      <td>2</td>\n",
       "    </tr>\n",
       "    <tr>\n",
       "      <th>16151</th>\n",
       "      <td>0</td>\n",
       "      <td>3</td>\n",
       "      <td>1</td>\n",
       "      <td>0</td>\n",
       "      <td>1</td>\n",
       "      <td>0</td>\n",
       "      <td>12</td>\n",
       "      <td>-1</td>\n",
       "      <td>-1</td>\n",
       "      <td>1</td>\n",
       "      <td>0.297665</td>\n",
       "      <td>0.191126</td>\n",
       "      <td>0.663512</td>\n",
       "      <td>0.7392</td>\n",
       "      <td>0.2608</td>\n",
       "      <td>0.385004</td>\n",
       "      <td>102</td>\n",
       "      <td>0</td>\n",
       "    </tr>\n",
       "    <tr>\n",
       "      <th>507262</th>\n",
       "      <td>0</td>\n",
       "      <td>7</td>\n",
       "      <td>11</td>\n",
       "      <td>2</td>\n",
       "      <td>4</td>\n",
       "      <td>0</td>\n",
       "      <td>6</td>\n",
       "      <td>8</td>\n",
       "      <td>15</td>\n",
       "      <td>3</td>\n",
       "      <td>0.394942</td>\n",
       "      <td>0.102389</td>\n",
       "      <td>0.160960</td>\n",
       "      <td>0.7713</td>\n",
       "      <td>0.2287</td>\n",
       "      <td>0.525298</td>\n",
       "      <td>55</td>\n",
       "      <td>1</td>\n",
       "    </tr>\n",
       "    <tr>\n",
       "      <th>368698</th>\n",
       "      <td>0</td>\n",
       "      <td>7</td>\n",
       "      <td>7</td>\n",
       "      <td>2</td>\n",
       "      <td>2</td>\n",
       "      <td>1</td>\n",
       "      <td>1</td>\n",
       "      <td>2</td>\n",
       "      <td>9</td>\n",
       "      <td>3</td>\n",
       "      <td>0.970817</td>\n",
       "      <td>0.010239</td>\n",
       "      <td>0.818486</td>\n",
       "      <td>0.7713</td>\n",
       "      <td>0.2287</td>\n",
       "      <td>0.440367</td>\n",
       "      <td>9</td>\n",
       "      <td>2</td>\n",
       "    </tr>\n",
       "    <tr>\n",
       "      <th>353782</th>\n",
       "      <td>0</td>\n",
       "      <td>7</td>\n",
       "      <td>2</td>\n",
       "      <td>0</td>\n",
       "      <td>5</td>\n",
       "      <td>1</td>\n",
       "      <td>5</td>\n",
       "      <td>14</td>\n",
       "      <td>-1</td>\n",
       "      <td>2</td>\n",
       "      <td>0.774319</td>\n",
       "      <td>0.044369</td>\n",
       "      <td>0.362426</td>\n",
       "      <td>0.7713</td>\n",
       "      <td>0.2287</td>\n",
       "      <td>1.000000</td>\n",
       "      <td>41</td>\n",
       "      <td>2</td>\n",
       "    </tr>\n",
       "  </tbody>\n",
       "</table>\n",
       "</div>"
      ],
      "text/plain": [
       "        Gender  Age  Occupation  City_Category  Stay_In_Current_City_Years  \\\n",
       "41001        0    5           0              2                           3   \n",
       "16151        0    3           1              0                           1   \n",
       "507262       0    7          11              2                           4   \n",
       "368698       0    7           7              2                           2   \n",
       "353782       0    7           2              0                           5   \n",
       "\n",
       "        Marital_Status  Product_Category_1  Product_Category_2  \\\n",
       "41001                0                   1                   6   \n",
       "16151                0                  12                  -1   \n",
       "507262               0                   6                   8   \n",
       "368698               1                   1                   2   \n",
       "353782               1                   5                  14   \n",
       "\n",
       "        Product_Category_3  Total_category  Product_popularity_Score  \\\n",
       "41001                   -1               2                  0.038911   \n",
       "16151                   -1               1                  0.297665   \n",
       "507262                  15               3                  0.394942   \n",
       "368698                   9               3                  0.970817   \n",
       "353782                  -1               2                  0.774319   \n",
       "\n",
       "        User_popularity_Score  Ocupation_Score  Male_ratio  Female_ratio  \\\n",
       "41001                0.109215         0.979909      0.7545        0.2455   \n",
       "16151                0.191126         0.663512      0.7392        0.2608   \n",
       "507262               0.102389         0.160960      0.7713        0.2287   \n",
       "368698               0.010239         0.818486      0.7713        0.2287   \n",
       "353782               0.044369         0.362426      0.7713        0.2287   \n",
       "\n",
       "        Population_Duration  Cat1_Popularity_per_User  Category1_Group  \n",
       "41001              0.494281                        81                2  \n",
       "16151              0.385004                       102                0  \n",
       "507262             0.525298                        55                1  \n",
       "368698             0.440367                         9                2  \n",
       "353782             1.000000                        41                2  "
      ]
     },
     "execution_count": 218,
     "metadata": {},
     "output_type": "execute_result"
    }
   ],
   "source": [
    "X_validation_.head()"
   ]
  },
  {
   "cell_type": "code",
   "execution_count": 219,
   "metadata": {},
   "outputs": [
    {
     "data": {
      "text/plain": [
       "Index(['Gender', 'Age', 'Occupation', 'City_Category',\n",
       "       'Stay_In_Current_City_Years', 'Marital_Status', 'Product_Category_1',\n",
       "       'Product_Category_2', 'Product_Category_3', 'Total_category',\n",
       "       'Product_popularity_Score', 'User_popularity_Score', 'Ocupation_Score',\n",
       "       'Male_ratio', 'Female_ratio', 'Population_Duration',\n",
       "       'Cat1_Popularity_per_User', 'Category1_Group'],\n",
       "      dtype='object')"
      ]
     },
     "execution_count": 219,
     "metadata": {},
     "output_type": "execute_result"
    }
   ],
   "source": [
    "X_validation_.columns"
   ]
  },
  {
   "cell_type": "code",
   "execution_count": 220,
   "metadata": {},
   "outputs": [
    {
     "data": {
      "text/plain": [
       "(165021, 18)"
      ]
     },
     "execution_count": 220,
     "metadata": {},
     "output_type": "execute_result"
    }
   ],
   "source": [
    "X_validation_.shape"
   ]
  },
  {
   "cell_type": "markdown",
   "metadata": {},
   "source": [
    "-------------------------------------------------------------------------------------------------------------------------------"
   ]
  },
  {
   "cell_type": "markdown",
   "metadata": {},
   "source": [
    "# 6 Feature Selection\n",
    "\n",
    "## 6.1 Feature Importance Analysis\n",
    "* Let's analyze the feature importancesof the features based on Tree based Algorithms."
   ]
  },
  {
   "cell_type": "code",
   "execution_count": 221,
   "metadata": {},
   "outputs": [
    {
     "data": {
      "text/plain": [
       "Index(['Gender', 'Age', 'Occupation', 'City_Category',\n",
       "       'Stay_In_Current_City_Years', 'Marital_Status', 'Product_Category_1',\n",
       "       'Product_Category_2', 'Product_Category_3', 'Total_category',\n",
       "       'Product_popularity_Score', 'User_popularity_Score', 'Ocupation_Score',\n",
       "       'Male_ratio', 'Female_ratio', 'Population_Duration',\n",
       "       'Cat1_Popularity_per_User', 'Category1_Group'],\n",
       "      dtype='object')"
      ]
     },
     "execution_count": 221,
     "metadata": {},
     "output_type": "execute_result"
    }
   ],
   "source": [
    "X_train_.columns"
   ]
  },
  {
   "cell_type": "code",
   "execution_count": 222,
   "metadata": {},
   "outputs": [
    {
     "data": {
      "image/png": "[encoded data removed]",
      "text/plain": [
       "<Figure size 432x288 with 1 Axes>"
      ]
     },
     "metadata": {},
     "output_type": "display_data"
    }
   ],
   "source": [
    "# Random Forest based Feature Importance\n",
    "from sklearn.ensemble import RandomForestRegressor\n",
    "\n",
    "rf = RandomForestRegressor(n_estimators=20)\n",
    "rf.fit(X_train_,y_train_)\n",
    "rf.feature_importances_\n",
    "feat_importances = pd.Series(rf.feature_importances_, index=X_train_.columns)\n",
    "feat_importances.sort_values(ascending=True).plot(kind='barh',cmap='viridis')\n",
    "plt.show()"
   ]
  },
  {
   "cell_type": "markdown",
   "metadata": {},
   "source": [
    "* As from the above graph it is visible that Product Category 1 has the heighest feature importance than others."
   ]
  },
  {
   "cell_type": "code",
   "execution_count": 223,
   "metadata": {},
   "outputs": [
    {
     "data": {
      "text/plain": [
       "GradientBoostingRegressor(alpha=0.9, ccp_alpha=0.0, criterion='friedman_mse',\n",
       "                          init=None, learning_rate=0.05, loss='ls', max_depth=8,\n",
       "                          max_features='sqrt', max_leaf_nodes=None,\n",
       "                          min_impurity_decrease=0.0, min_impurity_split=None,\n",
       "                          min_samples_leaf=1, min_samples_split=500,\n",
       "                          min_weight_fraction_leaf=0.0, n_estimators=200,\n",
       "                          n_iter_no_change=None, presort='deprecated',\n",
       "                          random_state=0, subsample=1.0, tol=0.0001,\n",
       "                          validation_fraction=0.1, verbose=0, warm_start=False)"
      ]
     },
     "execution_count": 223,
     "metadata": {},
     "output_type": "execute_result"
    }
   ],
   "source": [
    "from sklearn.ensemble import GradientBoostingRegressor\n",
    "from sklearn.preprocessing import StandardScaler\n",
    "gbr = GradientBoostingRegressor(loss='ls', n_estimators=200, learning_rate=0.05, \n",
    "                                max_depth=8, max_features = 'sqrt',  \n",
    "                                min_samples_split = 500, random_state=0)\n",
    "gbr.fit(X_train_,y_train_)"
   ]
  },
  {
   "cell_type": "code",
   "execution_count": 224,
   "metadata": {},
   "outputs": [
    {
     "data": {
      "image/png": "[encoded data removed]",
      "text/plain": [
       "<Figure size 432x288 with 1 Axes>"
      ]
     },
     "metadata": {},
     "output_type": "display_data"
    }
   ],
   "source": [
    "gbr.feature_importances_\n",
    "feat_importances = pd.Series(gbr.feature_importances_, index=X_train_.columns)\n",
    "feat_importances.sort_values(ascending=True).plot(kind='barh',cmap='viridis')\n",
    "plt.show()"
   ]
  },
  {
   "cell_type": "code",
   "execution_count": 225,
   "metadata": {},
   "outputs": [
    {
     "data": {
      "image/png": "[encoded data removed]",
      "text/plain": [
       "<Figure size 432x288 with 1 Axes>"
      ]
     },
     "metadata": {},
     "output_type": "display_data"
    }
   ],
   "source": [
    "#XGB Regressor Based Feature Importance\n",
    "\n",
    "from xgboost.sklearn import XGBRegressor\n",
    "xgb_reg = XGBRegressor(n_estimators=350,learning_rate=0.05, max_depth=12,min_child_weight=15,random_state=0,n_jobs=-1)\n",
    "xgb_reg.fit(X_train_,y_train_)\n",
    "xgb_reg.feature_importances_\n",
    "feat_importances = pd.Series(xgb_reg.feature_importances_, index=X_train_.columns)\n",
    "feat_importances.sort_values(ascending=True).plot(kind='barh',cmap='viridis')\n",
    "plt.show()"
   ]
  },
  {
   "cell_type": "markdown",
   "metadata": {},
   "source": [
    "----------------------------------------------------------------------------------------------------------------------------"
   ]
  },
  {
   "cell_type": "markdown",
   "metadata": {},
   "source": [
    "### Recursive Feature Elemination using combination of Feature Subset\n",
    "\n",
    "#### Objective: RFE checks for all the feature set combination and fits it into the model.\n",
    "\n",
    "* We have 19 predictive features. Recursive Feature elimination will tell hoe many features we should use to build the mode.\n",
    "* Let's analyze top 12 features for the XGB Regressor Model."
   ]
  },
  {
   "cell_type": "markdown",
   "metadata": {},
   "source": [
    "* Defining a Cross Validation Strategy and Grid Search for tuning Hyperparams. My approach is to check for every features to check the RMSE score."
   ]
  },
  {
   "cell_type": "code",
   "execution_count": 245,
   "metadata": {},
   "outputs": [
    {
     "name": "stdout",
     "output_type": "stream",
     "text": [
      "Fitting 5 folds for each of 9 candidates, totalling 45 fits\n",
      "[CV] n_features_to_select=1 ..........................................\n"
     ]
    },
    {
     "name": "stderr",
     "output_type": "stream",
     "text": [
      "[Parallel(n_jobs=1)]: Using backend SequentialBackend with 1 concurrent workers.\n"
     ]
    },
    {
     "name": "stdout",
     "output_type": "stream",
     "text": [
      "[CV]  n_features_to_select=1, score=(train=-3030.165, test=-3023.912), total= 2.7min\n",
      "[CV] n_features_to_select=1 ..........................................\n"
     ]
    },
    {
     "name": "stderr",
     "output_type": "stream",
     "text": [
      "[Parallel(n_jobs=1)]: Done   1 out of   1 | elapsed:  2.7min remaining:    0.0s\n"
     ]
    },
    {
     "name": "stdout",
     "output_type": "stream",
     "text": [
      "[CV]  n_features_to_select=1, score=(train=-4991.461, test=-4989.322), total= 3.1min\n",
      "[CV] n_features_to_select=1 ..........................................\n"
     ]
    },
    {
     "name": "stderr",
     "output_type": "stream",
     "text": [
      "[Parallel(n_jobs=1)]: Done   2 out of   2 | elapsed:  5.8min remaining:    0.0s\n"
     ]
    },
    {
     "name": "stdout",
     "output_type": "stream",
     "text": [
      "[CV]  n_features_to_select=1, score=(train=-3029.268, test=-3026.945), total= 3.0min\n",
      "[CV] n_features_to_select=1 ..........................................\n"
     ]
    },
    {
     "name": "stderr",
     "output_type": "stream",
     "text": [
      "[Parallel(n_jobs=1)]: Done   3 out of   3 | elapsed:  8.8min remaining:    0.0s\n"
     ]
    },
    {
     "name": "stdout",
     "output_type": "stream",
     "text": [
      "[CV]  n_features_to_select=1, score=(train=-3026.078, test=-3040.305), total= 2.9min\n",
      "[CV] n_features_to_select=1 ..........................................\n"
     ]
    },
    {
     "name": "stderr",
     "output_type": "stream",
     "text": [
      "[Parallel(n_jobs=1)]: Done   4 out of   4 | elapsed: 11.7min remaining:    0.0s\n"
     ]
    },
    {
     "name": "stdout",
     "output_type": "stream",
     "text": [
      "[CV]  n_features_to_select=1, score=(train=-3027.632, test=-3033.785), total= 3.3min\n",
      "[CV] n_features_to_select=2 ..........................................\n"
     ]
    },
    {
     "name": "stderr",
     "output_type": "stream",
     "text": [
      "[Parallel(n_jobs=1)]: Done   5 out of   5 | elapsed: 15.0min remaining:    0.0s\n"
     ]
    },
    {
     "name": "stdout",
     "output_type": "stream",
     "text": [
      "[CV]  n_features_to_select=2, score=(train=-3030.164, test=-3023.909), total= 3.2min\n",
      "[CV] n_features_to_select=2 ..........................................\n"
     ]
    },
    {
     "name": "stderr",
     "output_type": "stream",
     "text": [
      "[Parallel(n_jobs=1)]: Done   6 out of   6 | elapsed: 18.2min remaining:    0.0s\n"
     ]
    },
    {
     "name": "stdout",
     "output_type": "stream",
     "text": [
      "[CV]  n_features_to_select=2, score=(train=-3030.971, test=-3020.690), total= 2.9min\n",
      "[CV] n_features_to_select=2 ..........................................\n"
     ]
    },
    {
     "name": "stderr",
     "output_type": "stream",
     "text": [
      "[Parallel(n_jobs=1)]: Done   7 out of   7 | elapsed: 21.1min remaining:    0.0s\n"
     ]
    },
    {
     "name": "stdout",
     "output_type": "stream",
     "text": [
      "[CV]  n_features_to_select=2, score=(train=-3029.268, test=-3026.947), total= 2.8min\n",
      "[CV] n_features_to_select=2 ..........................................\n"
     ]
    },
    {
     "name": "stderr",
     "output_type": "stream",
     "text": [
      "[Parallel(n_jobs=1)]: Done   8 out of   8 | elapsed: 23.9min remaining:    0.0s\n"
     ]
    },
    {
     "name": "stdout",
     "output_type": "stream",
     "text": [
      "[CV]  n_features_to_select=2, score=(train=-3026.078, test=-3040.311), total= 2.3min\n",
      "[CV] n_features_to_select=2 ..........................................\n"
     ]
    },
    {
     "name": "stderr",
     "output_type": "stream",
     "text": [
      "[Parallel(n_jobs=1)]: Done   9 out of   9 | elapsed: 26.2min remaining:    0.0s\n"
     ]
    },
    {
     "name": "stdout",
     "output_type": "stream",
     "text": [
      "[CV]  n_features_to_select=2, score=(train=-3027.632, test=-3033.792), total= 2.3min\n",
      "[CV] n_features_to_select=3 ..........................................\n",
      "[CV]  n_features_to_select=3, score=(train=-2776.745, test=-2764.858), total= 2.2min\n",
      "[CV] n_features_to_select=3 ..........................................\n",
      "[CV]  n_features_to_select=3, score=(train=-2775.912, test=-2771.526), total= 2.2min\n",
      "[CV] n_features_to_select=3 ..........................................\n",
      "[CV]  n_features_to_select=3, score=(train=-2771.412, test=-2780.417), total= 2.2min\n",
      "[CV] n_features_to_select=3 ..........................................\n",
      "[CV]  n_features_to_select=3, score=(train=-2770.687, test=-2793.461), total= 2.2min\n",
      "[CV] n_features_to_select=3 ..........................................\n",
      "[CV]  n_features_to_select=3, score=(train=-2771.938, test=-2785.407), total= 2.2min\n",
      "[CV] n_features_to_select=4 ..........................................\n",
      "[CV]  n_features_to_select=4, score=(train=-2755.133, test=-2745.848), total= 2.0min\n",
      "[CV] n_features_to_select=4 ..........................................\n",
      "[CV]  n_features_to_select=4, score=(train=-2756.446, test=-2750.862), total= 2.0min\n",
      "[CV] n_features_to_select=4 ..........................................\n",
      "[CV]  n_features_to_select=4, score=(train=-2753.208, test=-2760.538), total= 2.0min\n",
      "[CV] n_features_to_select=4 ..........................................\n",
      "[CV]  n_features_to_select=4, score=(train=-2748.872, test=-2774.850), total= 1.9min\n",
      "[CV] n_features_to_select=4 ..........................................\n",
      "[CV]  n_features_to_select=4, score=(train=-2752.599, test=-2767.965), total= 2.0min\n",
      "[CV] n_features_to_select=5 ..........................................\n",
      "[CV]  n_features_to_select=5, score=(train=-2740.949, test=-2731.369), total= 1.8min\n",
      "[CV] n_features_to_select=5 ..........................................\n",
      "[CV]  n_features_to_select=5, score=(train=-2739.174, test=-2735.211), total=52.7min\n",
      "[CV] n_features_to_select=5 ..........................................\n",
      "[CV]  n_features_to_select=5, score=(train=-2737.366, test=-2745.816), total= 1.8min\n",
      "[CV] n_features_to_select=5 ..........................................\n",
      "[CV]  n_features_to_select=5, score=(train=-2733.716, test=-2760.430), total= 1.8min\n",
      "[CV] n_features_to_select=5 ..........................................\n",
      "[CV]  n_features_to_select=5, score=(train=-2737.785, test=-2752.866), total= 1.8min\n",
      "[CV] n_features_to_select=6 ..........................................\n",
      "[CV]  n_features_to_select=6, score=(train=-2728.394, test=-2727.441), total= 1.6min\n",
      "[CV] n_features_to_select=6 ..........................................\n",
      "[CV]  n_features_to_select=6, score=(train=-2727.101, test=-2732.480), total= 1.6min\n",
      "[CV] n_features_to_select=6 ..........................................\n",
      "[CV]  n_features_to_select=6, score=(train=-2724.132, test=-2742.029), total= 1.6min\n",
      "[CV] n_features_to_select=6 ..........................................\n",
      "[CV]  n_features_to_select=6, score=(train=-2724.608, test=-2758.469), total= 1.6min\n",
      "[CV] n_features_to_select=6 ..........................................\n",
      "[CV]  n_features_to_select=6, score=(train=-2722.426, test=-2749.557), total= 1.6min\n",
      "[CV] n_features_to_select=7 ..........................................\n",
      "[CV]  n_features_to_select=7, score=(train=-2725.968, test=-2726.457), total= 1.3min\n",
      "[CV] n_features_to_select=7 ..........................................\n",
      "[CV]  n_features_to_select=7, score=(train=-2726.837, test=-2732.218), total= 1.3min\n",
      "[CV] n_features_to_select=7 ..........................................\n",
      "[CV]  n_features_to_select=7, score=(train=-2721.085, test=-2739.476), total= 1.3min\n",
      "[CV] n_features_to_select=7 ..........................................\n",
      "[CV]  n_features_to_select=7, score=(train=-2720.616, test=-2756.646), total= 1.3min\n",
      "[CV] n_features_to_select=7 ..........................................\n",
      "[CV]  n_features_to_select=7, score=(train=-2722.320, test=-2749.640), total= 1.4min\n",
      "[CV] n_features_to_select=8 ..........................................\n",
      "[CV]  n_features_to_select=8, score=(train=-2719.618, test=-2719.035), total= 1.3min\n",
      "[CV] n_features_to_select=8 ..........................................\n",
      "[CV]  n_features_to_select=8, score=(train=-2718.083, test=-2724.763), total= 1.4min\n",
      "[CV] n_features_to_select=8 ..........................................\n",
      "[CV]  n_features_to_select=8, score=(train=-2717.152, test=-2736.940), total= 1.4min\n",
      "[CV] n_features_to_select=8 ..........................................\n",
      "[CV]  n_features_to_select=8, score=(train=-2716.057, test=-2752.341), total= 1.3min\n",
      "[CV] n_features_to_select=8 ..........................................\n",
      "[CV]  n_features_to_select=8, score=(train=-2714.911, test=-2743.362), total= 1.2min\n",
      "[CV] n_features_to_select=9 ..........................................\n",
      "[CV]  n_features_to_select=9, score=(train=-2713.364, test=-2714.581), total=  45.3s\n",
      "[CV] n_features_to_select=9 ..........................................\n",
      "[CV]  n_features_to_select=9, score=(train=-2710.923, test=-2719.427), total=  47.1s\n",
      "[CV] n_features_to_select=9 ..........................................\n",
      "[CV]  n_features_to_select=9, score=(train=-2709.479, test=-2730.504), total=  43.7s\n",
      "[CV] n_features_to_select=9 ..........................................\n",
      "[CV]  n_features_to_select=9, score=(train=-2704.631, test=-2742.170), total=  41.5s\n",
      "[CV] n_features_to_select=9 ..........................................\n",
      "[CV]  n_features_to_select=9, score=(train=-2708.878, test=-2739.567), total=  42.0s\n"
     ]
    },
    {
     "name": "stderr",
     "output_type": "stream",
     "text": [
      "[Parallel(n_jobs=1)]: Done  45 out of  45 | elapsed: 134.5min finished\n"
     ]
    },
    {
     "data": {
      "text/plain": [
       "GridSearchCV(cv=None, error_score=nan,\n",
       "             estimator=RFE(estimator=XGBRegressor(base_score=0.5,\n",
       "                                                  booster='gbtree',\n",
       "                                                  colsample_bylevel=1,\n",
       "                                                  colsample_bynode=1,\n",
       "                                                  colsample_bytree=1, gamma=0,\n",
       "                                                  gpu_id=-1,\n",
       "                                                  importance_type='gain',\n",
       "                                                  interaction_constraints='',\n",
       "                                                  learning_rate=0.05,\n",
       "                                                  max_delta_step=0, max_depth=7,\n",
       "                                                  min_child_weight=15,\n",
       "                                                  missing=nan,\n",
       "                                                  monotone_constraints='()',\n",
       "                                                  n_estimators...\n",
       "                                                  random_state=0, reg_alpha=0,\n",
       "                                                  reg_lambda=1,\n",
       "                                                  scale_pos_weight=1,\n",
       "                                                  subsample=1,\n",
       "                                                  tree_method='exact',\n",
       "                                                  validate_parameters=1,\n",
       "                                                  verbosity=None),\n",
       "                           n_features_to_select=None, step=1, verbose=0),\n",
       "             iid='deprecated', n_jobs=None,\n",
       "             param_grid=[{'n_features_to_select': [1, 2, 3, 4, 5, 6, 7, 8, 9]}],\n",
       "             pre_dispatch='2*n_jobs', refit=True, return_train_score=True,\n",
       "             scoring='neg_root_mean_squared_error', verbose=10)"
      ]
     },
     "execution_count": 245,
     "metadata": {},
     "output_type": "execute_result"
    }
   ],
   "source": [
    "# step-2: specify range of hyperparameters to tune\n",
    "# Scoring Technique: Neg mean Squared Error\n",
    "\n",
    "hyper_params = [{'n_features_to_select': list(range(1, 10))}]\n",
    "\n",
    "\n",
    "# step-3: perform grid search\n",
    "# 3.1 specify model\n",
    "xgb_reg = XGBRegressor(learning_rate=0.05,max_depth=7,min_child_weight=15,random_state=0,n_jobs=-1)\n",
    "xgb_reg.fit(X_train_,y_train_)\n",
    "\n",
    "rfe = RFE(xgb_reg)\n",
    "           \n",
    "\n",
    "# 3.2 call GridSearchCV()\n",
    "model_cv = GridSearchCV(estimator = rfe, \n",
    "                        param_grid = hyper_params, \n",
    "                        scoring= 'neg_root_mean_squared_error',  \n",
    "                        verbose = 10,\n",
    "                        return_train_score=True)      \n",
    "\n",
    "# fit the model\n",
    "model_cv.fit(X_train_, y_train_)  "
   ]
  },
  {
   "cell_type": "markdown",
   "metadata": {},
   "source": [
    "* Due to crash and memory error I interrupt the cell."
   ]
  },
  {
   "cell_type": "code",
   "execution_count": 246,
   "metadata": {},
   "outputs": [
    {
     "data": {
      "text/html": [
       "<div>\n",
       "<style scoped>\n",
       "    .dataframe tbody tr th:only-of-type {\n",
       "        vertical-align: middle;\n",
       "    }\n",
       "\n",
       "    .dataframe tbody tr th {\n",
       "        vertical-align: top;\n",
       "    }\n",
       "\n",
       "    .dataframe thead th {\n",
       "        text-align: right;\n",
       "    }\n",
       "</style>\n",
       "<table border=\"1\" class=\"dataframe\">\n",
       "  <thead>\n",
       "    <tr style=\"text-align: right;\">\n",
       "      <th></th>\n",
       "      <th>mean_fit_time</th>\n",
       "      <th>std_fit_time</th>\n",
       "      <th>mean_score_time</th>\n",
       "      <th>std_score_time</th>\n",
       "      <th>param_n_features_to_select</th>\n",
       "      <th>params</th>\n",
       "      <th>split0_test_score</th>\n",
       "      <th>split1_test_score</th>\n",
       "      <th>split2_test_score</th>\n",
       "      <th>split3_test_score</th>\n",
       "      <th>...</th>\n",
       "      <th>mean_test_score</th>\n",
       "      <th>std_test_score</th>\n",
       "      <th>rank_test_score</th>\n",
       "      <th>split0_train_score</th>\n",
       "      <th>split1_train_score</th>\n",
       "      <th>split2_train_score</th>\n",
       "      <th>split3_train_score</th>\n",
       "      <th>split4_train_score</th>\n",
       "      <th>mean_train_score</th>\n",
       "      <th>std_train_score</th>\n",
       "    </tr>\n",
       "  </thead>\n",
       "  <tbody>\n",
       "    <tr>\n",
       "      <th>0</th>\n",
       "      <td>179.853002</td>\n",
       "      <td>13.230953</td>\n",
       "      <td>0.075963</td>\n",
       "      <td>0.009026</td>\n",
       "      <td>1</td>\n",
       "      <td>{'n_features_to_select': 1}</td>\n",
       "      <td>-3023.911608</td>\n",
       "      <td>-4989.321785</td>\n",
       "      <td>-3026.944549</td>\n",
       "      <td>-3040.304554</td>\n",
       "      <td>...</td>\n",
       "      <td>-3422.853477</td>\n",
       "      <td>783.254684</td>\n",
       "      <td>9</td>\n",
       "      <td>-3030.164590</td>\n",
       "      <td>-4991.461154</td>\n",
       "      <td>-3029.267953</td>\n",
       "      <td>-3026.078318</td>\n",
       "      <td>-3027.632074</td>\n",
       "      <td>-3420.920818</td>\n",
       "      <td>785.271415</td>\n",
       "    </tr>\n",
       "    <tr>\n",
       "      <th>1</th>\n",
       "      <td>162.404368</td>\n",
       "      <td>19.278718</td>\n",
       "      <td>0.064399</td>\n",
       "      <td>0.005118</td>\n",
       "      <td>2</td>\n",
       "      <td>{'n_features_to_select': 2}</td>\n",
       "      <td>-3023.909091</td>\n",
       "      <td>-3020.690235</td>\n",
       "      <td>-3026.947354</td>\n",
       "      <td>-3040.310690</td>\n",
       "      <td>...</td>\n",
       "      <td>-3029.129875</td>\n",
       "      <td>7.070977</td>\n",
       "      <td>8</td>\n",
       "      <td>-3030.164415</td>\n",
       "      <td>-3030.970907</td>\n",
       "      <td>-3029.267771</td>\n",
       "      <td>-3026.078108</td>\n",
       "      <td>-3027.631869</td>\n",
       "      <td>-3028.822614</td>\n",
       "      <td>1.764310</td>\n",
       "    </tr>\n",
       "    <tr>\n",
       "      <th>2</th>\n",
       "      <td>131.964753</td>\n",
       "      <td>0.301015</td>\n",
       "      <td>0.181119</td>\n",
       "      <td>0.008213</td>\n",
       "      <td>3</td>\n",
       "      <td>{'n_features_to_select': 3}</td>\n",
       "      <td>-2764.858017</td>\n",
       "      <td>-2771.526398</td>\n",
       "      <td>-2780.416980</td>\n",
       "      <td>-2793.460787</td>\n",
       "      <td>...</td>\n",
       "      <td>-2779.133803</td>\n",
       "      <td>10.078994</td>\n",
       "      <td>7</td>\n",
       "      <td>-2776.744676</td>\n",
       "      <td>-2775.912432</td>\n",
       "      <td>-2771.411636</td>\n",
       "      <td>-2770.686960</td>\n",
       "      <td>-2771.938286</td>\n",
       "      <td>-2773.338798</td>\n",
       "      <td>2.487217</td>\n",
       "    </tr>\n",
       "    <tr>\n",
       "      <th>3</th>\n",
       "      <td>118.301758</td>\n",
       "      <td>2.164747</td>\n",
       "      <td>0.186519</td>\n",
       "      <td>0.004476</td>\n",
       "      <td>4</td>\n",
       "      <td>{'n_features_to_select': 4}</td>\n",
       "      <td>-2745.848465</td>\n",
       "      <td>-2750.861637</td>\n",
       "      <td>-2760.537522</td>\n",
       "      <td>-2774.849890</td>\n",
       "      <td>...</td>\n",
       "      <td>-2760.012455</td>\n",
       "      <td>10.658521</td>\n",
       "      <td>6</td>\n",
       "      <td>-2755.132925</td>\n",
       "      <td>-2756.445820</td>\n",
       "      <td>-2753.208230</td>\n",
       "      <td>-2748.872372</td>\n",
       "      <td>-2752.598808</td>\n",
       "      <td>-2753.251631</td>\n",
       "      <td>2.582560</td>\n",
       "    </tr>\n",
       "    <tr>\n",
       "      <th>4</th>\n",
       "      <td>718.625789</td>\n",
       "      <td>1221.581589</td>\n",
       "      <td>0.210438</td>\n",
       "      <td>0.028692</td>\n",
       "      <td>5</td>\n",
       "      <td>{'n_features_to_select': 5}</td>\n",
       "      <td>-2731.369000</td>\n",
       "      <td>-2735.210884</td>\n",
       "      <td>-2745.815834</td>\n",
       "      <td>-2760.430224</td>\n",
       "      <td>...</td>\n",
       "      <td>-2745.138313</td>\n",
       "      <td>10.790373</td>\n",
       "      <td>5</td>\n",
       "      <td>-2740.949274</td>\n",
       "      <td>-2739.173545</td>\n",
       "      <td>-2737.366232</td>\n",
       "      <td>-2733.715830</td>\n",
       "      <td>-2737.785248</td>\n",
       "      <td>-2737.798026</td>\n",
       "      <td>2.394717</td>\n",
       "    </tr>\n",
       "    <tr>\n",
       "      <th>5</th>\n",
       "      <td>94.551456</td>\n",
       "      <td>1.230163</td>\n",
       "      <td>0.220214</td>\n",
       "      <td>0.017328</td>\n",
       "      <td>6</td>\n",
       "      <td>{'n_features_to_select': 6}</td>\n",
       "      <td>-2727.440537</td>\n",
       "      <td>-2732.479817</td>\n",
       "      <td>-2742.029227</td>\n",
       "      <td>-2758.469340</td>\n",
       "      <td>...</td>\n",
       "      <td>-2741.995093</td>\n",
       "      <td>11.233460</td>\n",
       "      <td>4</td>\n",
       "      <td>-2728.394168</td>\n",
       "      <td>-2727.100510</td>\n",
       "      <td>-2724.131648</td>\n",
       "      <td>-2724.608173</td>\n",
       "      <td>-2722.425784</td>\n",
       "      <td>-2725.332057</td>\n",
       "      <td>2.140811</td>\n",
       "    </tr>\n",
       "    <tr>\n",
       "      <th>6</th>\n",
       "      <td>78.594503</td>\n",
       "      <td>2.285509</td>\n",
       "      <td>0.232379</td>\n",
       "      <td>0.028259</td>\n",
       "      <td>7</td>\n",
       "      <td>{'n_features_to_select': 7}</td>\n",
       "      <td>-2726.456838</td>\n",
       "      <td>-2732.217682</td>\n",
       "      <td>-2739.475647</td>\n",
       "      <td>-2756.646162</td>\n",
       "      <td>...</td>\n",
       "      <td>-2740.887199</td>\n",
       "      <td>11.048429</td>\n",
       "      <td>3</td>\n",
       "      <td>-2725.967989</td>\n",
       "      <td>-2726.837232</td>\n",
       "      <td>-2721.084684</td>\n",
       "      <td>-2720.616356</td>\n",
       "      <td>-2722.320493</td>\n",
       "      <td>-2723.365351</td>\n",
       "      <td>2.556475</td>\n",
       "    </tr>\n",
       "    <tr>\n",
       "      <th>7</th>\n",
       "      <td>77.876992</td>\n",
       "      <td>4.616130</td>\n",
       "      <td>0.261997</td>\n",
       "      <td>0.037861</td>\n",
       "      <td>8</td>\n",
       "      <td>{'n_features_to_select': 8}</td>\n",
       "      <td>-2719.035167</td>\n",
       "      <td>-2724.762883</td>\n",
       "      <td>-2736.939943</td>\n",
       "      <td>-2752.341180</td>\n",
       "      <td>...</td>\n",
       "      <td>-2735.288192</td>\n",
       "      <td>12.113287</td>\n",
       "      <td>2</td>\n",
       "      <td>-2719.618429</td>\n",
       "      <td>-2718.082707</td>\n",
       "      <td>-2717.151604</td>\n",
       "      <td>-2716.057296</td>\n",
       "      <td>-2714.911189</td>\n",
       "      <td>-2717.164245</td>\n",
       "      <td>1.622859</td>\n",
       "    </tr>\n",
       "    <tr>\n",
       "      <th>8</th>\n",
       "      <td>43.686882</td>\n",
       "      <td>2.085064</td>\n",
       "      <td>0.217619</td>\n",
       "      <td>0.006063</td>\n",
       "      <td>9</td>\n",
       "      <td>{'n_features_to_select': 9}</td>\n",
       "      <td>-2714.580516</td>\n",
       "      <td>-2719.427071</td>\n",
       "      <td>-2730.503769</td>\n",
       "      <td>-2742.170297</td>\n",
       "      <td>...</td>\n",
       "      <td>-2729.249746</td>\n",
       "      <td>10.831729</td>\n",
       "      <td>1</td>\n",
       "      <td>-2713.364117</td>\n",
       "      <td>-2710.922711</td>\n",
       "      <td>-2709.478643</td>\n",
       "      <td>-2704.631122</td>\n",
       "      <td>-2708.878045</td>\n",
       "      <td>-2709.454928</td>\n",
       "      <td>2.864912</td>\n",
       "    </tr>\n",
       "  </tbody>\n",
       "</table>\n",
       "<p>9 rows × 21 columns</p>\n",
       "</div>"
      ],
      "text/plain": [
       "   mean_fit_time  std_fit_time  mean_score_time  std_score_time  \\\n",
       "0     179.853002     13.230953         0.075963        0.009026   \n",
       "1     162.404368     19.278718         0.064399        0.005118   \n",
       "2     131.964753      0.301015         0.181119        0.008213   \n",
       "3     118.301758      2.164747         0.186519        0.004476   \n",
       "4     718.625789   1221.581589         0.210438        0.028692   \n",
       "5      94.551456      1.230163         0.220214        0.017328   \n",
       "6      78.594503      2.285509         0.232379        0.028259   \n",
       "7      77.876992      4.616130         0.261997        0.037861   \n",
       "8      43.686882      2.085064         0.217619        0.006063   \n",
       "\n",
       "  param_n_features_to_select                       params  split0_test_score  \\\n",
       "0                          1  {'n_features_to_select': 1}       -3023.911608   \n",
       "1                          2  {'n_features_to_select': 2}       -3023.909091   \n",
       "2                          3  {'n_features_to_select': 3}       -2764.858017   \n",
       "3                          4  {'n_features_to_select': 4}       -2745.848465   \n",
       "4                          5  {'n_features_to_select': 5}       -2731.369000   \n",
       "5                          6  {'n_features_to_select': 6}       -2727.440537   \n",
       "6                          7  {'n_features_to_select': 7}       -2726.456838   \n",
       "7                          8  {'n_features_to_select': 8}       -2719.035167   \n",
       "8                          9  {'n_features_to_select': 9}       -2714.580516   \n",
       "\n",
       "   split1_test_score  split2_test_score  split3_test_score  ...  \\\n",
       "0       -4989.321785       -3026.944549       -3040.304554  ...   \n",
       "1       -3020.690235       -3026.947354       -3040.310690  ...   \n",
       "2       -2771.526398       -2780.416980       -2793.460787  ...   \n",
       "3       -2750.861637       -2760.537522       -2774.849890  ...   \n",
       "4       -2735.210884       -2745.815834       -2760.430224  ...   \n",
       "5       -2732.479817       -2742.029227       -2758.469340  ...   \n",
       "6       -2732.217682       -2739.475647       -2756.646162  ...   \n",
       "7       -2724.762883       -2736.939943       -2752.341180  ...   \n",
       "8       -2719.427071       -2730.503769       -2742.170297  ...   \n",
       "\n",
       "   mean_test_score  std_test_score  rank_test_score  split0_train_score  \\\n",
       "0     -3422.853477      783.254684                9        -3030.164590   \n",
       "1     -3029.129875        7.070977                8        -3030.164415   \n",
       "2     -2779.133803       10.078994                7        -2776.744676   \n",
       "3     -2760.012455       10.658521                6        -2755.132925   \n",
       "4     -2745.138313       10.790373                5        -2740.949274   \n",
       "5     -2741.995093       11.233460                4        -2728.394168   \n",
       "6     -2740.887199       11.048429                3        -2725.967989   \n",
       "7     -2735.288192       12.113287                2        -2719.618429   \n",
       "8     -2729.249746       10.831729                1        -2713.364117   \n",
       "\n",
       "   split1_train_score  split2_train_score  split3_train_score  \\\n",
       "0        -4991.461154        -3029.267953        -3026.078318   \n",
       "1        -3030.970907        -3029.267771        -3026.078108   \n",
       "2        -2775.912432        -2771.411636        -2770.686960   \n",
       "3        -2756.445820        -2753.208230        -2748.872372   \n",
       "4        -2739.173545        -2737.366232        -2733.715830   \n",
       "5        -2727.100510        -2724.131648        -2724.608173   \n",
       "6        -2726.837232        -2721.084684        -2720.616356   \n",
       "7        -2718.082707        -2717.151604        -2716.057296   \n",
       "8        -2710.922711        -2709.478643        -2704.631122   \n",
       "\n",
       "   split4_train_score  mean_train_score  std_train_score  \n",
       "0        -3027.632074      -3420.920818       785.271415  \n",
       "1        -3027.631869      -3028.822614         1.764310  \n",
       "2        -2771.938286      -2773.338798         2.487217  \n",
       "3        -2752.598808      -2753.251631         2.582560  \n",
       "4        -2737.785248      -2737.798026         2.394717  \n",
       "5        -2722.425784      -2725.332057         2.140811  \n",
       "6        -2722.320493      -2723.365351         2.556475  \n",
       "7        -2714.911189      -2717.164245         1.622859  \n",
       "8        -2708.878045      -2709.454928         2.864912  \n",
       "\n",
       "[9 rows x 21 columns]"
      ]
     },
     "execution_count": 246,
     "metadata": {},
     "output_type": "execute_result"
    }
   ],
   "source": [
    "# cv results\n",
    "cv_results = pd.DataFrame(model_cv.cv_results_)\n",
    "cv_results"
   ]
  },
  {
   "cell_type": "markdown",
   "metadata": {},
   "source": [
    "* As you can observe from the above table if we select n_features = 9, the mean RMSE score is best. Here rank test score suggests the best rank of combining all the features one by one. Below chart shows that."
   ]
  },
  {
   "cell_type": "code",
   "execution_count": 253,
   "metadata": {},
   "outputs": [
    {
     "data": {
      "text/plain": [
       "<matplotlib.legend.Legend at 0x1f72385fd08>"
      ]
     },
     "execution_count": 253,
     "metadata": {},
     "output_type": "execute_result"
    },
    {
     "data": {
      "image/png": "[encoded data removed]",
      "text/plain": [
       "<Figure size 1152x432 with 1 Axes>"
      ]
     },
     "metadata": {},
     "output_type": "display_data"
    }
   ],
   "source": [
    "# plotting cv results\n",
    "plt.figure(figsize=(16,6))\n",
    "\n",
    "plt.plot(cv_results[\"param_n_features_to_select\"], cv_results[\"mean_test_score\"])\n",
    "plt.plot(cv_results[\"param_n_features_to_select\"], cv_results[\"mean_train_score\"])\n",
    "plt.xlabel('number of features')\n",
    "plt.ylabel('RMSE Score')\n",
    "plt.title(\"Optimal Number of Features\")\n",
    "plt.legend(['test score', 'train score'], loc='upper left')"
   ]
  },
  {
   "cell_type": "markdown",
   "metadata": {},
   "source": [
    "* The chart suggests that there is very less difference between Train score and test score which suggests that our model is not overfitted."
   ]
  },
  {
   "cell_type": "code",
   "execution_count": null,
   "metadata": {},
   "outputs": [],
   "source": []
  },
  {
   "cell_type": "code",
   "execution_count": 236,
   "metadata": {},
   "outputs": [],
   "source": [
    "from sklearn.feature_selection import RFE\n",
    "\n",
    "xgb_reg = XGBRegressor(n_estimators=350,learning_rate=0.05, max_depth=12,min_child_weight=15,random_state=0,n_jobs=-1)\n",
    "xgb_reg.fit(X_train_,y_train_)\n",
    "\n",
    "rfe = RFE(xgb_reg, n_features_to_select = 10)\n",
    "rfe = rfe.fit(X_train_,y_train_)"
   ]
  },
  {
   "cell_type": "code",
   "execution_count": 237,
   "metadata": {},
   "outputs": [
    {
     "data": {
      "text/plain": [
       "[('Gender', True, 1),\n",
       " ('Age', True, 1),\n",
       " ('Occupation', True, 1),\n",
       " ('City_Category', True, 1),\n",
       " ('Stay_In_Current_City_Years', False, 2),\n",
       " ('Marital_Status', False, 4),\n",
       " ('Product_Category_1', True, 1),\n",
       " ('Product_Category_2', True, 1),\n",
       " ('Product_Category_3', True, 1),\n",
       " ('Total_category', False, 7),\n",
       " ('Product_popularity_Score', True, 1),\n",
       " ('User_popularity_Score', True, 1),\n",
       " ('Ocupation_Score', False, 3),\n",
       " ('Male_ratio', False, 5),\n",
       " ('Female_ratio', False, 8),\n",
       " ('Population_Duration', False, 9),\n",
       " ('Cat1_Popularity_per_User', False, 6),\n",
       " ('Category1_Group', True, 1)]"
      ]
     },
     "execution_count": 237,
     "metadata": {},
     "output_type": "execute_result"
    }
   ],
   "source": [
    "list(zip(X_train_.columns,rfe.support_,rfe.ranking_))"
   ]
  },
  {
   "cell_type": "markdown",
   "metadata": {},
   "source": [
    "* These are the top 10 features according to Recursive feature Selection\n",
    "\n",
    "* Gender,Age,Occupation,City_Category,Product_Category_1,Product_Category_2,Product_Category_3,Product_popularity_Score,User_popularity_Score,Category1_Group"
   ]
  },
  {
   "cell_type": "markdown",
   "metadata": {},
   "source": [
    "--------------"
   ]
  },
  {
   "cell_type": "markdown",
   "metadata": {},
   "source": [
    "## 7 Model Selection and Hyperparameter Tuning "
   ]
  },
  {
   "cell_type": "markdown",
   "metadata": {},
   "source": [
    "## Base Models"
   ]
  },
  {
   "cell_type": "markdown",
   "metadata": {},
   "source": [
    "### Lasso Regression"
   ]
  },
  {
   "cell_type": "code",
   "execution_count": 282,
   "metadata": {},
   "outputs": [],
   "source": [
    "lassoReg = Lasso(alpha=0.5, normalize=True)\n",
    "lassoReg.fit(X_train_,y_train_)\n",
    "y_pred = lassoReg.predict(X_validation_)\n",
    "rmse_lasso = np.sqrt(mean_squared_error(y_pred, y_validation_))"
   ]
  },
  {
   "cell_type": "code",
   "execution_count": 284,
   "metadata": {},
   "outputs": [
    {
     "name": "stdout",
     "output_type": "stream",
     "text": [
      "RMSE for Lasso Regression: 4476.088687027634\n"
     ]
    }
   ],
   "source": [
    "print(f\"RMSE for Lasso Regression: {rmse_lasso}\")"
   ]
  },
  {
   "cell_type": "markdown",
   "metadata": {},
   "source": [
    "### Decision Tree Regressor"
   ]
  },
  {
   "cell_type": "code",
   "execution_count": 290,
   "metadata": {},
   "outputs": [],
   "source": [
    "model_DT = DecisionTreeRegressor(max_depth=7,min_samples_split=10,random_state=0)\n",
    "\n",
    "model_DT.fit(X_train_,y_train_)\n",
    "y_pred = model_DT.predict(X_validation_)\n",
    "rmse_model_DT = np.sqrt(mean_squared_error(y_pred, y_validation_))"
   ]
  },
  {
   "cell_type": "code",
   "execution_count": 291,
   "metadata": {},
   "outputs": [
    {
     "name": "stdout",
     "output_type": "stream",
     "text": [
      "RMSE for DT Regression: 2885.1605269606057\n"
     ]
    }
   ],
   "source": [
    "print(f\"RMSE for DT Regression: {rmse_model_DT}\")"
   ]
  },
  {
   "cell_type": "markdown",
   "metadata": {},
   "source": [
    "### Random Forest Regression"
   ]
  },
  {
   "cell_type": "code",
   "execution_count": 285,
   "metadata": {},
   "outputs": [],
   "source": [
    "model_randomforest = RandomForestRegressor(n_estimators=350, max_depth=7,random_state=0,n_jobs=-1)\n",
    "\n",
    "model_randomforest.fit(X_train_,y_train_)\n",
    "y_pred = model_randomforest.predict(X_validation_)\n",
    "rmse_model_randomforest = np.sqrt(mean_squared_error(y_pred, y_validation_))"
   ]
  },
  {
   "cell_type": "code",
   "execution_count": 287,
   "metadata": {},
   "outputs": [
    {
     "name": "stdout",
     "output_type": "stream",
     "text": [
      "RMSE for Random forest Regression: 2871.367496396862\n"
     ]
    }
   ],
   "source": [
    "print(f\"RMSE for Random forest Regression: {rmse_model_randomforest}\")"
   ]
  },
  {
   "cell_type": "markdown",
   "metadata": {},
   "source": [
    "--------------------"
   ]
  },
  {
   "cell_type": "markdown",
   "metadata": {},
   "source": [
    "## XG Boost"
   ]
  },
  {
   "cell_type": "markdown",
   "metadata": {},
   "source": [
    "### XGB Regressor without Cross validation - All the features"
   ]
  },
  {
   "cell_type": "code",
   "execution_count": 262,
   "metadata": {},
   "outputs": [
    {
     "data": {
      "text/plain": [
       "XGBRegressor(base_score=0.5, booster='gbtree', colsample_bylevel=1,\n",
       "             colsample_bynode=1, colsample_bytree=1, gamma=0, gpu_id=-1,\n",
       "             importance_type='gain', interaction_constraints='',\n",
       "             learning_rate=0.05, max_delta_step=0, max_depth=7,\n",
       "             min_child_weight=15, missing=nan, monotone_constraints='()',\n",
       "             n_estimators=350, n_jobs=-1, num_parallel_tree=1,\n",
       "             objective='reg:squarederror', random_state=0, reg_alpha=0,\n",
       "             reg_lambda=1, scale_pos_weight=1, subsample=1, tree_method='exact',\n",
       "             validate_parameters=1, verbosity=None)"
      ]
     },
     "execution_count": 262,
     "metadata": {},
     "output_type": "execute_result"
    }
   ],
   "source": [
    "#RMSE - 2599.10 (learning_rate=0.2, max_depth=7, min_child_weight=15, random_state=0)\n",
    "\n",
    "xgb_reg = XGBRegressor(n_estimators=350,learning_rate=0.05, max_depth=7,min_child_weight=15,random_state=0,n_jobs=-1)\n",
    "\n",
    "xgb_reg.fit(X_train_,y_train_)\n",
    "y_pred = xgb_reg.predict(X_validation_)\n",
    "rmse_xgb = np.sqrt(mean_squared_error(y_pred, y_validation_))\n",
    "\n",
    "xgb_reg"
   ]
  },
  {
   "cell_type": "code",
   "execution_count": 263,
   "metadata": {},
   "outputs": [],
   "source": [
    "y_pred = xgb_reg.predict(X_validation_)\n",
    "rmse_xgb = np.sqrt(mean_squared_error(y_pred, y_validation_))"
   ]
  },
  {
   "cell_type": "code",
   "execution_count": 264,
   "metadata": {},
   "outputs": [
    {
     "data": {
      "text/plain": [
       "2836.3574656104597"
      ]
     },
     "execution_count": 264,
     "metadata": {},
     "output_type": "execute_result"
    }
   ],
   "source": [
    "rmse_xgb"
   ]
  },
  {
   "cell_type": "code",
   "execution_count": 265,
   "metadata": {},
   "outputs": [],
   "source": [
    "xgb_score = xgb_reg.score(X_validation_,y_validation_)"
   ]
  },
  {
   "cell_type": "code",
   "execution_count": 266,
   "metadata": {},
   "outputs": [
    {
     "data": {
      "text/plain": [
       "0.6819416091130281"
      ]
     },
     "execution_count": 266,
     "metadata": {},
     "output_type": "execute_result"
    }
   ],
   "source": [
    "xgb_score"
   ]
  },
  {
   "cell_type": "markdown",
   "metadata": {},
   "source": [
    "### XGB Regressor with Cross Validation\n",
    "\n",
    "* I have used 5 fold Cross Validation and scoring Parameter is RMSE"
   ]
  },
  {
   "cell_type": "code",
   "execution_count": 267,
   "metadata": {},
   "outputs": [],
   "source": [
    "from sklearn.model_selection import KFold\n",
    "from sklearn.model_selection import GridSearchCV"
   ]
  },
  {
   "cell_type": "markdown",
   "metadata": {},
   "source": [
    "####  Validation RMSE score"
   ]
  },
  {
   "cell_type": "code",
   "execution_count": 268,
   "metadata": {},
   "outputs": [],
   "source": [
    "from sklearn.model_selection import cross_val_score\n",
    "folds = KFold(n_splits = 5, shuffle = True, random_state = 0)\n",
    "avg_validation_score = np.mean(-cross_val_score(xgb_reg,X_validation_,y_validation_,cv=folds,scoring = 'neg_root_mean_squared_error'))"
   ]
  },
  {
   "cell_type": "code",
   "execution_count": 269,
   "metadata": {},
   "outputs": [
    {
     "data": {
      "text/plain": [
       "2659.2562199374074"
      ]
     },
     "execution_count": 269,
     "metadata": {},
     "output_type": "execute_result"
    }
   ],
   "source": [
    "avg_validation_score"
   ]
  },
  {
   "cell_type": "markdown",
   "metadata": {},
   "source": [
    "#### Train RMSE Score"
   ]
  },
  {
   "cell_type": "code",
   "execution_count": 270,
   "metadata": {},
   "outputs": [],
   "source": [
    "from sklearn.model_selection import cross_val_score\n",
    "folds = KFold(n_splits = 5, shuffle = True, random_state = 0)\n",
    "avg_training_score = np.mean(-cross_val_score(xgb_reg,X_train_,y_train_,cv=folds,scoring = 'neg_root_mean_squared_error'))"
   ]
  },
  {
   "cell_type": "code",
   "execution_count": 271,
   "metadata": {},
   "outputs": [
    {
     "data": {
      "text/plain": [
       "2642.7839276357854"
      ]
     },
     "execution_count": 271,
     "metadata": {},
     "output_type": "execute_result"
    }
   ],
   "source": [
    "avg_training_score"
   ]
  },
  {
   "cell_type": "markdown",
   "metadata": {},
   "source": [
    "----------------------------------------------------------------------------------------------------------------------"
   ]
  },
  {
   "cell_type": "markdown",
   "metadata": {},
   "source": [
    "### XGB Regressor without Cross validation - with Top 10 featurtes"
   ]
  },
  {
   "cell_type": "code",
   "execution_count": 239,
   "metadata": {},
   "outputs": [],
   "source": [
    "X_train_ = X_train_[['Gender','Age','Occupation','City_Category','Product_Category_1','Product_Category_2','Product_Category_3','Product_popularity_Score','User_popularity_Score','Category1_Group']]\n",
    "X_validation_ = X_validation_[['Gender','Age','Occupation','City_Category','Product_Category_1','Product_Category_2','Product_Category_3','Product_popularity_Score','User_popularity_Score','Category1_Group']]"
   ]
  },
  {
   "cell_type": "code",
   "execution_count": 240,
   "metadata": {},
   "outputs": [
    {
     "data": {
      "text/plain": [
       "XGBRegressor(base_score=0.5, booster='gbtree', colsample_bylevel=1,\n",
       "             colsample_bynode=1, colsample_bytree=1, gamma=0, gpu_id=-1,\n",
       "             importance_type='gain', interaction_constraints='',\n",
       "             learning_rate=0.05, max_delta_step=0, max_depth=7,\n",
       "             min_child_weight=15, missing=nan, monotone_constraints='()',\n",
       "             n_estimators=350, n_jobs=-1, num_parallel_tree=1,\n",
       "             objective='reg:squarederror', random_state=0, reg_alpha=0,\n",
       "             reg_lambda=1, scale_pos_weight=1, subsample=1, tree_method='exact',\n",
       "             validate_parameters=1, verbosity=None)"
      ]
     },
     "execution_count": 240,
     "metadata": {},
     "output_type": "execute_result"
    }
   ],
   "source": [
    "#RMSE - 2599.10 (learning_rate=0.2, max_depth=7, min_child_weight=15, random_state=0)\n",
    "\n",
    "xgb_reg = XGBRegressor(n_estimators=350,learning_rate=0.05, max_depth=7,min_child_weight=15,random_state=0,n_jobs=-1)\n",
    "\n",
    "xgb_reg.fit(X_train_,y_train_)\n",
    "y_pred = xgb_reg.predict(X_validation_)\n",
    "rmse_xgb = np.sqrt(mean_squared_error(y_pred, y_validation_))\n",
    "\n",
    "xgb_reg"
   ]
  },
  {
   "cell_type": "code",
   "execution_count": 243,
   "metadata": {},
   "outputs": [],
   "source": [
    "y_pred = xgb_reg.predict(X_validation_)\n",
    "rmse_xgb = np.sqrt(mean_squared_error(y_pred, y_validation_))"
   ]
  },
  {
   "cell_type": "code",
   "execution_count": 244,
   "metadata": {},
   "outputs": [
    {
     "data": {
      "text/plain": [
       "2836.3574656104597"
      ]
     },
     "execution_count": 244,
     "metadata": {},
     "output_type": "execute_result"
    }
   ],
   "source": [
    "rmse_xgb"
   ]
  },
  {
   "cell_type": "code",
   "execution_count": null,
   "metadata": {},
   "outputs": [],
   "source": []
  },
  {
   "cell_type": "code",
   "execution_count": 241,
   "metadata": {},
   "outputs": [],
   "source": [
    "from sklearn.model_selection import cross_val_score\n",
    "folds = KFold(n_splits = 5, shuffle = True, random_state = 0)\n",
    "avg_score = np.mean(-cross_val_score(xgb_reg,X_validation_,y_validation_,cv=folds,scoring = 'neg_root_mean_squared_error'))"
   ]
  },
  {
   "cell_type": "code",
   "execution_count": 242,
   "metadata": {},
   "outputs": [
    {
     "data": {
      "text/plain": [
       "2659.2562199374074"
      ]
     },
     "execution_count": 242,
     "metadata": {},
     "output_type": "execute_result"
    }
   ],
   "source": [
    "avg_score"
   ]
  },
  {
   "cell_type": "code",
   "execution_count": null,
   "metadata": {},
   "outputs": [],
   "source": []
  },
  {
   "cell_type": "markdown",
   "metadata": {},
   "source": [
    "---------------------------------------------------------------------------------------------------------------------------"
   ]
  }
 ],
 "metadata": {
  "kernelspec": {
   "display_name": "Python 3",
   "language": "python",
   "name": "python3"
  },
  "language_info": {
   "codemirror_mode": {
    "name": "ipython",
    "version": 3
   },
   "file_extension": ".py",
   "mimetype": "text/x-python",
   "name": "python",
   "nbconvert_exporter": "python",
   "pygments_lexer": "ipython3",
   "version": "3.7.6"
  }
 },
 "nbformat": 4,
 "nbformat_minor": 4
}
